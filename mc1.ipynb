{
 "cells": [
  {
   "cell_type": "code",
   "execution_count": 2,
   "metadata": {},
   "outputs": [],
   "source": [
    "import pandas as pd\n",
    "import json\n",
    "import matplotlib.pyplot as plt"
   ]
  },
  {
   "cell_type": "code",
   "execution_count": 3,
   "metadata": {},
   "outputs": [],
   "source": [
    "# Replace 'your_file.json' with your actual file path\n",
    "with open('data/mc1.json', 'r') as f:\n",
    "\tdata = json.load(f)\n",
    "\n",
    "# Extract the nodes list\n",
    "nodes = data[\"nodes\"]\n",
    "links = data[\"links\"]\n",
    "# Create a DataFrame from nodes\n",
    "df_nodes = pd.DataFrame(nodes)\n",
    "df_links = pd.DataFrame(links)"
   ]
  },
  {
   "cell_type": "code",
   "execution_count": 3,
   "metadata": {},
   "outputs": [
    {
     "data": {
      "text/html": [
       "<div>\n",
       "<style scoped>\n",
       "    .dataframe tbody tr th:only-of-type {\n",
       "        vertical-align: middle;\n",
       "    }\n",
       "\n",
       "    .dataframe tbody tr th {\n",
       "        vertical-align: top;\n",
       "    }\n",
       "\n",
       "    .dataframe thead th {\n",
       "        text-align: right;\n",
       "    }\n",
       "</style>\n",
       "<table border=\"1\" class=\"dataframe\">\n",
       "  <thead>\n",
       "    <tr style=\"text-align: right;\">\n",
       "      <th></th>\n",
       "      <th>type</th>\n",
       "      <th>country</th>\n",
       "      <th>id</th>\n",
       "      <th>dob</th>\n",
       "    </tr>\n",
       "  </thead>\n",
       "  <tbody>\n",
       "    <tr>\n",
       "      <th>0</th>\n",
       "      <td>Entity.Organization.FishingCompany</td>\n",
       "      <td>Oceanus</td>\n",
       "      <td>Sanchez-Moreno</td>\n",
       "      <td>NaN</td>\n",
       "    </tr>\n",
       "    <tr>\n",
       "      <th>1</th>\n",
       "      <td>Entity.Organization.FishingCompany</td>\n",
       "      <td>Oceanus</td>\n",
       "      <td>Frey Inc</td>\n",
       "      <td>NaN</td>\n",
       "    </tr>\n",
       "    <tr>\n",
       "      <th>2</th>\n",
       "      <td>Entity.Organization.FishingCompany</td>\n",
       "      <td>Oceanus</td>\n",
       "      <td>Bowers Group</td>\n",
       "      <td>NaN</td>\n",
       "    </tr>\n",
       "    <tr>\n",
       "      <th>3</th>\n",
       "      <td>Entity.Organization.FishingCompany</td>\n",
       "      <td>Oceanus</td>\n",
       "      <td>Franco-Stuart</td>\n",
       "      <td>NaN</td>\n",
       "    </tr>\n",
       "    <tr>\n",
       "      <th>4</th>\n",
       "      <td>Entity.Organization.FishingCompany</td>\n",
       "      <td>Oceanus</td>\n",
       "      <td>Murphy, Marshall and Pope</td>\n",
       "      <td>NaN</td>\n",
       "    </tr>\n",
       "    <tr>\n",
       "      <th>...</th>\n",
       "      <td>...</td>\n",
       "      <td>...</td>\n",
       "      <td>...</td>\n",
       "      <td>...</td>\n",
       "    </tr>\n",
       "    <tr>\n",
       "      <th>210</th>\n",
       "      <td>Entity.Organization.GovernmentOrg</td>\n",
       "      <td>Oceanus</td>\n",
       "      <td>City Of Centralia</td>\n",
       "      <td>NaN</td>\n",
       "    </tr>\n",
       "    <tr>\n",
       "      <th>211</th>\n",
       "      <td>Entity.Organization.GovernmentOrg</td>\n",
       "      <td>Oceanus</td>\n",
       "      <td>City Of South Paackland</td>\n",
       "      <td>NaN</td>\n",
       "    </tr>\n",
       "    <tr>\n",
       "      <th>212</th>\n",
       "      <td>Entity.Organization.GovernmentOrg</td>\n",
       "      <td>Oceanus</td>\n",
       "      <td>City Of Port Grove</td>\n",
       "      <td>NaN</td>\n",
       "    </tr>\n",
       "    <tr>\n",
       "      <th>213</th>\n",
       "      <td>Entity.Organization.GovernmentOrg</td>\n",
       "      <td>Oceanus</td>\n",
       "      <td>City Of Himark</td>\n",
       "      <td>NaN</td>\n",
       "    </tr>\n",
       "    <tr>\n",
       "      <th>214</th>\n",
       "      <td>Entity.Organization.LogisticsCompany</td>\n",
       "      <td>Oceanus</td>\n",
       "      <td>Osborne and Sons</td>\n",
       "      <td>NaN</td>\n",
       "    </tr>\n",
       "  </tbody>\n",
       "</table>\n",
       "<p>215 rows × 4 columns</p>\n",
       "</div>"
      ],
      "text/plain": [
       "                                     type  country                         id  \\\n",
       "0      Entity.Organization.FishingCompany  Oceanus             Sanchez-Moreno   \n",
       "1      Entity.Organization.FishingCompany  Oceanus                   Frey Inc   \n",
       "2      Entity.Organization.FishingCompany  Oceanus               Bowers Group   \n",
       "3      Entity.Organization.FishingCompany  Oceanus              Franco-Stuart   \n",
       "4      Entity.Organization.FishingCompany  Oceanus  Murphy, Marshall and Pope   \n",
       "..                                    ...      ...                        ...   \n",
       "210     Entity.Organization.GovernmentOrg  Oceanus          City Of Centralia   \n",
       "211     Entity.Organization.GovernmentOrg  Oceanus    City Of South Paackland   \n",
       "212     Entity.Organization.GovernmentOrg  Oceanus         City Of Port Grove   \n",
       "213     Entity.Organization.GovernmentOrg  Oceanus             City Of Himark   \n",
       "214  Entity.Organization.LogisticsCompany  Oceanus           Osborne and Sons   \n",
       "\n",
       "     dob  \n",
       "0    NaN  \n",
       "1    NaN  \n",
       "2    NaN  \n",
       "3    NaN  \n",
       "4    NaN  \n",
       "..   ...  \n",
       "210  NaN  \n",
       "211  NaN  \n",
       "212  NaN  \n",
       "213  NaN  \n",
       "214  NaN  \n",
       "\n",
       "[215 rows x 4 columns]"
      ]
     },
     "execution_count": 3,
     "metadata": {},
     "output_type": "execute_result"
    }
   ],
   "source": [
    "df_nodes"
   ]
  },
  {
   "cell_type": "code",
   "execution_count": null,
   "metadata": {},
   "outputs": [
    {
     "data": {
      "text/plain": [
       "array(['Entity.Organization.FishingCompany',\n",
       "       'Entity.Organization.Company', 'Entity.Location.Region',\n",
       "       'Entity.Person', 'Entity.Organization.LogisticsCompany',\n",
       "       'Entity.Organization.NGO', 'Entity.Commodity',\n",
       "       'Entity.Organization', 'Entity.Organization.GovernmentOrg'],\n",
       "      dtype=object)"
      ]
     },
     "execution_count": 25,
     "metadata": {},
     "output_type": "execute_result"
    }
   ],
   "source": [
    "df_nodes['type'].unique()"
   ]
  },
  {
   "cell_type": "code",
   "execution_count": 6,
   "metadata": {},
   "outputs": [
    {
     "data": {
      "text/html": [
       "<div>\n",
       "<style scoped>\n",
       "    .dataframe tbody tr th:only-of-type {\n",
       "        vertical-align: middle;\n",
       "    }\n",
       "\n",
       "    .dataframe tbody tr th {\n",
       "        vertical-align: top;\n",
       "    }\n",
       "\n",
       "    .dataframe thead th {\n",
       "        text-align: right;\n",
       "    }\n",
       "</style>\n",
       "<table border=\"1\" class=\"dataframe\">\n",
       "  <thead>\n",
       "    <tr style=\"text-align: right;\">\n",
       "      <th></th>\n",
       "      <th>type</th>\n",
       "      <th>_date_added</th>\n",
       "      <th>_raw_source</th>\n",
       "      <th>_algorithm</th>\n",
       "      <th>_last_edited_by</th>\n",
       "      <th>_last_edited_date</th>\n",
       "      <th>_articleid</th>\n",
       "      <th>source</th>\n",
       "      <th>target</th>\n",
       "      <th>key</th>\n",
       "    </tr>\n",
       "  </thead>\n",
       "  <tbody>\n",
       "    <tr>\n",
       "      <th>0</th>\n",
       "      <td>Event.Invest</td>\n",
       "      <td>2035-03-13T19:00:00</td>\n",
       "      <td>Haacklee Herald</td>\n",
       "      <td>BassLine</td>\n",
       "      <td>Junior Shurdlu</td>\n",
       "      <td>2035-03-13T19:00:00</td>\n",
       "      <td>Sanchez-Moreno__0__0__Haacklee Herald</td>\n",
       "      <td>Sanchez-Moreno</td>\n",
       "      <td>Sustainable_nets</td>\n",
       "      <td>0</td>\n",
       "    </tr>\n",
       "    <tr>\n",
       "      <th>1</th>\n",
       "      <td>Event.Invest</td>\n",
       "      <td>2035-03-19T11:00:00</td>\n",
       "      <td>Lomark Daily</td>\n",
       "      <td>ShadGPT</td>\n",
       "      <td>Olokun Daramola</td>\n",
       "      <td>2035-03-19T11:00:00</td>\n",
       "      <td>Sanchez-Moreno__0__0__Lomark Daily</td>\n",
       "      <td>Sanchez-Moreno</td>\n",
       "      <td>Sustainable_nets</td>\n",
       "      <td>1</td>\n",
       "    </tr>\n",
       "    <tr>\n",
       "      <th>2</th>\n",
       "      <td>Event.Invest</td>\n",
       "      <td>2035-04-10T12:00:00</td>\n",
       "      <td>Haacklee Herald</td>\n",
       "      <td>BassLine</td>\n",
       "      <td>Jack Inch</td>\n",
       "      <td>2035-04-10T12:00:00</td>\n",
       "      <td>Sanchez-Moreno__0__0__Haacklee Herald</td>\n",
       "      <td>Sanchez-Moreno</td>\n",
       "      <td>Sustainable_nets</td>\n",
       "      <td>2</td>\n",
       "    </tr>\n",
       "    <tr>\n",
       "      <th>3</th>\n",
       "      <td>Event.Invest</td>\n",
       "      <td>2035-05-06T12:00:00</td>\n",
       "      <td>Lomark Daily</td>\n",
       "      <td>ShadGPT</td>\n",
       "      <td>Niklaus Oberon</td>\n",
       "      <td>2035-05-06T12:00:00</td>\n",
       "      <td>Sanchez-Moreno__0__0__Lomark Daily</td>\n",
       "      <td>Sanchez-Moreno</td>\n",
       "      <td>Sustainable_nets</td>\n",
       "      <td>3</td>\n",
       "    </tr>\n",
       "    <tr>\n",
       "      <th>4</th>\n",
       "      <td>Event.Invest</td>\n",
       "      <td>2035-05-23T18:00:00</td>\n",
       "      <td>Haacklee Herald</td>\n",
       "      <td>BassLine</td>\n",
       "      <td>Melinda Manning</td>\n",
       "      <td>2035-05-23T18:00:00</td>\n",
       "      <td>Sanchez-Moreno__0__0__Haacklee Herald</td>\n",
       "      <td>Sanchez-Moreno</td>\n",
       "      <td>Sustainable_nets</td>\n",
       "      <td>4</td>\n",
       "    </tr>\n",
       "    <tr>\n",
       "      <th>...</th>\n",
       "      <td>...</td>\n",
       "      <td>...</td>\n",
       "      <td>...</td>\n",
       "      <td>...</td>\n",
       "      <td>...</td>\n",
       "      <td>...</td>\n",
       "      <td>...</td>\n",
       "      <td>...</td>\n",
       "      <td>...</td>\n",
       "      <td>...</td>\n",
       "    </tr>\n",
       "    <tr>\n",
       "      <th>16226</th>\n",
       "      <td>Event.CertificateIssued.Summons</td>\n",
       "      <td>2035-05-09T20:00:00</td>\n",
       "      <td>The News Buoy</td>\n",
       "      <td>ShadGPT</td>\n",
       "      <td>Haenyeo Hyun-Ki</td>\n",
       "      <td>2035-05-09T20:00:00</td>\n",
       "      <td>Jones Group__0__0__The News Buoy</td>\n",
       "      <td>City Of Himark</td>\n",
       "      <td>Raymond LLC</td>\n",
       "      <td>13</td>\n",
       "    </tr>\n",
       "    <tr>\n",
       "      <th>16227</th>\n",
       "      <td>Event.CertificateIssued.Summons</td>\n",
       "      <td>2035-06-28T10:00:00</td>\n",
       "      <td>Haacklee Herald</td>\n",
       "      <td>ShadGPT</td>\n",
       "      <td>Urashima Tarō</td>\n",
       "      <td>2035-06-28T10:00:00</td>\n",
       "      <td>Jones Group__0__0__Haacklee Herald</td>\n",
       "      <td>City Of Himark</td>\n",
       "      <td>Raymond LLC</td>\n",
       "      <td>14</td>\n",
       "    </tr>\n",
       "    <tr>\n",
       "      <th>16228</th>\n",
       "      <td>Event.CertificateIssued.Summons</td>\n",
       "      <td>2035-06-28T23:00:00</td>\n",
       "      <td>Himark Police Reports</td>\n",
       "      <td>BassLine</td>\n",
       "      <td>Pelagia Alethea Mordoch</td>\n",
       "      <td>2035-06-28T23:00:00</td>\n",
       "      <td>Jones Group__0__0__Lomark Daily</td>\n",
       "      <td>City Of Himark</td>\n",
       "      <td>Raymond LLC</td>\n",
       "      <td>15</td>\n",
       "    </tr>\n",
       "    <tr>\n",
       "      <th>16229</th>\n",
       "      <td>Event.CertificateIssued.Summons</td>\n",
       "      <td>2035-06-28T23:00:00</td>\n",
       "      <td>Lomark Daily</td>\n",
       "      <td>BassLine</td>\n",
       "      <td>Pelagia Alethea Mordoch</td>\n",
       "      <td>2035-06-28T23:00:00</td>\n",
       "      <td>Jones Group__0__0__Lomark Daily</td>\n",
       "      <td>City Of Himark</td>\n",
       "      <td>Raymond LLC</td>\n",
       "      <td>16</td>\n",
       "    </tr>\n",
       "    <tr>\n",
       "      <th>16230</th>\n",
       "      <td>Event.CertificateIssued.Summons</td>\n",
       "      <td>2035-06-28T08:00:00</td>\n",
       "      <td>The News Buoy</td>\n",
       "      <td>BassLine</td>\n",
       "      <td>Harvey Janus</td>\n",
       "      <td>2035-06-28T08:00:00</td>\n",
       "      <td>Jones Group__0__0__The News Buoy</td>\n",
       "      <td>City Of Himark</td>\n",
       "      <td>Raymond LLC</td>\n",
       "      <td>17</td>\n",
       "    </tr>\n",
       "  </tbody>\n",
       "</table>\n",
       "<p>16231 rows × 10 columns</p>\n",
       "</div>"
      ],
      "text/plain": [
       "                                  type          _date_added  \\\n",
       "0                         Event.Invest  2035-03-13T19:00:00   \n",
       "1                         Event.Invest  2035-03-19T11:00:00   \n",
       "2                         Event.Invest  2035-04-10T12:00:00   \n",
       "3                         Event.Invest  2035-05-06T12:00:00   \n",
       "4                         Event.Invest  2035-05-23T18:00:00   \n",
       "...                                ...                  ...   \n",
       "16226  Event.CertificateIssued.Summons  2035-05-09T20:00:00   \n",
       "16227  Event.CertificateIssued.Summons  2035-06-28T10:00:00   \n",
       "16228  Event.CertificateIssued.Summons  2035-06-28T23:00:00   \n",
       "16229  Event.CertificateIssued.Summons  2035-06-28T23:00:00   \n",
       "16230  Event.CertificateIssued.Summons  2035-06-28T08:00:00   \n",
       "\n",
       "                 _raw_source _algorithm          _last_edited_by  \\\n",
       "0            Haacklee Herald   BassLine           Junior Shurdlu   \n",
       "1               Lomark Daily    ShadGPT          Olokun Daramola   \n",
       "2            Haacklee Herald   BassLine                Jack Inch   \n",
       "3               Lomark Daily    ShadGPT           Niklaus Oberon   \n",
       "4            Haacklee Herald   BassLine          Melinda Manning   \n",
       "...                      ...        ...                      ...   \n",
       "16226          The News Buoy    ShadGPT          Haenyeo Hyun-Ki   \n",
       "16227        Haacklee Herald    ShadGPT            Urashima Tarō   \n",
       "16228  Himark Police Reports   BassLine  Pelagia Alethea Mordoch   \n",
       "16229           Lomark Daily   BassLine  Pelagia Alethea Mordoch   \n",
       "16230          The News Buoy   BassLine             Harvey Janus   \n",
       "\n",
       "         _last_edited_date                             _articleid  \\\n",
       "0      2035-03-13T19:00:00  Sanchez-Moreno__0__0__Haacklee Herald   \n",
       "1      2035-03-19T11:00:00     Sanchez-Moreno__0__0__Lomark Daily   \n",
       "2      2035-04-10T12:00:00  Sanchez-Moreno__0__0__Haacklee Herald   \n",
       "3      2035-05-06T12:00:00     Sanchez-Moreno__0__0__Lomark Daily   \n",
       "4      2035-05-23T18:00:00  Sanchez-Moreno__0__0__Haacklee Herald   \n",
       "...                    ...                                    ...   \n",
       "16226  2035-05-09T20:00:00       Jones Group__0__0__The News Buoy   \n",
       "16227  2035-06-28T10:00:00     Jones Group__0__0__Haacklee Herald   \n",
       "16228  2035-06-28T23:00:00        Jones Group__0__0__Lomark Daily   \n",
       "16229  2035-06-28T23:00:00        Jones Group__0__0__Lomark Daily   \n",
       "16230  2035-06-28T08:00:00       Jones Group__0__0__The News Buoy   \n",
       "\n",
       "               source            target  key  \n",
       "0      Sanchez-Moreno  Sustainable_nets    0  \n",
       "1      Sanchez-Moreno  Sustainable_nets    1  \n",
       "2      Sanchez-Moreno  Sustainable_nets    2  \n",
       "3      Sanchez-Moreno  Sustainable_nets    3  \n",
       "4      Sanchez-Moreno  Sustainable_nets    4  \n",
       "...               ...               ...  ...  \n",
       "16226  City Of Himark       Raymond LLC   13  \n",
       "16227  City Of Himark       Raymond LLC   14  \n",
       "16228  City Of Himark       Raymond LLC   15  \n",
       "16229  City Of Himark       Raymond LLC   16  \n",
       "16230  City Of Himark       Raymond LLC   17  \n",
       "\n",
       "[16231 rows x 10 columns]"
      ]
     },
     "execution_count": 6,
     "metadata": {},
     "output_type": "execute_result"
    }
   ],
   "source": [
    "df_links"
   ]
  },
  {
   "cell_type": "code",
   "execution_count": 9,
   "metadata": {},
   "outputs": [
    {
     "data": {
      "text/html": [
       "<div>\n",
       "<style scoped>\n",
       "    .dataframe tbody tr th:only-of-type {\n",
       "        vertical-align: middle;\n",
       "    }\n",
       "\n",
       "    .dataframe tbody tr th {\n",
       "        vertical-align: top;\n",
       "    }\n",
       "\n",
       "    .dataframe thead th {\n",
       "        text-align: right;\n",
       "    }\n",
       "</style>\n",
       "<table border=\"1\" class=\"dataframe\">\n",
       "  <thead>\n",
       "    <tr style=\"text-align: right;\">\n",
       "      <th></th>\n",
       "      <th>type</th>\n",
       "      <th>_date_added</th>\n",
       "      <th>_raw_source</th>\n",
       "      <th>_algorithm</th>\n",
       "      <th>_last_edited_by</th>\n",
       "      <th>_last_edited_date</th>\n",
       "      <th>_articleid</th>\n",
       "      <th>source</th>\n",
       "      <th>target</th>\n",
       "      <th>key</th>\n",
       "    </tr>\n",
       "  </thead>\n",
       "  <tbody>\n",
       "    <tr>\n",
       "      <th>12476</th>\n",
       "      <td>Event.Fishing.OverFishing</td>\n",
       "      <td>2035-04-13T17:00:00</td>\n",
       "      <td>Centralia Police Reports</td>\n",
       "      <td>BassLine</td>\n",
       "      <td>Urashima Tarō</td>\n",
       "      <td>2035-04-13T17:00:00</td>\n",
       "      <td>Jones Group__0__0__Lomark Daily</td>\n",
       "      <td>Conrad Ltd</td>\n",
       "      <td>Don Limpet Preserve</td>\n",
       "      <td>2</td>\n",
       "    </tr>\n",
       "    <tr>\n",
       "      <th>12479</th>\n",
       "      <td>Event.Fishing.OverFishing</td>\n",
       "      <td>2035-04-13T18:00:00</td>\n",
       "      <td>Centralia Police Reports</td>\n",
       "      <td>ShadGPT</td>\n",
       "      <td>Junior Shurdlu</td>\n",
       "      <td>2035-04-13T18:00:00</td>\n",
       "      <td>Jones Group__0__0__The News Buoy</td>\n",
       "      <td>Conrad Ltd</td>\n",
       "      <td>Don Limpet Preserve</td>\n",
       "      <td>5</td>\n",
       "    </tr>\n",
       "    <tr>\n",
       "      <th>12481</th>\n",
       "      <td>Event.Fishing.OverFishing</td>\n",
       "      <td>2035-02-12T23:00:00</td>\n",
       "      <td>Centralia Police Reports</td>\n",
       "      <td>BassLine</td>\n",
       "      <td>Melinda Manning</td>\n",
       "      <td>2035-02-12T23:00:00</td>\n",
       "      <td>Jones Group__0__0__Haacklee Herald</td>\n",
       "      <td>Conrad Ltd</td>\n",
       "      <td>Nemo Reef</td>\n",
       "      <td>0</td>\n",
       "    </tr>\n",
       "    <tr>\n",
       "      <th>12482</th>\n",
       "      <td>Event.Fishing.OverFishing</td>\n",
       "      <td>2035-02-12T23:00:00</td>\n",
       "      <td>Centralia Police Reports</td>\n",
       "      <td>BassLine</td>\n",
       "      <td>Melinda Manning</td>\n",
       "      <td>2035-02-12T23:00:00</td>\n",
       "      <td>Jones Group__0__0__Haacklee Herald</td>\n",
       "      <td>Conrad Ltd</td>\n",
       "      <td>Nemo Reef</td>\n",
       "      <td>1</td>\n",
       "    </tr>\n",
       "    <tr>\n",
       "      <th>12483</th>\n",
       "      <td>Event.Fishing.OverFishing</td>\n",
       "      <td>2035-04-13T17:00:00</td>\n",
       "      <td>Centralia Police Reports</td>\n",
       "      <td>BassLine</td>\n",
       "      <td>Urashima Tarō</td>\n",
       "      <td>2035-04-13T17:00:00</td>\n",
       "      <td>Jones Group__0__0__Lomark Daily</td>\n",
       "      <td>Conrad Ltd</td>\n",
       "      <td>Nemo Reef</td>\n",
       "      <td>2</td>\n",
       "    </tr>\n",
       "    <tr>\n",
       "      <th>...</th>\n",
       "      <td>...</td>\n",
       "      <td>...</td>\n",
       "      <td>...</td>\n",
       "      <td>...</td>\n",
       "      <td>...</td>\n",
       "      <td>...</td>\n",
       "      <td>...</td>\n",
       "      <td>...</td>\n",
       "      <td>...</td>\n",
       "      <td>...</td>\n",
       "    </tr>\n",
       "    <tr>\n",
       "      <th>15310</th>\n",
       "      <td>Event.CertificateIssued.Summons</td>\n",
       "      <td>2035-06-15T01:00:00</td>\n",
       "      <td>Centralia Police Reports</td>\n",
       "      <td>BassLine</td>\n",
       "      <td>Greta Grass-Hill</td>\n",
       "      <td>2035-06-15T01:00:00</td>\n",
       "      <td>Jones Group__0__0__The News Buoy</td>\n",
       "      <td>City Of Centralia</td>\n",
       "      <td>FlounderLeska Marine BV</td>\n",
       "      <td>4</td>\n",
       "    </tr>\n",
       "    <tr>\n",
       "      <th>15327</th>\n",
       "      <td>Event.CertificateIssued.Summons</td>\n",
       "      <td>2035-04-08T21:00:00</td>\n",
       "      <td>Centralia Police Reports</td>\n",
       "      <td>BassLine</td>\n",
       "      <td>Melinda Manning</td>\n",
       "      <td>2035-04-08T21:00:00</td>\n",
       "      <td>Jones Group__0__0__Haacklee Herald</td>\n",
       "      <td>City Of Centralia</td>\n",
       "      <td>Namorna Transit Ltd</td>\n",
       "      <td>5</td>\n",
       "    </tr>\n",
       "    <tr>\n",
       "      <th>15329</th>\n",
       "      <td>Event.CertificateIssued.Summons</td>\n",
       "      <td>2035-04-08T13:00:00</td>\n",
       "      <td>Centralia Police Reports</td>\n",
       "      <td>ShadGPT</td>\n",
       "      <td>Melinda Manning</td>\n",
       "      <td>2035-04-08T13:00:00</td>\n",
       "      <td>Jones Group__0__0__Lomark Daily</td>\n",
       "      <td>City Of Centralia</td>\n",
       "      <td>Namorna Transit Ltd</td>\n",
       "      <td>7</td>\n",
       "    </tr>\n",
       "    <tr>\n",
       "      <th>15332</th>\n",
       "      <td>Event.CertificateIssued.Summons</td>\n",
       "      <td>2035-04-21T20:00:00</td>\n",
       "      <td>Centralia Police Reports</td>\n",
       "      <td>ShadGPT</td>\n",
       "      <td>Worf Peer</td>\n",
       "      <td>2035-04-21T20:00:00</td>\n",
       "      <td>Jones Group__0__0__Lomark Daily</td>\n",
       "      <td>City Of Centralia</td>\n",
       "      <td>Namorna Transit Ltd</td>\n",
       "      <td>10</td>\n",
       "    </tr>\n",
       "    <tr>\n",
       "      <th>15333</th>\n",
       "      <td>Event.CertificateIssued.Summons</td>\n",
       "      <td>2035-04-21T20:00:00</td>\n",
       "      <td>Centralia Police Reports</td>\n",
       "      <td>ShadGPT</td>\n",
       "      <td>Worf Peer</td>\n",
       "      <td>2035-04-21T20:00:00</td>\n",
       "      <td>Jones Group__0__0__Lomark Daily</td>\n",
       "      <td>City Of Centralia</td>\n",
       "      <td>Namorna Transit Ltd</td>\n",
       "      <td>11</td>\n",
       "    </tr>\n",
       "  </tbody>\n",
       "</table>\n",
       "<p>65 rows × 10 columns</p>\n",
       "</div>"
      ],
      "text/plain": [
       "                                  type          _date_added  \\\n",
       "12476        Event.Fishing.OverFishing  2035-04-13T17:00:00   \n",
       "12479        Event.Fishing.OverFishing  2035-04-13T18:00:00   \n",
       "12481        Event.Fishing.OverFishing  2035-02-12T23:00:00   \n",
       "12482        Event.Fishing.OverFishing  2035-02-12T23:00:00   \n",
       "12483        Event.Fishing.OverFishing  2035-04-13T17:00:00   \n",
       "...                                ...                  ...   \n",
       "15310  Event.CertificateIssued.Summons  2035-06-15T01:00:00   \n",
       "15327  Event.CertificateIssued.Summons  2035-04-08T21:00:00   \n",
       "15329  Event.CertificateIssued.Summons  2035-04-08T13:00:00   \n",
       "15332  Event.CertificateIssued.Summons  2035-04-21T20:00:00   \n",
       "15333  Event.CertificateIssued.Summons  2035-04-21T20:00:00   \n",
       "\n",
       "                    _raw_source _algorithm   _last_edited_by  \\\n",
       "12476  Centralia Police Reports   BassLine     Urashima Tarō   \n",
       "12479  Centralia Police Reports    ShadGPT    Junior Shurdlu   \n",
       "12481  Centralia Police Reports   BassLine   Melinda Manning   \n",
       "12482  Centralia Police Reports   BassLine   Melinda Manning   \n",
       "12483  Centralia Police Reports   BassLine     Urashima Tarō   \n",
       "...                         ...        ...               ...   \n",
       "15310  Centralia Police Reports   BassLine  Greta Grass-Hill   \n",
       "15327  Centralia Police Reports   BassLine   Melinda Manning   \n",
       "15329  Centralia Police Reports    ShadGPT   Melinda Manning   \n",
       "15332  Centralia Police Reports    ShadGPT         Worf Peer   \n",
       "15333  Centralia Police Reports    ShadGPT         Worf Peer   \n",
       "\n",
       "         _last_edited_date                          _articleid  \\\n",
       "12476  2035-04-13T17:00:00     Jones Group__0__0__Lomark Daily   \n",
       "12479  2035-04-13T18:00:00    Jones Group__0__0__The News Buoy   \n",
       "12481  2035-02-12T23:00:00  Jones Group__0__0__Haacklee Herald   \n",
       "12482  2035-02-12T23:00:00  Jones Group__0__0__Haacklee Herald   \n",
       "12483  2035-04-13T17:00:00     Jones Group__0__0__Lomark Daily   \n",
       "...                    ...                                 ...   \n",
       "15310  2035-06-15T01:00:00    Jones Group__0__0__The News Buoy   \n",
       "15327  2035-04-08T21:00:00  Jones Group__0__0__Haacklee Herald   \n",
       "15329  2035-04-08T13:00:00     Jones Group__0__0__Lomark Daily   \n",
       "15332  2035-04-21T20:00:00     Jones Group__0__0__Lomark Daily   \n",
       "15333  2035-04-21T20:00:00     Jones Group__0__0__Lomark Daily   \n",
       "\n",
       "                  source                   target  key  \n",
       "12476         Conrad Ltd      Don Limpet Preserve    2  \n",
       "12479         Conrad Ltd      Don Limpet Preserve    5  \n",
       "12481         Conrad Ltd                Nemo Reef    0  \n",
       "12482         Conrad Ltd                Nemo Reef    1  \n",
       "12483         Conrad Ltd                Nemo Reef    2  \n",
       "...                  ...                      ...  ...  \n",
       "15310  City Of Centralia  FlounderLeska Marine BV    4  \n",
       "15327  City Of Centralia      Namorna Transit Ltd    5  \n",
       "15329  City Of Centralia      Namorna Transit Ltd    7  \n",
       "15332  City Of Centralia      Namorna Transit Ltd   10  \n",
       "15333  City Of Centralia      Namorna Transit Ltd   11  \n",
       "\n",
       "[65 rows x 10 columns]"
      ]
     },
     "execution_count": 9,
     "metadata": {},
     "output_type": "execute_result"
    }
   ],
   "source": [
    "# Assuming `df` is your DataFrame\n",
    "match = df_links[\n",
    "    (df_links[\"_raw_source\"] == \"Centralia Police Reports\") ]\n",
    "\n",
    "match.head(65)"
   ]
  },
  {
   "cell_type": "code",
   "execution_count": 190,
   "metadata": {},
   "outputs": [],
   "source": [
    "# Convert to datetime\n",
    "df_links['_date_added'] = pd.to_datetime(df_links['_date_added'])\n",
    "\n",
    "# Create a new 'month' column in YYYY-MM format\n",
    "df_links['month'] = df_links['_date_added'].dt.to_period('M').astype(str)\n"
   ]
  },
  {
   "cell_type": "code",
   "execution_count": 209,
   "metadata": {},
   "outputs": [],
   "source": [
    "filtered_df = df_links[\n",
    "     (df_links['_raw_source'] == 'Haacklee Herald') &\n",
    "    # (df_links['month'] == '2035-03') &\n",
    "    (\n",
    "        (df_links['source'] == 'Namorna Transit Ltd') |\n",
    "        (df_links['target'] == 'Namorna Transit Ltd')\n",
    "    )\n",
    "]"
   ]
  },
  {
   "cell_type": "code",
   "execution_count": 210,
   "metadata": {},
   "outputs": [
    {
     "data": {
      "text/html": [
       "<div>\n",
       "<style scoped>\n",
       "    .dataframe tbody tr th:only-of-type {\n",
       "        vertical-align: middle;\n",
       "    }\n",
       "\n",
       "    .dataframe tbody tr th {\n",
       "        vertical-align: top;\n",
       "    }\n",
       "\n",
       "    .dataframe thead th {\n",
       "        text-align: right;\n",
       "    }\n",
       "</style>\n",
       "<table border=\"1\" class=\"dataframe\">\n",
       "  <thead>\n",
       "    <tr style=\"text-align: right;\">\n",
       "      <th></th>\n",
       "      <th>type</th>\n",
       "      <th>_date_added</th>\n",
       "      <th>_raw_source</th>\n",
       "      <th>_algorithm</th>\n",
       "      <th>_last_edited_by</th>\n",
       "      <th>_last_edited_date</th>\n",
       "      <th>_articleid</th>\n",
       "      <th>source</th>\n",
       "      <th>target</th>\n",
       "      <th>key</th>\n",
       "      <th>month</th>\n",
       "    </tr>\n",
       "  </thead>\n",
       "  <tbody>\n",
       "    <tr>\n",
       "      <th>13202</th>\n",
       "      <td>Event.Criticize</td>\n",
       "      <td>2035-04-07 10:00:00</td>\n",
       "      <td>Haacklee Herald</td>\n",
       "      <td>ShadGPT</td>\n",
       "      <td>Olokun Daramola</td>\n",
       "      <td>2035-04-07T10:00:00</td>\n",
       "      <td>Jones Group__0__0__Haacklee Herald</td>\n",
       "      <td>Namorna Transit Ltd</td>\n",
       "      <td>Paackland Fishermen's Rights Enforcement Network</td>\n",
       "      <td>1</td>\n",
       "      <td>2035-04</td>\n",
       "    </tr>\n",
       "    <tr>\n",
       "      <th>13232</th>\n",
       "      <td>Event.Fishing.OverFishing</td>\n",
       "      <td>2035-04-08 21:00:00</td>\n",
       "      <td>Haacklee Herald</td>\n",
       "      <td>BassLine</td>\n",
       "      <td>Melinda Manning</td>\n",
       "      <td>2035-04-08T21:00:00</td>\n",
       "      <td>Jones Group__0__0__Haacklee Herald</td>\n",
       "      <td>Namorna Transit Ltd</td>\n",
       "      <td>Ghoti Preserve</td>\n",
       "      <td>0</td>\n",
       "      <td>2035-04</td>\n",
       "    </tr>\n",
       "    <tr>\n",
       "      <th>13237</th>\n",
       "      <td>Event.Criticize</td>\n",
       "      <td>2035-04-08 21:00:00</td>\n",
       "      <td>Haacklee Herald</td>\n",
       "      <td>BassLine</td>\n",
       "      <td>Melinda Manning</td>\n",
       "      <td>2035-04-08T21:00:00</td>\n",
       "      <td>Jones Group__0__0__Haacklee Herald</td>\n",
       "      <td>Namorna Transit Ltd</td>\n",
       "      <td>Oceanus Guardians Alliance</td>\n",
       "      <td>0</td>\n",
       "      <td>2035-04</td>\n",
       "    </tr>\n",
       "    <tr>\n",
       "      <th>13239</th>\n",
       "      <td>Event.Criticize</td>\n",
       "      <td>2035-04-21 18:00:00</td>\n",
       "      <td>Haacklee Herald</td>\n",
       "      <td>BassLine</td>\n",
       "      <td>Melinda Manning</td>\n",
       "      <td>2035-04-21T18:00:00</td>\n",
       "      <td>Jones Group__0__0__Haacklee Herald</td>\n",
       "      <td>Namorna Transit Ltd</td>\n",
       "      <td>SeaWatch Conservation Society</td>\n",
       "      <td>0</td>\n",
       "      <td>2035-04</td>\n",
       "    </tr>\n",
       "    <tr>\n",
       "      <th>15325</th>\n",
       "      <td>Event.CertificateIssued.Summons</td>\n",
       "      <td>2035-04-07 10:00:00</td>\n",
       "      <td>Haacklee Herald</td>\n",
       "      <td>ShadGPT</td>\n",
       "      <td>Olokun Daramola</td>\n",
       "      <td>2035-04-07T10:00:00</td>\n",
       "      <td>Jones Group__0__0__Haacklee Herald</td>\n",
       "      <td>City Of Centralia</td>\n",
       "      <td>Namorna Transit Ltd</td>\n",
       "      <td>3</td>\n",
       "      <td>2035-04</td>\n",
       "    </tr>\n",
       "    <tr>\n",
       "      <th>15328</th>\n",
       "      <td>Event.CertificateIssued.Summons</td>\n",
       "      <td>2035-04-08 21:00:00</td>\n",
       "      <td>Haacklee Herald</td>\n",
       "      <td>BassLine</td>\n",
       "      <td>Melinda Manning</td>\n",
       "      <td>2035-04-08T21:00:00</td>\n",
       "      <td>Jones Group__0__0__Haacklee Herald</td>\n",
       "      <td>City Of Centralia</td>\n",
       "      <td>Namorna Transit Ltd</td>\n",
       "      <td>6</td>\n",
       "      <td>2035-04</td>\n",
       "    </tr>\n",
       "    <tr>\n",
       "      <th>15331</th>\n",
       "      <td>Event.CertificateIssued.Summons</td>\n",
       "      <td>2035-04-21 18:00:00</td>\n",
       "      <td>Haacklee Herald</td>\n",
       "      <td>BassLine</td>\n",
       "      <td>Melinda Manning</td>\n",
       "      <td>2035-04-21T18:00:00</td>\n",
       "      <td>Jones Group__0__0__Haacklee Herald</td>\n",
       "      <td>City Of Centralia</td>\n",
       "      <td>Namorna Transit Ltd</td>\n",
       "      <td>9</td>\n",
       "      <td>2035-04</td>\n",
       "    </tr>\n",
       "    <tr>\n",
       "      <th>15860</th>\n",
       "      <td>Event.CertificateIssued.Summons</td>\n",
       "      <td>2035-04-07 10:00:00</td>\n",
       "      <td>Haacklee Herald</td>\n",
       "      <td>ShadGPT</td>\n",
       "      <td>Olokun Daramola</td>\n",
       "      <td>2035-04-07T10:00:00</td>\n",
       "      <td>Jones Group__0__0__Haacklee Herald</td>\n",
       "      <td>City Of Port Grove</td>\n",
       "      <td>Namorna Transit Ltd</td>\n",
       "      <td>3</td>\n",
       "      <td>2035-04</td>\n",
       "    </tr>\n",
       "    <tr>\n",
       "      <th>15862</th>\n",
       "      <td>Event.CertificateIssued.Summons</td>\n",
       "      <td>2035-04-08 21:00:00</td>\n",
       "      <td>Haacklee Herald</td>\n",
       "      <td>BassLine</td>\n",
       "      <td>Melinda Manning</td>\n",
       "      <td>2035-04-08T21:00:00</td>\n",
       "      <td>Jones Group__0__0__Haacklee Herald</td>\n",
       "      <td>City Of Port Grove</td>\n",
       "      <td>Namorna Transit Ltd</td>\n",
       "      <td>5</td>\n",
       "      <td>2035-04</td>\n",
       "    </tr>\n",
       "    <tr>\n",
       "      <th>15864</th>\n",
       "      <td>Event.CertificateIssued.Summons</td>\n",
       "      <td>2035-04-21 18:00:00</td>\n",
       "      <td>Haacklee Herald</td>\n",
       "      <td>BassLine</td>\n",
       "      <td>Melinda Manning</td>\n",
       "      <td>2035-04-21T18:00:00</td>\n",
       "      <td>Jones Group__0__0__Haacklee Herald</td>\n",
       "      <td>City Of Port Grove</td>\n",
       "      <td>Namorna Transit Ltd</td>\n",
       "      <td>7</td>\n",
       "      <td>2035-04</td>\n",
       "    </tr>\n",
       "  </tbody>\n",
       "</table>\n",
       "</div>"
      ],
      "text/plain": [
       "                                  type         _date_added      _raw_source  \\\n",
       "13202                  Event.Criticize 2035-04-07 10:00:00  Haacklee Herald   \n",
       "13232        Event.Fishing.OverFishing 2035-04-08 21:00:00  Haacklee Herald   \n",
       "13237                  Event.Criticize 2035-04-08 21:00:00  Haacklee Herald   \n",
       "13239                  Event.Criticize 2035-04-21 18:00:00  Haacklee Herald   \n",
       "15325  Event.CertificateIssued.Summons 2035-04-07 10:00:00  Haacklee Herald   \n",
       "15328  Event.CertificateIssued.Summons 2035-04-08 21:00:00  Haacklee Herald   \n",
       "15331  Event.CertificateIssued.Summons 2035-04-21 18:00:00  Haacklee Herald   \n",
       "15860  Event.CertificateIssued.Summons 2035-04-07 10:00:00  Haacklee Herald   \n",
       "15862  Event.CertificateIssued.Summons 2035-04-08 21:00:00  Haacklee Herald   \n",
       "15864  Event.CertificateIssued.Summons 2035-04-21 18:00:00  Haacklee Herald   \n",
       "\n",
       "      _algorithm  _last_edited_by    _last_edited_date  \\\n",
       "13202    ShadGPT  Olokun Daramola  2035-04-07T10:00:00   \n",
       "13232   BassLine  Melinda Manning  2035-04-08T21:00:00   \n",
       "13237   BassLine  Melinda Manning  2035-04-08T21:00:00   \n",
       "13239   BassLine  Melinda Manning  2035-04-21T18:00:00   \n",
       "15325    ShadGPT  Olokun Daramola  2035-04-07T10:00:00   \n",
       "15328   BassLine  Melinda Manning  2035-04-08T21:00:00   \n",
       "15331   BassLine  Melinda Manning  2035-04-21T18:00:00   \n",
       "15860    ShadGPT  Olokun Daramola  2035-04-07T10:00:00   \n",
       "15862   BassLine  Melinda Manning  2035-04-08T21:00:00   \n",
       "15864   BassLine  Melinda Manning  2035-04-21T18:00:00   \n",
       "\n",
       "                               _articleid               source  \\\n",
       "13202  Jones Group__0__0__Haacklee Herald  Namorna Transit Ltd   \n",
       "13232  Jones Group__0__0__Haacklee Herald  Namorna Transit Ltd   \n",
       "13237  Jones Group__0__0__Haacklee Herald  Namorna Transit Ltd   \n",
       "13239  Jones Group__0__0__Haacklee Herald  Namorna Transit Ltd   \n",
       "15325  Jones Group__0__0__Haacklee Herald    City Of Centralia   \n",
       "15328  Jones Group__0__0__Haacklee Herald    City Of Centralia   \n",
       "15331  Jones Group__0__0__Haacklee Herald    City Of Centralia   \n",
       "15860  Jones Group__0__0__Haacklee Herald   City Of Port Grove   \n",
       "15862  Jones Group__0__0__Haacklee Herald   City Of Port Grove   \n",
       "15864  Jones Group__0__0__Haacklee Herald   City Of Port Grove   \n",
       "\n",
       "                                                 target  key    month  \n",
       "13202  Paackland Fishermen's Rights Enforcement Network    1  2035-04  \n",
       "13232                                    Ghoti Preserve    0  2035-04  \n",
       "13237                        Oceanus Guardians Alliance    0  2035-04  \n",
       "13239                     SeaWatch Conservation Society    0  2035-04  \n",
       "15325                               Namorna Transit Ltd    3  2035-04  \n",
       "15328                               Namorna Transit Ltd    6  2035-04  \n",
       "15331                               Namorna Transit Ltd    9  2035-04  \n",
       "15860                               Namorna Transit Ltd    3  2035-04  \n",
       "15862                               Namorna Transit Ltd    5  2035-04  \n",
       "15864                               Namorna Transit Ltd    7  2035-04  "
      ]
     },
     "execution_count": 210,
     "metadata": {},
     "output_type": "execute_result"
    }
   ],
   "source": [
    "filtered_df"
   ]
  },
  {
   "cell_type": "code",
   "execution_count": null,
   "metadata": {},
   "outputs": [
    {
     "data": {
      "text/plain": [
       "array(['Event.Invest', 'Event.Aid', 'Event.Transaction',\n",
       "       'Event.Fishing.SustainableFishing', 'Event.Fishing',\n",
       "       'Event.Communication.Conference', 'Event.Fishing.OverFishing',\n",
       "       'Event.Criticize', 'Event.Owns.PartiallyOwns', 'Event.Applaud',\n",
       "       'Event.CertificateIssued', 'Event.CertificateIssued.Summons',\n",
       "       'Event.Convicted'], dtype=object)"
      ]
     },
     "execution_count": 66,
     "metadata": {},
     "output_type": "execute_result"
    }
   ],
   "source": [
    "df_links['type'].unique()"
   ]
  },
  {
   "cell_type": "code",
   "execution_count": null,
   "metadata": {},
   "outputs": [],
   "source": [
    "dates = df_links['_date_added']"
   ]
  },
  {
   "cell_type": "code",
   "execution_count": null,
   "metadata": {},
   "outputs": [
    {
     "data": {
      "image/png": "[encoded data removed]",
      "text/plain": [
       "<Figure size 1000x200 with 1 Axes>"
      ]
     },
     "metadata": {},
     "output_type": "display_data"
    },
    {
     "data": {
      "image/png": "[encoded data removed]",
      "text/plain": [
       "<Figure size 1000x400 with 1 Axes>"
      ]
     },
     "metadata": {},
     "output_type": "display_data"
    }
   ],
   "source": [
    "# Convert to pandas datetime\n",
    "dt_series = pd.to_datetime(dates)\n",
    "\n",
    "# Example 1: Plot points on timeline\n",
    "plt.figure(figsize=(10, 2))\n",
    "plt.scatter(dt_series, [1]*len(dt_series))  # y=1 to just show along a line\n",
    "plt.yticks([])\n",
    "plt.xlabel('Date')\n",
    "plt.title('Events over time')\n",
    "plt.show()\n",
    "\n",
    "# Example 2: Count events per day and plot time series\n",
    "df = pd.DataFrame({'date': dt_series})\n",
    "df['date_only'] = df['date'].dt.date\n",
    "counts = df.groupby('date_only').size()\n",
    "\n",
    "plt.figure(figsize=(10, 4))\n",
    "counts.plot(kind='bar')\n",
    "plt.xlabel('Date')\n",
    "plt.ylabel('Number of events')\n",
    "plt.title('Number of events per day')\n",
    "plt.show()"
   ]
  },
  {
   "cell_type": "code",
   "execution_count": null,
   "metadata": {},
   "outputs": [
    {
     "data": {
      "text/plain": [
       "_last_edited_by\n",
       "Pelagia Alethea Mordoch    1375\n",
       "Kristin Baker              1324\n",
       "Greta Grass-Hill           1282\n",
       "Urashima Tarō              1273\n",
       "Jack Inch                  1266\n",
       "Olokun Daramola            1244\n",
       "Worf Peer                  1235\n",
       "Junior Shurdlu             1231\n",
       "Melinda Manning            1220\n",
       "Haenyeo Hyun-Ki            1204\n",
       "Niklaus Oberon             1197\n",
       "Harvey Janus               1148\n",
       "Clepper Jessen             1100\n",
       "Name: count, dtype: int64"
      ]
     },
     "execution_count": 44,
     "metadata": {},
     "output_type": "execute_result"
    }
   ],
   "source": [
    "df_links['_last_edited_by'].value_counts()"
   ]
  },
  {
   "cell_type": "code",
   "execution_count": null,
   "metadata": {},
   "outputs": [
    {
     "data": {
      "text/plain": [
       "_articleid\n",
       "Jones Group__0__0__The News Buoy                    1001\n",
       "Jones Group__0__0__Lomark Daily                      966\n",
       "Jones Group__0__0__Haacklee Herald                   935\n",
       "Brown, Clarke and Martinez__0__0__Lomark Daily       129\n",
       "Murray, Friedman and Wall__0__0__Haacklee Herald     124\n",
       "                                                    ... \n",
       "Taylor, Prince and Sherman__0__1__The News Buoy        2\n",
       "Brown, Clarke and Martinez__0__1__Lomark Daily         2\n",
       "Brown, Clarke and Martinez__0__1__The News Buoy        2\n",
       "Rhodes-Thompson__0__1__Haacklee Herald                 1\n",
       "Burns Inc__0__1__Lomark Daily                          1\n",
       "Name: count, Length: 328, dtype: int64"
      ]
     },
     "execution_count": 42,
     "metadata": {},
     "output_type": "execute_result"
    }
   ],
   "source": [
    "df_links['_articleid'].value_counts()"
   ]
  },
  {
   "cell_type": "code",
   "execution_count": null,
   "metadata": {},
   "outputs": [
    {
     "data": {
      "text/plain": [
       "_algorithm\n",
       "BassLine    8309\n",
       "ShadGPT     7790\n",
       "Name: count, dtype: int64"
      ]
     },
     "execution_count": 43,
     "metadata": {},
     "output_type": "execute_result"
    }
   ],
   "source": [
    "df_links['_algorithm'].value_counts()"
   ]
  },
  {
   "cell_type": "code",
   "execution_count": 3,
   "metadata": {},
   "outputs": [],
   "source": [
    "import json\n",
    "import networkx as nx\n",
    "import matplotlib.pyplot as plt\n",
    "import community.community_louvain as community_louvain\n"
   ]
  },
  {
   "cell_type": "code",
   "execution_count": null,
   "metadata": {},
   "outputs": [
    {
     "name": "stderr",
     "output_type": "stream",
     "text": [
      "c:\\Users\\luord\\Documents\\GitHub\\visual_analytics\\venv\\Lib\\site-packages\\networkx\\readwrite\\json_graph\\node_link.py:290: FutureWarning: \n",
      "The default value will be changed to `edges=\"edges\" in NetworkX 3.6.\n",
      "\n",
      "To make this warning go away, explicitly set the edges kwarg, e.g.:\n",
      "\n",
      "  nx.node_link_graph(data, edges=\"links\") to preserve current behavior, or\n",
      "  nx.node_link_graph(data, edges=\"edges\") for forward compatibility.\n",
      "  warnings.warn(\n"
     ]
    },
    {
     "data": {
      "image/png": "[encoded data removed]",
      "text/plain": [
       "<Figure size 640x480 with 1 Axes>"
      ]
     },
     "metadata": {},
     "output_type": "display_data"
    }
   ],
   "source": [
    "# Load the JSON file\n",
    "with open(\"mc1.json\", \"r\") as f:\n",
    "\tdata = json.load(f)\n",
    "\n",
    "# Convert JSON to a NetworkX graph object\n",
    "G = nx.node_link_graph(data)\n",
    "\n",
    "# Convert to undirected graph\n",
    "G = G.to_undirected()\n",
    "\n",
    "desired_edge_type = [\"Event.Fishing.OverFishing\", \"Event.Fishing.SustainableFishing\"]  # e.g., \"Event.Fishing.OverFishing\"\n",
    "\n",
    "# Filter edges by type\n",
    "filtered_edges = [(u, v, k) for u, v, k, data in G.edges(keys=True, data=True) if data.get('type') in desired_edge_type]\n",
    "\n",
    "# Create subgraph with filtered edges (for MultiDiGraph you must specify keys)\n",
    "G_filtered = G.edge_subgraph(filtered_edges).copy()\n",
    "\n",
    "# Assume G is your NetworkX graph\n",
    "partition = community_louvain.best_partition(G_filtered)  # Returns a dict: node -> community id\n",
    "\n",
    "# Add community as a node attribute\n",
    "nx.set_node_attributes(G_filtered, partition, \"community\")\n",
    "\n",
    "# Visualize\n",
    "colors = [partition[n] for n in G_filtered.nodes()]\n",
    "nx.draw_spring(G_filtered, node_color=colors, with_labels=True, cmap=plt.cm.tab20)\n",
    "plt.title(\"Community Clustering in Knowledge Graph\")\n",
    "plt.show()\n"
   ]
  },
  {
   "cell_type": "code",
   "execution_count": 34,
   "metadata": {},
   "outputs": [
    {
     "name": "stdout",
     "output_type": "stream",
     "text": [
      "                                  type          _date_added  \\\n",
      "0                         Event.Invest  2035-03-13T19:00:00   \n",
      "1                         Event.Invest  2035-03-19T11:00:00   \n",
      "2                         Event.Invest  2035-04-10T12:00:00   \n",
      "3                         Event.Invest  2035-05-06T12:00:00   \n",
      "4                         Event.Invest  2035-05-23T18:00:00   \n",
      "...                                ...                  ...   \n",
      "16226  Event.CertificateIssued.Summons  2035-05-09T20:00:00   \n",
      "16227  Event.CertificateIssued.Summons  2035-06-28T10:00:00   \n",
      "16228  Event.CertificateIssued.Summons  2035-06-28T23:00:00   \n",
      "16229  Event.CertificateIssued.Summons  2035-06-28T23:00:00   \n",
      "16230  Event.CertificateIssued.Summons  2035-06-28T08:00:00   \n",
      "\n",
      "                 _raw_source _algorithm          _last_edited_by  \\\n",
      "0            Haacklee Herald   BassLine           Junior Shurdlu   \n",
      "1               Lomark Daily    ShadGPT          Olokun Daramola   \n",
      "2            Haacklee Herald   BassLine                Jack Inch   \n",
      "3               Lomark Daily    ShadGPT           Niklaus Oberon   \n",
      "4            Haacklee Herald   BassLine          Melinda Manning   \n",
      "...                      ...        ...                      ...   \n",
      "16226          The News Buoy    ShadGPT          Haenyeo Hyun-Ki   \n",
      "16227        Haacklee Herald    ShadGPT            Urashima Tarō   \n",
      "16228  Himark Police Reports   BassLine  Pelagia Alethea Mordoch   \n",
      "16229           Lomark Daily   BassLine  Pelagia Alethea Mordoch   \n",
      "16230          The News Buoy   BassLine             Harvey Janus   \n",
      "\n",
      "         _last_edited_date                             _articleid  \\\n",
      "0      2035-03-13T19:00:00  Sanchez-Moreno__0__0__Haacklee Herald   \n",
      "1      2035-03-19T11:00:00     Sanchez-Moreno__0__0__Lomark Daily   \n",
      "2      2035-04-10T12:00:00  Sanchez-Moreno__0__0__Haacklee Herald   \n",
      "3      2035-05-06T12:00:00     Sanchez-Moreno__0__0__Lomark Daily   \n",
      "4      2035-05-23T18:00:00  Sanchez-Moreno__0__0__Haacklee Herald   \n",
      "...                    ...                                    ...   \n",
      "16226  2035-05-09T20:00:00       Jones Group__0__0__The News Buoy   \n",
      "16227  2035-06-28T10:00:00     Jones Group__0__0__Haacklee Herald   \n",
      "16228  2035-06-28T23:00:00        Jones Group__0__0__Lomark Daily   \n",
      "16229  2035-06-28T23:00:00        Jones Group__0__0__Lomark Daily   \n",
      "16230  2035-06-28T08:00:00       Jones Group__0__0__The News Buoy   \n",
      "\n",
      "               source            target  key  \n",
      "0      Sanchez-Moreno  Sustainable_nets    0  \n",
      "1      Sanchez-Moreno  Sustainable_nets    1  \n",
      "2      Sanchez-Moreno  Sustainable_nets    2  \n",
      "3      Sanchez-Moreno  Sustainable_nets    3  \n",
      "4      Sanchez-Moreno  Sustainable_nets    4  \n",
      "...               ...               ...  ...  \n",
      "16226  City Of Himark       Raymond LLC   13  \n",
      "16227  City Of Himark       Raymond LLC   14  \n",
      "16228  City Of Himark       Raymond LLC   15  \n",
      "16229  City Of Himark       Raymond LLC   16  \n",
      "16230  City Of Himark       Raymond LLC   17  \n",
      "\n",
      "[16231 rows x 10 columns]\n"
     ]
    }
   ],
   "source": [
    "# Replace 'your_file.json' with your actual file path\n",
    "with open('data\\mc1.json', 'r') as f:\n",
    "\tdata = json.load(f)\n",
    "\n",
    "# Extract the nodes list\n",
    "nodes = data[\"nodes\"]\n",
    "links = data[\"links\"]\n",
    "\n",
    "# Create a DataFrame from nodes\n",
    "# data = pd.DataFrame(data)\n",
    "df_nodes = pd.DataFrame(nodes)\n",
    "df_links = pd.DataFrame(links)\n",
    "# print(df_nodes[df_nodes['id'] == 'Raymond LLC'])\n",
    "# print(df_links[df_links['source'] == 'Raymond LLC'])\n",
    "# print(df_links['type'].unique())\n",
    "print(df_links)\n",
    "# print(df_nodes[df_nodes['id']=='The News Buoy'])\n",
    "# filtered_df = df_links[df_links['target'] == 'Smith-Hull'] # Add callback from scatter"
   ]
  },
  {
   "cell_type": "code",
   "execution_count": 48,
   "metadata": {},
   "outputs": [
    {
     "name": "stdout",
     "output_type": "stream",
     "text": [
      "        month                                   company sentiment  \\\n",
      "118   2035-02                                Conrad Ltd  negative   \n",
      "221   2035-02                            Ghoti Preserve  negative   \n",
      "408   2035-02                                 Nemo Reef  negative   \n",
      "497   2035-02  ScaniaSeafood Holdings Ltd. Liability Co  negative   \n",
      "557   2035-02                        V. Miesel Shipping  negative   \n",
      "649   2035-03                         Bailey-Mccullough  negative   \n",
      "764   2035-03                       Don Limpet Preserve  negative   \n",
      "822   2035-03                            Ghoti Preserve  negative   \n",
      "962   2035-03                              May and Sons  negative   \n",
      "984   2035-03                                 Nemo Reef  negative   \n",
      "1002  2035-03           Oka Seafood Shipping Ges.m.b.H.  negative   \n",
      "1083  2035-03  ScaniaSeafood Holdings Ltd. Liability Co  negative   \n",
      "1137  2035-03                        V. Miesel Shipping  negative   \n",
      "1291  2035-04                                Conrad Ltd  negative   \n",
      "1323  2035-04                       Don Limpet Preserve  negative   \n",
      "1376  2035-04                            Ghoti Preserve  negative   \n",
      "1519  2035-04                              May and Sons  negative   \n",
      "1554  2035-04                       Namorna Transit Ltd  negative   \n",
      "1558  2035-04                                 Nemo Reef  negative   \n",
      "1580  2035-04           Oka Seafood Shipping Ges.m.b.H.  negative   \n",
      "1952  2035-05                            Ghoti Preserve  negative   \n",
      "2125  2035-05                                 Nemo Reef  negative   \n",
      "2221  2035-05  ScaniaSeafood Holdings Ltd. Liability Co  negative   \n",
      "2289  2035-05                        V. Miesel Shipping  negative   \n",
      "2353  2035-06                    AguaLeska Transit N.V.  negative   \n",
      "2475  2035-06                       Don Limpet Preserve  negative   \n",
      "2520  2035-06                   FlounderLeska Marine BV  negative   \n",
      "2535  2035-06                            Ghoti Preserve  negative   \n",
      "2690  2035-06                                 Nemo Reef  negative   \n",
      "2784  2035-06  ScaniaSeafood Holdings Ltd. Liability Co  negative   \n",
      "2920  2035-07                         Bailey-Mccullough  negative   \n",
      "3023  2035-07                       Don Limpet Preserve  negative   \n",
      "3030  2035-07              Dry CreekRybachit Marine A/S  negative   \n",
      "3075  2035-07                            Ghoti Preserve  negative   \n",
      "3220  2035-07                                 Nemo Reef  negative   \n",
      "3295  2035-07  ScaniaSeafood Holdings Ltd. Liability Co  negative   \n",
      "3356  2035-07                        V. Miesel Shipping  negative   \n",
      "\n",
      "                   _raw_source  count  \n",
      "118   Centralia Police Reports      2  \n",
      "221   Centralia Police Reports      4  \n",
      "408   Centralia Police Reports      3  \n",
      "497   Centralia Police Reports      5  \n",
      "557   Centralia Police Reports      1  \n",
      "649   Centralia Police Reports      1  \n",
      "764   Centralia Police Reports      3  \n",
      "822   Centralia Police Reports      4  \n",
      "962   Centralia Police Reports     10  \n",
      "984   Centralia Police Reports      6  \n",
      "1002  Centralia Police Reports      2  \n",
      "1083  Centralia Police Reports      2  \n",
      "1137  Centralia Police Reports      1  \n",
      "1291  Centralia Police Reports      7  \n",
      "1323  Centralia Police Reports      6  \n",
      "1376  Centralia Police Reports      4  \n",
      "1519  Centralia Police Reports      4  \n",
      "1554  Centralia Police Reports      4  \n",
      "1558  Centralia Police Reports      8  \n",
      "1580  Centralia Police Reports      4  \n",
      "1952  Centralia Police Reports      1  \n",
      "2125  Centralia Police Reports      1  \n",
      "2221  Centralia Police Reports      2  \n",
      "2289  Centralia Police Reports      1  \n",
      "2353  Centralia Police Reports      1  \n",
      "2475  Centralia Police Reports      1  \n",
      "2520  Centralia Police Reports      3  \n",
      "2535  Centralia Police Reports      2  \n",
      "2690  Centralia Police Reports      2  \n",
      "2784  Centralia Police Reports      1  \n",
      "2920  Centralia Police Reports      1  \n",
      "3023  Centralia Police Reports      3  \n",
      "3030  Centralia Police Reports      3  \n",
      "3075  Centralia Police Reports      3  \n",
      "3220  Centralia Police Reports      3  \n",
      "3295  Centralia Police Reports      5  \n",
      "3356  Centralia Police Reports      2  \n"
     ]
    }
   ],
   "source": [
    "# Maps event_type to (sentiment, target_role)\n",
    "# target_role is either \"target\" or \"source\" — who the sentiment is directed *toward*\n",
    "event_sentiment_map = {\n",
    "\t'Event.Applaud': ('positive', 'target'),\n",
    "\t'Event.Aid': ('positive', 'target'),\n",
    "\t'Event.Invest': ('positive', 'target'),\n",
    "\t'Event.Criticize': ('negative', 'target'),\n",
    "\t'Event.Convicted': ('negative', 'target'),\n",
    "\t'Event.CertificateIssued.Summons': ('negative', 'target'),\n",
    "\t'Event.Fishing.OverFishing': ('negative', 'target'),\n",
    "\t'Event.CertificateIssued': ('neutral', 'target'),\n",
    "\t'Event.Transaction': ('neutral', 'target'),\n",
    "\t'Event.Fishing': ('neutral', 'target'),\n",
    "\t'Event.Owns.PartiallyOwns': ('neutral', 'target'),\n",
    "\t'Event.Communication.Conference': ('neutral', 'source'),  # Maybe seen as source-driven\n",
    "\t'Event.Fishing.SustainableFishing': ('positive', 'source'),  # Company taking good action\n",
    "}\n",
    "\n",
    "df_links[['sentiment', 'sentiment_recipient']] = df_links['type'].apply(\n",
    "\tlambda x: pd.Series(event_sentiment_map.get(x, ('neutral', 'target')))\n",
    ")\n",
    "\n",
    "df_links['company'] = df_links.apply(\n",
    "\tlambda row: row['target'] if row['sentiment_recipient'] == 'target' else row['source'],\n",
    "\taxis=1\n",
    ")\n",
    "\n",
    "df_links['_date_added'] = pd.to_datetime(df_links['_date_added'], errors='coerce')\n",
    "\n",
    "df_links['month'] = df_links['_date_added'].dt.to_period('M')\n",
    "sentiment_time = (\n",
    "\tdf_links\n",
    "\t.groupby(['month', 'company', 'sentiment', '_raw_source'])\n",
    "\t.size()\n",
    "\t.reset_index(name='count')\n",
    ")\n",
    "\n",
    "print(sentiment_time[sentiment_time['_raw_source'] == 'Centralia Police Reports'])"
   ]
  },
  {
   "cell_type": "code",
   "execution_count": null,
   "metadata": {},
   "outputs": [],
   "source": [
    "['Haacklee Herald' 'Lomark Daily' 'The News Buoy'\n",
    " 'South Paackland Police Reports' 'Centralia Police Reports'\n",
    " 'Himark Police Reports' 'Lomark Police Reports'\n",
    " 'Paackland Police Reports' 'Port Grove Police Reports']"
   ]
  },
  {
   "cell_type": "code",
   "execution_count": 161,
   "metadata": {},
   "outputs": [
    {
     "ename": "NameError",
     "evalue": "name 'df_links' is not defined",
     "output_type": "error",
     "traceback": [
      "\u001b[31m---------------------------------------------------------------------------\u001b[39m",
      "\u001b[31mNameError\u001b[39m                                 Traceback (most recent call last)",
      "\u001b[36mCell\u001b[39m\u001b[36m \u001b[39m\u001b[32mIn[161]\u001b[39m\u001b[32m, line 1\u001b[39m\n\u001b[32m----> \u001b[39m\u001b[32m1\u001b[39m \u001b[43mdf_links\u001b[49m\n",
      "\u001b[31mNameError\u001b[39m: name 'df_links' is not defined"
     ]
    }
   ],
   "source": [
    "df_links"
   ]
  },
  {
   "cell_type": "code",
   "execution_count": 44,
   "metadata": {},
   "outputs": [
    {
     "data": {
      "application/vnd.plotly.v1+json": {
       "config": {
        "plotlyServerURL": "https://plot.ly"
       },
       "data": [
        {
         "coloraxis": "coloraxis",
         "hovertemplate": "Month: %{x}<br>News Source: %{y}<br>Sentiment Score: %{z}<extra></extra>",
         "name": "0",
         "type": "heatmap",
         "x": [
          "2035-02",
          "2035-03",
          "2035-04",
          "2035-05",
          "2035-06",
          "2035-07"
         ],
         "xaxis": "x",
         "y": [
          "Haacklee Herald",
          "Lomark Daily",
          "The News Buoy"
         ],
         "yaxis": "y",
         "z": {
          "bdata": "AAAAAAAAAAAAAAAAAAAAAAAAAAAAAAAAAAAAAAAAAAAAAAAAAAAAAAAAAAAAAAAAAAAAAAAAAAAAAAAAAAAAAAAAAAAAAAAAAAAAAAAAAAAAAAAAAAAAAAAAAAAAAAAAAAAAAAAAAAAAAAAAAAAAAAAAAAAAAAAAAAAAAAAAAAAAAAAAAAAAAAAAAAAAAAAA",
          "dtype": "f8",
          "shape": "3, 6"
         }
        }
       ],
       "layout": {
        "coloraxis": {
         "colorbar": {
          "title": {
           "text": "Sentiment Score"
          }
         },
         "colorscale": [
          [
           0,
           "red"
          ],
          [
           0.5,
           "white"
          ],
          [
           1,
           "blue"
          ]
         ]
        },
        "template": {
         "data": {
          "bar": [
           {
            "error_x": {
             "color": "#2a3f5f"
            },
            "error_y": {
             "color": "#2a3f5f"
            },
            "marker": {
             "line": {
              "color": "#E5ECF6",
              "width": 0.5
             },
             "pattern": {
              "fillmode": "overlay",
              "size": 10,
              "solidity": 0.2
             }
            },
            "type": "bar"
           }
          ],
          "barpolar": [
           {
            "marker": {
             "line": {
              "color": "#E5ECF6",
              "width": 0.5
             },
             "pattern": {
              "fillmode": "overlay",
              "size": 10,
              "solidity": 0.2
             }
            },
            "type": "barpolar"
           }
          ],
          "carpet": [
           {
            "aaxis": {
             "endlinecolor": "#2a3f5f",
             "gridcolor": "white",
             "linecolor": "white",
             "minorgridcolor": "white",
             "startlinecolor": "#2a3f5f"
            },
            "baxis": {
             "endlinecolor": "#2a3f5f",
             "gridcolor": "white",
             "linecolor": "white",
             "minorgridcolor": "white",
             "startlinecolor": "#2a3f5f"
            },
            "type": "carpet"
           }
          ],
          "choropleth": [
           {
            "colorbar": {
             "outlinewidth": 0,
             "ticks": ""
            },
            "type": "choropleth"
           }
          ],
          "contour": [
           {
            "colorbar": {
             "outlinewidth": 0,
             "ticks": ""
            },
            "colorscale": [
             [
              0,
              "#0d0887"
             ],
             [
              0.1111111111111111,
              "#46039f"
             ],
             [
              0.2222222222222222,
              "#7201a8"
             ],
             [
              0.3333333333333333,
              "#9c179e"
             ],
             [
              0.4444444444444444,
              "#bd3786"
             ],
             [
              0.5555555555555556,
              "#d8576b"
             ],
             [
              0.6666666666666666,
              "#ed7953"
             ],
             [
              0.7777777777777778,
              "#fb9f3a"
             ],
             [
              0.8888888888888888,
              "#fdca26"
             ],
             [
              1,
              "#f0f921"
             ]
            ],
            "type": "contour"
           }
          ],
          "contourcarpet": [
           {
            "colorbar": {
             "outlinewidth": 0,
             "ticks": ""
            },
            "type": "contourcarpet"
           }
          ],
          "heatmap": [
           {
            "colorbar": {
             "outlinewidth": 0,
             "ticks": ""
            },
            "colorscale": [
             [
              0,
              "#0d0887"
             ],
             [
              0.1111111111111111,
              "#46039f"
             ],
             [
              0.2222222222222222,
              "#7201a8"
             ],
             [
              0.3333333333333333,
              "#9c179e"
             ],
             [
              0.4444444444444444,
              "#bd3786"
             ],
             [
              0.5555555555555556,
              "#d8576b"
             ],
             [
              0.6666666666666666,
              "#ed7953"
             ],
             [
              0.7777777777777778,
              "#fb9f3a"
             ],
             [
              0.8888888888888888,
              "#fdca26"
             ],
             [
              1,
              "#f0f921"
             ]
            ],
            "type": "heatmap"
           }
          ],
          "histogram": [
           {
            "marker": {
             "pattern": {
              "fillmode": "overlay",
              "size": 10,
              "solidity": 0.2
             }
            },
            "type": "histogram"
           }
          ],
          "histogram2d": [
           {
            "colorbar": {
             "outlinewidth": 0,
             "ticks": ""
            },
            "colorscale": [
             [
              0,
              "#0d0887"
             ],
             [
              0.1111111111111111,
              "#46039f"
             ],
             [
              0.2222222222222222,
              "#7201a8"
             ],
             [
              0.3333333333333333,
              "#9c179e"
             ],
             [
              0.4444444444444444,
              "#bd3786"
             ],
             [
              0.5555555555555556,
              "#d8576b"
             ],
             [
              0.6666666666666666,
              "#ed7953"
             ],
             [
              0.7777777777777778,
              "#fb9f3a"
             ],
             [
              0.8888888888888888,
              "#fdca26"
             ],
             [
              1,
              "#f0f921"
             ]
            ],
            "type": "histogram2d"
           }
          ],
          "histogram2dcontour": [
           {
            "colorbar": {
             "outlinewidth": 0,
             "ticks": ""
            },
            "colorscale": [
             [
              0,
              "#0d0887"
             ],
             [
              0.1111111111111111,
              "#46039f"
             ],
             [
              0.2222222222222222,
              "#7201a8"
             ],
             [
              0.3333333333333333,
              "#9c179e"
             ],
             [
              0.4444444444444444,
              "#bd3786"
             ],
             [
              0.5555555555555556,
              "#d8576b"
             ],
             [
              0.6666666666666666,
              "#ed7953"
             ],
             [
              0.7777777777777778,
              "#fb9f3a"
             ],
             [
              0.8888888888888888,
              "#fdca26"
             ],
             [
              1,
              "#f0f921"
             ]
            ],
            "type": "histogram2dcontour"
           }
          ],
          "mesh3d": [
           {
            "colorbar": {
             "outlinewidth": 0,
             "ticks": ""
            },
            "type": "mesh3d"
           }
          ],
          "parcoords": [
           {
            "line": {
             "colorbar": {
              "outlinewidth": 0,
              "ticks": ""
             }
            },
            "type": "parcoords"
           }
          ],
          "pie": [
           {
            "automargin": true,
            "type": "pie"
           }
          ],
          "scatter": [
           {
            "fillpattern": {
             "fillmode": "overlay",
             "size": 10,
             "solidity": 0.2
            },
            "type": "scatter"
           }
          ],
          "scatter3d": [
           {
            "line": {
             "colorbar": {
              "outlinewidth": 0,
              "ticks": ""
             }
            },
            "marker": {
             "colorbar": {
              "outlinewidth": 0,
              "ticks": ""
             }
            },
            "type": "scatter3d"
           }
          ],
          "scattercarpet": [
           {
            "marker": {
             "colorbar": {
              "outlinewidth": 0,
              "ticks": ""
             }
            },
            "type": "scattercarpet"
           }
          ],
          "scattergeo": [
           {
            "marker": {
             "colorbar": {
              "outlinewidth": 0,
              "ticks": ""
             }
            },
            "type": "scattergeo"
           }
          ],
          "scattergl": [
           {
            "marker": {
             "colorbar": {
              "outlinewidth": 0,
              "ticks": ""
             }
            },
            "type": "scattergl"
           }
          ],
          "scattermap": [
           {
            "marker": {
             "colorbar": {
              "outlinewidth": 0,
              "ticks": ""
             }
            },
            "type": "scattermap"
           }
          ],
          "scattermapbox": [
           {
            "marker": {
             "colorbar": {
              "outlinewidth": 0,
              "ticks": ""
             }
            },
            "type": "scattermapbox"
           }
          ],
          "scatterpolar": [
           {
            "marker": {
             "colorbar": {
              "outlinewidth": 0,
              "ticks": ""
             }
            },
            "type": "scatterpolar"
           }
          ],
          "scatterpolargl": [
           {
            "marker": {
             "colorbar": {
              "outlinewidth": 0,
              "ticks": ""
             }
            },
            "type": "scatterpolargl"
           }
          ],
          "scatterternary": [
           {
            "marker": {
             "colorbar": {
              "outlinewidth": 0,
              "ticks": ""
             }
            },
            "type": "scatterternary"
           }
          ],
          "surface": [
           {
            "colorbar": {
             "outlinewidth": 0,
             "ticks": ""
            },
            "colorscale": [
             [
              0,
              "#0d0887"
             ],
             [
              0.1111111111111111,
              "#46039f"
             ],
             [
              0.2222222222222222,
              "#7201a8"
             ],
             [
              0.3333333333333333,
              "#9c179e"
             ],
             [
              0.4444444444444444,
              "#bd3786"
             ],
             [
              0.5555555555555556,
              "#d8576b"
             ],
             [
              0.6666666666666666,
              "#ed7953"
             ],
             [
              0.7777777777777778,
              "#fb9f3a"
             ],
             [
              0.8888888888888888,
              "#fdca26"
             ],
             [
              1,
              "#f0f921"
             ]
            ],
            "type": "surface"
           }
          ],
          "table": [
           {
            "cells": {
             "fill": {
              "color": "#EBF0F8"
             },
             "line": {
              "color": "white"
             }
            },
            "header": {
             "fill": {
              "color": "#C8D4E3"
             },
             "line": {
              "color": "white"
             }
            },
            "type": "table"
           }
          ]
         },
         "layout": {
          "annotationdefaults": {
           "arrowcolor": "#2a3f5f",
           "arrowhead": 0,
           "arrowwidth": 1
          },
          "autotypenumbers": "strict",
          "coloraxis": {
           "colorbar": {
            "outlinewidth": 0,
            "ticks": ""
           }
          },
          "colorscale": {
           "diverging": [
            [
             0,
             "#8e0152"
            ],
            [
             0.1,
             "#c51b7d"
            ],
            [
             0.2,
             "#de77ae"
            ],
            [
             0.3,
             "#f1b6da"
            ],
            [
             0.4,
             "#fde0ef"
            ],
            [
             0.5,
             "#f7f7f7"
            ],
            [
             0.6,
             "#e6f5d0"
            ],
            [
             0.7,
             "#b8e186"
            ],
            [
             0.8,
             "#7fbc41"
            ],
            [
             0.9,
             "#4d9221"
            ],
            [
             1,
             "#276419"
            ]
           ],
           "sequential": [
            [
             0,
             "#0d0887"
            ],
            [
             0.1111111111111111,
             "#46039f"
            ],
            [
             0.2222222222222222,
             "#7201a8"
            ],
            [
             0.3333333333333333,
             "#9c179e"
            ],
            [
             0.4444444444444444,
             "#bd3786"
            ],
            [
             0.5555555555555556,
             "#d8576b"
            ],
            [
             0.6666666666666666,
             "#ed7953"
            ],
            [
             0.7777777777777778,
             "#fb9f3a"
            ],
            [
             0.8888888888888888,
             "#fdca26"
            ],
            [
             1,
             "#f0f921"
            ]
           ],
           "sequentialminus": [
            [
             0,
             "#0d0887"
            ],
            [
             0.1111111111111111,
             "#46039f"
            ],
            [
             0.2222222222222222,
             "#7201a8"
            ],
            [
             0.3333333333333333,
             "#9c179e"
            ],
            [
             0.4444444444444444,
             "#bd3786"
            ],
            [
             0.5555555555555556,
             "#d8576b"
            ],
            [
             0.6666666666666666,
             "#ed7953"
            ],
            [
             0.7777777777777778,
             "#fb9f3a"
            ],
            [
             0.8888888888888888,
             "#fdca26"
            ],
            [
             1,
             "#f0f921"
            ]
           ]
          },
          "colorway": [
           "#636efa",
           "#EF553B",
           "#00cc96",
           "#ab63fa",
           "#FFA15A",
           "#19d3f3",
           "#FF6692",
           "#B6E880",
           "#FF97FF",
           "#FECB52"
          ],
          "font": {
           "color": "#2a3f5f"
          },
          "geo": {
           "bgcolor": "white",
           "lakecolor": "white",
           "landcolor": "#E5ECF6",
           "showlakes": true,
           "showland": true,
           "subunitcolor": "white"
          },
          "hoverlabel": {
           "align": "left"
          },
          "hovermode": "closest",
          "mapbox": {
           "style": "light"
          },
          "paper_bgcolor": "white",
          "plot_bgcolor": "#E5ECF6",
          "polar": {
           "angularaxis": {
            "gridcolor": "white",
            "linecolor": "white",
            "ticks": ""
           },
           "bgcolor": "#E5ECF6",
           "radialaxis": {
            "gridcolor": "white",
            "linecolor": "white",
            "ticks": ""
           }
          },
          "scene": {
           "xaxis": {
            "backgroundcolor": "#E5ECF6",
            "gridcolor": "white",
            "gridwidth": 2,
            "linecolor": "white",
            "showbackground": true,
            "ticks": "",
            "zerolinecolor": "white"
           },
           "yaxis": {
            "backgroundcolor": "#E5ECF6",
            "gridcolor": "white",
            "gridwidth": 2,
            "linecolor": "white",
            "showbackground": true,
            "ticks": "",
            "zerolinecolor": "white"
           },
           "zaxis": {
            "backgroundcolor": "#E5ECF6",
            "gridcolor": "white",
            "gridwidth": 2,
            "linecolor": "white",
            "showbackground": true,
            "ticks": "",
            "zerolinecolor": "white"
           }
          },
          "shapedefaults": {
           "line": {
            "color": "#2a3f5f"
           }
          },
          "ternary": {
           "aaxis": {
            "gridcolor": "white",
            "linecolor": "white",
            "ticks": ""
           },
           "baxis": {
            "gridcolor": "white",
            "linecolor": "white",
            "ticks": ""
           },
           "bgcolor": "#E5ECF6",
           "caxis": {
            "gridcolor": "white",
            "linecolor": "white",
            "ticks": ""
           }
          },
          "title": {
           "x": 0.05
          },
          "xaxis": {
           "automargin": true,
           "gridcolor": "white",
           "linecolor": "white",
           "ticks": "",
           "title": {
            "standoff": 15
           },
           "zerolinecolor": "white",
           "zerolinewidth": 2
          },
          "yaxis": {
           "automargin": true,
           "gridcolor": "white",
           "linecolor": "white",
           "ticks": "",
           "title": {
            "standoff": 15
           },
           "zerolinecolor": "white",
           "zerolinewidth": 2
          }
         }
        },
        "title": {
         "text": "Sentiment Toward Exxon Over Time (by Source)"
        },
        "xaxis": {
         "anchor": "y",
         "domain": [
          0,
          1
         ],
         "side": "top",
         "title": {
          "text": "Month"
         }
        },
        "yaxis": {
         "anchor": "x",
         "autorange": "reversed",
         "domain": [
          0,
          1
         ],
         "title": {
          "text": "News Source"
         }
        }
       }
      }
     },
     "metadata": {},
     "output_type": "display_data"
    }
   ],
   "source": [
    "\n",
    "# Step 1: Map sentiment to score\n",
    "sentiment_score_map = {'negative': -1, 'neutral': 0, 'positive': 1}\n",
    "df_filtered = sentiment_time[sentiment_time['company'] == 'Allen-Weiss'].copy()\n",
    "df_filtered['score'] = df_filtered['sentiment'].map(sentiment_score_map)\n",
    "\n",
    "# Step 2: Group and convert 'month'\n",
    "df_filtered['month'] = df_filtered['month'].astype(str)  # or .dt.to_timestamp()\n",
    "df_heat = df_filtered.groupby(['month', '_raw_source'])['score'].mean().reset_index()\n",
    "\n",
    "# Step 3: Pivot for heatmap\n",
    "heatmap_data = df_heat.pivot(index='_raw_source', columns='month', values='score').fillna(0)\n",
    "\n",
    "# Step 4: Plot\n",
    "import plotly.express as px\n",
    "\n",
    "fig = px.imshow(\n",
    "\theatmap_data,\n",
    "\tcolor_continuous_scale=[(0, 'red'), (0.5, 'white'), (1, 'blue')],\n",
    "\taspect='auto',\n",
    "\tlabels=dict(x='Month', y='News Source', color='Sentiment Score'),\n",
    "\ttitle=\"Sentiment Toward Exxon Over Time (by Source)\"\n",
    ")\n",
    "\n",
    "fig.update_xaxes(side=\"top\")\n",
    "fig.show()"
   ]
  },
  {
   "cell_type": "code",
   "execution_count": 26,
   "metadata": {},
   "outputs": [
    {
     "name": "stdout",
     "output_type": "stream",
     "text": [
      "Empty DataFrame\n",
      "Columns: [type, _date_added, _raw_source, _algorithm, _last_edited_by, _last_edited_date, _articleid, source, target, key, sentiment, sentiment_recipient, company, month, source_type, target_type]\n",
      "Index: []\n",
      "Empty DataFrame\n",
      "Columns: [month, target, sentiment, count]\n",
      "Index: []\n"
     ]
    }
   ],
   "source": [
    "# Merge source type\n",
    "df_links = df_links.merge(\n",
    "\tdf_nodes[['id', 'type']].rename(columns={'id': 'source', 'type': 'source_type'}),\n",
    "\ton='source',\n",
    "\thow='left'\n",
    ")\n",
    "\n",
    "# Merge target type\n",
    "df_links = df_links.merge(\n",
    "\tdf_nodes[['id', 'type']].rename(columns={'id': 'target', 'type': 'target_type'}),\n",
    "\ton='target',\n",
    "\thow='left'\n",
    ")\n",
    "\n",
    "media_ngos = ['Entity.Organization.Media']\n",
    "companies = [\n",
    "\t'Entity.Organization.FishingCompany',\n",
    "\t'Entity.Organization.Company',\n",
    "\t'Entity.Organization.LogisticsCompany'\n",
    "]\n",
    "\n",
    "# Keep only relevant sentiment relationships\n",
    "df_filtered = df_links[\n",
    "\tdf_links['source_type'].isin(media_ngos) &\n",
    "\tdf_links['target_type'].isin(companies)\n",
    "]\n",
    "print(df_filtered)\n",
    "df_filtered['sentiment'] = df_filtered['type'].map(event_sentiment_map)\n",
    "\n",
    "df_filtered['_date_added'] = pd.to_datetime(df_filtered['_date_added'], errors='coerce')\n",
    "df_filtered['month'] = df_filtered['_date_added'].dt.to_period('M')\n",
    "\n",
    "sentiment_over_time = df_filtered.groupby(['month', 'target', 'sentiment']).size().reset_index(name='count')\n",
    "print(sentiment_over_time)"
   ]
  },
  {
   "cell_type": "code",
   "execution_count": 7,
   "metadata": {},
   "outputs": [
    {
     "data": {
      "application/vnd.plotly.v1+json": {
       "config": {
        "plotlyServerURL": "https://plot.ly"
       },
       "data": [],
       "layout": {
        "barmode": "group",
        "legend": {
         "tracegroupgap": 0
        },
        "template": {
         "data": {
          "bar": [
           {
            "error_x": {
             "color": "#2a3f5f"
            },
            "error_y": {
             "color": "#2a3f5f"
            },
            "marker": {
             "line": {
              "color": "#E5ECF6",
              "width": 0.5
             },
             "pattern": {
              "fillmode": "overlay",
              "size": 10,
              "solidity": 0.2
             }
            },
            "type": "bar"
           }
          ],
          "barpolar": [
           {
            "marker": {
             "line": {
              "color": "#E5ECF6",
              "width": 0.5
             },
             "pattern": {
              "fillmode": "overlay",
              "size": 10,
              "solidity": 0.2
             }
            },
            "type": "barpolar"
           }
          ],
          "carpet": [
           {
            "aaxis": {
             "endlinecolor": "#2a3f5f",
             "gridcolor": "white",
             "linecolor": "white",
             "minorgridcolor": "white",
             "startlinecolor": "#2a3f5f"
            },
            "baxis": {
             "endlinecolor": "#2a3f5f",
             "gridcolor": "white",
             "linecolor": "white",
             "minorgridcolor": "white",
             "startlinecolor": "#2a3f5f"
            },
            "type": "carpet"
           }
          ],
          "choropleth": [
           {
            "colorbar": {
             "outlinewidth": 0,
             "ticks": ""
            },
            "type": "choropleth"
           }
          ],
          "contour": [
           {
            "colorbar": {
             "outlinewidth": 0,
             "ticks": ""
            },
            "colorscale": [
             [
              0,
              "#0d0887"
             ],
             [
              0.1111111111111111,
              "#46039f"
             ],
             [
              0.2222222222222222,
              "#7201a8"
             ],
             [
              0.3333333333333333,
              "#9c179e"
             ],
             [
              0.4444444444444444,
              "#bd3786"
             ],
             [
              0.5555555555555556,
              "#d8576b"
             ],
             [
              0.6666666666666666,
              "#ed7953"
             ],
             [
              0.7777777777777778,
              "#fb9f3a"
             ],
             [
              0.8888888888888888,
              "#fdca26"
             ],
             [
              1,
              "#f0f921"
             ]
            ],
            "type": "contour"
           }
          ],
          "contourcarpet": [
           {
            "colorbar": {
             "outlinewidth": 0,
             "ticks": ""
            },
            "type": "contourcarpet"
           }
          ],
          "heatmap": [
           {
            "colorbar": {
             "outlinewidth": 0,
             "ticks": ""
            },
            "colorscale": [
             [
              0,
              "#0d0887"
             ],
             [
              0.1111111111111111,
              "#46039f"
             ],
             [
              0.2222222222222222,
              "#7201a8"
             ],
             [
              0.3333333333333333,
              "#9c179e"
             ],
             [
              0.4444444444444444,
              "#bd3786"
             ],
             [
              0.5555555555555556,
              "#d8576b"
             ],
             [
              0.6666666666666666,
              "#ed7953"
             ],
             [
              0.7777777777777778,
              "#fb9f3a"
             ],
             [
              0.8888888888888888,
              "#fdca26"
             ],
             [
              1,
              "#f0f921"
             ]
            ],
            "type": "heatmap"
           }
          ],
          "histogram": [
           {
            "marker": {
             "pattern": {
              "fillmode": "overlay",
              "size": 10,
              "solidity": 0.2
             }
            },
            "type": "histogram"
           }
          ],
          "histogram2d": [
           {
            "colorbar": {
             "outlinewidth": 0,
             "ticks": ""
            },
            "colorscale": [
             [
              0,
              "#0d0887"
             ],
             [
              0.1111111111111111,
              "#46039f"
             ],
             [
              0.2222222222222222,
              "#7201a8"
             ],
             [
              0.3333333333333333,
              "#9c179e"
             ],
             [
              0.4444444444444444,
              "#bd3786"
             ],
             [
              0.5555555555555556,
              "#d8576b"
             ],
             [
              0.6666666666666666,
              "#ed7953"
             ],
             [
              0.7777777777777778,
              "#fb9f3a"
             ],
             [
              0.8888888888888888,
              "#fdca26"
             ],
             [
              1,
              "#f0f921"
             ]
            ],
            "type": "histogram2d"
           }
          ],
          "histogram2dcontour": [
           {
            "colorbar": {
             "outlinewidth": 0,
             "ticks": ""
            },
            "colorscale": [
             [
              0,
              "#0d0887"
             ],
             [
              0.1111111111111111,
              "#46039f"
             ],
             [
              0.2222222222222222,
              "#7201a8"
             ],
             [
              0.3333333333333333,
              "#9c179e"
             ],
             [
              0.4444444444444444,
              "#bd3786"
             ],
             [
              0.5555555555555556,
              "#d8576b"
             ],
             [
              0.6666666666666666,
              "#ed7953"
             ],
             [
              0.7777777777777778,
              "#fb9f3a"
             ],
             [
              0.8888888888888888,
              "#fdca26"
             ],
             [
              1,
              "#f0f921"
             ]
            ],
            "type": "histogram2dcontour"
           }
          ],
          "mesh3d": [
           {
            "colorbar": {
             "outlinewidth": 0,
             "ticks": ""
            },
            "type": "mesh3d"
           }
          ],
          "parcoords": [
           {
            "line": {
             "colorbar": {
              "outlinewidth": 0,
              "ticks": ""
             }
            },
            "type": "parcoords"
           }
          ],
          "pie": [
           {
            "automargin": true,
            "type": "pie"
           }
          ],
          "scatter": [
           {
            "fillpattern": {
             "fillmode": "overlay",
             "size": 10,
             "solidity": 0.2
            },
            "type": "scatter"
           }
          ],
          "scatter3d": [
           {
            "line": {
             "colorbar": {
              "outlinewidth": 0,
              "ticks": ""
             }
            },
            "marker": {
             "colorbar": {
              "outlinewidth": 0,
              "ticks": ""
             }
            },
            "type": "scatter3d"
           }
          ],
          "scattercarpet": [
           {
            "marker": {
             "colorbar": {
              "outlinewidth": 0,
              "ticks": ""
             }
            },
            "type": "scattercarpet"
           }
          ],
          "scattergeo": [
           {
            "marker": {
             "colorbar": {
              "outlinewidth": 0,
              "ticks": ""
             }
            },
            "type": "scattergeo"
           }
          ],
          "scattergl": [
           {
            "marker": {
             "colorbar": {
              "outlinewidth": 0,
              "ticks": ""
             }
            },
            "type": "scattergl"
           }
          ],
          "scattermap": [
           {
            "marker": {
             "colorbar": {
              "outlinewidth": 0,
              "ticks": ""
             }
            },
            "type": "scattermap"
           }
          ],
          "scattermapbox": [
           {
            "marker": {
             "colorbar": {
              "outlinewidth": 0,
              "ticks": ""
             }
            },
            "type": "scattermapbox"
           }
          ],
          "scatterpolar": [
           {
            "marker": {
             "colorbar": {
              "outlinewidth": 0,
              "ticks": ""
             }
            },
            "type": "scatterpolar"
           }
          ],
          "scatterpolargl": [
           {
            "marker": {
             "colorbar": {
              "outlinewidth": 0,
              "ticks": ""
             }
            },
            "type": "scatterpolargl"
           }
          ],
          "scatterternary": [
           {
            "marker": {
             "colorbar": {
              "outlinewidth": 0,
              "ticks": ""
             }
            },
            "type": "scatterternary"
           }
          ],
          "surface": [
           {
            "colorbar": {
             "outlinewidth": 0,
             "ticks": ""
            },
            "colorscale": [
             [
              0,
              "#0d0887"
             ],
             [
              0.1111111111111111,
              "#46039f"
             ],
             [
              0.2222222222222222,
              "#7201a8"
             ],
             [
              0.3333333333333333,
              "#9c179e"
             ],
             [
              0.4444444444444444,
              "#bd3786"
             ],
             [
              0.5555555555555556,
              "#d8576b"
             ],
             [
              0.6666666666666666,
              "#ed7953"
             ],
             [
              0.7777777777777778,
              "#fb9f3a"
             ],
             [
              0.8888888888888888,
              "#fdca26"
             ],
             [
              1,
              "#f0f921"
             ]
            ],
            "type": "surface"
           }
          ],
          "table": [
           {
            "cells": {
             "fill": {
              "color": "#EBF0F8"
             },
             "line": {
              "color": "white"
             }
            },
            "header": {
             "fill": {
              "color": "#C8D4E3"
             },
             "line": {
              "color": "white"
             }
            },
            "type": "table"
           }
          ]
         },
         "layout": {
          "annotationdefaults": {
           "arrowcolor": "#2a3f5f",
           "arrowhead": 0,
           "arrowwidth": 1
          },
          "autotypenumbers": "strict",
          "coloraxis": {
           "colorbar": {
            "outlinewidth": 0,
            "ticks": ""
           }
          },
          "colorscale": {
           "diverging": [
            [
             0,
             "#8e0152"
            ],
            [
             0.1,
             "#c51b7d"
            ],
            [
             0.2,
             "#de77ae"
            ],
            [
             0.3,
             "#f1b6da"
            ],
            [
             0.4,
             "#fde0ef"
            ],
            [
             0.5,
             "#f7f7f7"
            ],
            [
             0.6,
             "#e6f5d0"
            ],
            [
             0.7,
             "#b8e186"
            ],
            [
             0.8,
             "#7fbc41"
            ],
            [
             0.9,
             "#4d9221"
            ],
            [
             1,
             "#276419"
            ]
           ],
           "sequential": [
            [
             0,
             "#0d0887"
            ],
            [
             0.1111111111111111,
             "#46039f"
            ],
            [
             0.2222222222222222,
             "#7201a8"
            ],
            [
             0.3333333333333333,
             "#9c179e"
            ],
            [
             0.4444444444444444,
             "#bd3786"
            ],
            [
             0.5555555555555556,
             "#d8576b"
            ],
            [
             0.6666666666666666,
             "#ed7953"
            ],
            [
             0.7777777777777778,
             "#fb9f3a"
            ],
            [
             0.8888888888888888,
             "#fdca26"
            ],
            [
             1,
             "#f0f921"
            ]
           ],
           "sequentialminus": [
            [
             0,
             "#0d0887"
            ],
            [
             0.1111111111111111,
             "#46039f"
            ],
            [
             0.2222222222222222,
             "#7201a8"
            ],
            [
             0.3333333333333333,
             "#9c179e"
            ],
            [
             0.4444444444444444,
             "#bd3786"
            ],
            [
             0.5555555555555556,
             "#d8576b"
            ],
            [
             0.6666666666666666,
             "#ed7953"
            ],
            [
             0.7777777777777778,
             "#fb9f3a"
            ],
            [
             0.8888888888888888,
             "#fdca26"
            ],
            [
             1,
             "#f0f921"
            ]
           ]
          },
          "colorway": [
           "#636efa",
           "#EF553B",
           "#00cc96",
           "#ab63fa",
           "#FFA15A",
           "#19d3f3",
           "#FF6692",
           "#B6E880",
           "#FF97FF",
           "#FECB52"
          ],
          "font": {
           "color": "#2a3f5f"
          },
          "geo": {
           "bgcolor": "white",
           "lakecolor": "white",
           "landcolor": "#E5ECF6",
           "showlakes": true,
           "showland": true,
           "subunitcolor": "white"
          },
          "hoverlabel": {
           "align": "left"
          },
          "hovermode": "closest",
          "mapbox": {
           "style": "light"
          },
          "paper_bgcolor": "white",
          "plot_bgcolor": "#E5ECF6",
          "polar": {
           "angularaxis": {
            "gridcolor": "white",
            "linecolor": "white",
            "ticks": ""
           },
           "bgcolor": "#E5ECF6",
           "radialaxis": {
            "gridcolor": "white",
            "linecolor": "white",
            "ticks": ""
           }
          },
          "scene": {
           "xaxis": {
            "backgroundcolor": "#E5ECF6",
            "gridcolor": "white",
            "gridwidth": 2,
            "linecolor": "white",
            "showbackground": true,
            "ticks": "",
            "zerolinecolor": "white"
           },
           "yaxis": {
            "backgroundcolor": "#E5ECF6",
            "gridcolor": "white",
            "gridwidth": 2,
            "linecolor": "white",
            "showbackground": true,
            "ticks": "",
            "zerolinecolor": "white"
           },
           "zaxis": {
            "backgroundcolor": "#E5ECF6",
            "gridcolor": "white",
            "gridwidth": 2,
            "linecolor": "white",
            "showbackground": true,
            "ticks": "",
            "zerolinecolor": "white"
           }
          },
          "shapedefaults": {
           "line": {
            "color": "#2a3f5f"
           }
          },
          "ternary": {
           "aaxis": {
            "gridcolor": "white",
            "linecolor": "white",
            "ticks": ""
           },
           "baxis": {
            "gridcolor": "white",
            "linecolor": "white",
            "ticks": ""
           },
           "bgcolor": "#E5ECF6",
           "caxis": {
            "gridcolor": "white",
            "linecolor": "white",
            "ticks": ""
           }
          },
          "title": {
           "x": 0.05
          },
          "xaxis": {
           "automargin": true,
           "gridcolor": "white",
           "linecolor": "white",
           "ticks": "",
           "title": {
            "standoff": 15
           },
           "zerolinecolor": "white",
           "zerolinewidth": 2
          },
          "yaxis": {
           "automargin": true,
           "gridcolor": "white",
           "linecolor": "white",
           "ticks": "",
           "title": {
            "standoff": 15
           },
           "zerolinecolor": "white",
           "zerolinewidth": 2
          }
         }
        },
        "title": {
         "text": "Media/NGO Sentiment Toward Companies Over Time"
        },
        "xaxis": {
         "anchor": "y",
         "domain": [
          0,
          1
         ],
         "title": {
          "text": "month"
         }
        },
        "yaxis": {
         "anchor": "x",
         "domain": [
          0,
          1
         ],
         "title": {
          "text": "count"
         }
        }
       }
      }
     },
     "metadata": {},
     "output_type": "display_data"
    }
   ],
   "source": [
    "import plotly.express as px\n",
    "\n",
    "fig = px.bar(\n",
    "\tsentiment_over_time,\n",
    "\tx='month',\n",
    "\ty='count',\n",
    "\tcolor='sentiment',\n",
    "\tfacet_col='target',\n",
    "\tbarmode='group',\n",
    "\ttitle='Media/NGO Sentiment Toward Companies Over Time'\n",
    ")\n",
    "fig.show()"
   ]
  },
  {
   "cell_type": "code",
   "execution_count": null,
   "metadata": {},
   "outputs": [
    {
     "name": "stdout",
     "output_type": "stream",
     "text": [
      "                           type          _date_added _raw_source _algorithm  \\\n",
      "12499  Event.Owns.PartiallyOwns  2035-02-22T07:00:00         NaN        NaN   \n",
      "12614  Event.Owns.PartiallyOwns  2035-03-03T23:00:00         NaN        NaN   \n",
      "\n",
      "      _last_edited_by _last_edited_date _articleid       source      target  \\\n",
      "12499             NaN               NaN        NaN  Fabio Conti  Jacobs PLC   \n",
      "12614             NaN               NaN        NaN  Eun-Ji Park  Jacobs PLC   \n",
      "\n",
      "       key  \n",
      "12499    0  \n",
      "12614    0  \n",
      "type\n",
      "Event.Owns.PartiallyOwns    2\n",
      "Name: count, dtype: int64\n"
     ]
    }
   ],
   "source": [
    "# Replace 'your_file.json' with your actual file path\n",
    "with open('mc1.json', 'r') as f:\n",
    "\tdata = json.load(f)\n",
    "\n",
    "# Extract the nodes list\n",
    "nodes = data[\"nodes\"]\n",
    "links = data[\"links\"]\n",
    "\n",
    "# Create a DataFrame from nodes\n",
    "df_nodes = pd.DataFrame(nodes)\n",
    "df_links = pd.DataFrame(links)\n",
    "\n",
    "filtered_df = df_links[df_links['target'] == 'Smith-Hull'] # Add callback from scatter\n",
    "\n",
    "df_baseline = filtered_df[filtered_df['_algorithm'] == 'BassLine']\n",
    "df_shadgpt = filtered_df[filtered_df['_algorithm'] == 'ShadGPT']\n",
    "\n",
    "type_counts1 = df_baseline['type'].value_counts()\n",
    "type_counts2 = df_shadgpt['type'].value_counts()\n",
    "\n",
    "print(type_counts1)\n",
    "print(type_counts2)"
   ]
  },
  {
   "cell_type": "code",
   "execution_count": 5,
   "metadata": {},
   "outputs": [
    {
     "name": "stdout",
     "output_type": "stream",
     "text": [
      "[('newton', 0.3974), ('support', 0.3817), ('scrutiny', 0.3222), ('markets', 0.3142), ('international', 0.3097), ('rise', 0.2963), ('phillips', 0.2684), ('domestic', 0.2222), ('news', 0.2213), ('reports', 0.151)]\n"
     ]
    }
   ],
   "source": [
    "from keybert import KeyBERT\n",
    "\n",
    "# Use a small and fast model\n",
    "model = KeyBERT(model='all-MiniLM-L6-v2')  # ~50MB, very fast on CPU"
   ]
  },
  {
   "cell_type": "code",
   "execution_count": 143,
   "metadata": {},
   "outputs": [],
   "source": [
    "text = \"\"\"\n",
    "Valdez, Dalton and Cook Hailed for Sustainable Fishing Practices\n",
    "The Richland-based fishing company Valdez, Dalton and Cook was recognized by both Centralia and Paackland on May 23rd, 2035 for their commitment to sustainable fishing practices in the Cod Table. The company invests in sustainable nets, commodity efficiency, and tracking systems to minimize environmental impact.\n",
    "\n",
    "Their dedication to the environment is further evidenced by their investment in marine sanctuaries on July 21st, 2035.\n",
    "\n",
    "Here's a shanty the locals have started singing to celebrate sustainable fishing:\n",
    "\n",
    "The fish in the sea, they be swimmin' free\n",
    "Valdez, Dalton and Cook, keep it that way for you and for me\n",
    "Sustainable nets and trackers on board\n",
    "They fish with a conscience, and that's somethin' to be adored!\n",
    "\n",
    "(Chorus)\n",
    "Heave ho, haul the line\n",
    "Valdez, Dalton and Cook, make the ocean shine!\n",
    "Sustainable fish, on every plate\n",
    "Thanks to Valdez, Dalton and Cook, it ain't too late!\n",
    "\"\"\"\n",
    "\n"
   ]
  },
  {
   "cell_type": "code",
   "execution_count": 14,
   "metadata": {},
   "outputs": [
    {
     "name": "stdout",
     "output_type": "stream",
     "text": [
      "Extracted entity-related sentiment phrases:\n",
      "\n",
      "- Montoya Group\n",
      "- Commodity Efficiency\n",
      "- the Montoya Group\n",
      "- safety investments\n",
      "- vital support\n",
      "- Montoya Group's focus\n",
      "- a steadfast commitment\n",
      "- its openness\n"
     ]
    }
   ],
   "source": [
    "import spacy\n",
    "from vaderSentiment.vaderSentiment import SentimentIntensityAnalyzer\n",
    "\n",
    "nlp = spacy.load(\"en_core_web_sm\")\n",
    "analyzer = SentimentIntensityAnalyzer()\n",
    "lexicon = analyzer.lexicon\n",
    "\n",
    "def contains_polar_word(phrase):\n",
    "    words = phrase.lower().split()\n",
    "    return any(word in lexicon for word in words)\n",
    "\n",
    "def clean_text(text):\n",
    "    return \" \".join(text.strip().split())\n",
    "\n",
    "def phrase_mentions_entity(phrase, entity_name):\n",
    "    entity_name = entity_name.lower()\n",
    "    phrase = phrase.lower()\n",
    "    entity_tokens = entity_name.split()\n",
    "    return any(token in phrase for token in entity_tokens)\n",
    "\n",
    "def extract_entity_related_phrases(text, entity_name):\n",
    "    doc = nlp(text)\n",
    "    phrases = set()\n",
    "\n",
    "    for sent in doc.sents:\n",
    "        sent_text = clean_text(sent.text)\n",
    "        sent_doc = nlp(sent_text)\n",
    "\n",
    "        # Proceed only if entity mentioned in sentence\n",
    "        if entity_name.lower() not in sent_text.lower():\n",
    "            continue\n",
    "\n",
    "        # Extract noun chunks mentioning the entity or containing sentiment words\n",
    "        for chunk in sent_doc.noun_chunks:\n",
    "            chunk_text = clean_text(chunk.text)\n",
    "            if (phrase_mentions_entity(chunk_text, entity_name) or contains_polar_word(chunk_text)) and 2 <= len(chunk_text.split()) <= 10:\n",
    "                phrases.add(chunk_text)\n",
    "\n",
    "        # Extract verb phrases with entity as subject/object and polar words\n",
    "        for token in sent_doc:\n",
    "            if token.pos_ in (\"VERB\", \"AUX\") and contains_polar_word(token.text):\n",
    "                subjects = [child for child in token.children if child.dep_ in (\"nsubj\", \"nsubjpass\")]\n",
    "                objects = [child for child in token.children if child.dep_ in (\"dobj\", \"obj\")]\n",
    "\n",
    "                subject_related = any(phrase_mentions_entity(sub.text, entity_name) for sub in subjects)\n",
    "                object_related = any(phrase_mentions_entity(obj.text, entity_name) for obj in objects)\n",
    "\n",
    "                if subject_related or object_related:\n",
    "                    phrase_tokens = [token]\n",
    "                    for child in token.children:\n",
    "                        if child.dep_ in (\"dobj\", \"prep\", \"xcomp\", \"acomp\"):\n",
    "                            phrase_tokens.extend(list(child.subtree))\n",
    "                    phrase_tokens = sorted(set(phrase_tokens), key=lambda t: t.i)\n",
    "                    phrase_text = clean_text(\" \".join([t.text for t in phrase_tokens]))\n",
    "                    if 2 <= len(phrase_text.split()) <= 12:\n",
    "                        phrases.add(phrase_text)\n",
    "\n",
    "    return list(phrases)\n",
    "\n",
    "# Your new example text\n",
    "text = \"\"\"\n",
    "In a whirlwind of strategic initiatives, the Montoya Group, led by Victor Allain and headquartered in the coastal nation of Oceanus, continues to make waves in the fishing industry. Renowned for its commitment to excellence, the company has been actively shaping its market presence through a series of astute maneuvers.\n",
    "\n",
    "Demonstrating a steadfast commitment to sustainability, Montoya Group invested in Sustainable Nets and provided vital support to Marine Sanctuaries in both February and April, showcasing its unwavering dedication to environmental stewardship. \"Preserving marine ecosystems is not just a responsibility; it's our duty as stewards of the oceans,\" asserts Allain.\n",
    "\n",
    "Additionally, emphasizing the paramount importance of safety, the company made significant investments in safety protocols, underlining its steadfast focus on upholding product quality and consumer well-being. Simultaneously, Montoya Group's focus on efficiency was evident in its investments in Commodity Efficiency and the implementation of a Tracking System in April, aimed at streamlining operations and maximizing productivity.\n",
    "\n",
    "Building upon its existing investments, the company expanded its portfolio with further commitments to efficiency, safety, and environmental stewardship. \"Investing in technology not only enhances our efficiency but also reinforces our commitment to responsible fishing practices,\" comments Allain.\n",
    "\n",
    "In a bid to foster collaboration and knowledge-sharing, Montoya Group participated in conferences with industry peers such as Hernandez-Rojas and Murphy, Marshall and Pope, showcasing its openness to partnerships and industry dialogue. Moreover, the company engaged in transactions with a diverse array of entities, including Maddox Group, Dunn Inc, and Nguyen, Marsh and Hall, underscoring its versatility and expansive reach within the industry.\n",
    "\n",
    "With a strategic blend of sustainability initiatives, safety investments, and collaborative endeavors, Montoya Group continues to solidify its position as a trailblazer in the fishing industry. By navigating market dynamics with agility and purpose, the company remains committed to driving positive change and innovation within the sector.\n",
    "\"\"\"\n",
    "\n",
    "entity_name = \"Montoya Group\"\n",
    "phrases = extract_entity_related_phrases(text, entity_name)\n",
    "\n",
    "print(\"Extracted entity-related sentiment phrases:\\n\")\n",
    "for phrase in phrases:\n",
    "    print(\"-\", phrase)\n"
   ]
  },
  {
   "cell_type": "code",
   "execution_count": 173,
   "metadata": {},
   "outputs": [
    {
     "data": {
      "image/png": "[encoded data removed]",
      "text/plain": [
       "<Figure size 1500x750 with 1 Axes>"
      ]
     },
     "metadata": {},
     "output_type": "display_data"
    }
   ],
   "source": [
    "# Join phrases into a single string, with underscores replacing spaces to keep phrases intact\n",
    "text = ' '.join(phrase.replace(' ', '_') for phrase in phrases)\n",
    "\n",
    "# Generate word cloud\n",
    "wordcloud = WordCloud(width=800, height=400, background_color='white').generate(text)\n",
    "\n",
    "# Display\n",
    "plt.figure(figsize=(15, 7.5))\n",
    "plt.imshow(wordcloud, interpolation='bilinear')\n",
    "plt.axis('off')\n",
    "plt.show()"
   ]
  },
  {
   "cell_type": "code",
   "execution_count": 2,
   "metadata": {},
   "outputs": [
    {
     "data": {
      "text/plain": [
       "['Barnett Ltd__0__0__Lomark Daily.txt',\n",
       " 'Alvarez PLC__0__0__Lomark Daily.txt',\n",
       " 'Turner-Green__0__0__Lomark Daily.txt',\n",
       " 'Franco-Stuart__0__1__The News Buoy.txt',\n",
       " 'Taylor, Prince and Sherman__0__0__Lomark Daily.txt',\n",
       " 'Anderson, Brown and Green__0__1__Lomark Daily.txt',\n",
       " 'Blackwell, Clark and Lam__0__1__Lomark Daily.txt',\n",
       " 'Serrano-Cruz__0__0__Haacklee Herald.txt',\n",
       " 'Phillips-Newton__0__0__The News Buoy.txt',\n",
       " 'Watson-Gray__0__1__The News Buoy.txt',\n",
       " 'Harper Inc__0__0__The News Buoy.txt',\n",
       " 'Wilcox-Nelson__0__0__Haacklee Herald.txt',\n",
       " 'Burns Inc__0__1__Haacklee Herald.txt',\n",
       " 'Barnett Ltd__0__1__The News Buoy.txt',\n",
       " 'Flores Ltd__0__0__Lomark Daily.txt',\n",
       " 'Frey Inc__0__1__Haacklee Herald.txt',\n",
       " 'Horn and Sons__0__0__Lomark Daily.txt',\n",
       " 'Smith-Hull__0__0__The News Buoy.txt',\n",
       " 'Cooper, Holland and Nelson__0__0__Haacklee Herald.txt',\n",
       " 'Mcgee and Sons__0__0__Haacklee Herald.txt',\n",
       " 'Thomas-Weaver__0__0__Haacklee Herald.txt',\n",
       " 'Taylor, Prince and Sherman__0__0__The News Buoy.txt',\n",
       " 'Moore-Simon__0__0__Lomark Daily.txt',\n",
       " 'Roth, Logan and Moreno__0__0__Lomark Daily.txt',\n",
       " 'York-Castillo__0__0__Haacklee Herald.txt',\n",
       " 'Glover, Moran and Johnson__0__0__The News Buoy.txt',\n",
       " 'Murray, Friedman and Wall__0__0__Haacklee Herald_Police.txt',\n",
       " 'Rosario-Melendez__0__0__The News Buoy.txt',\n",
       " 'Jones Group__0__0__Lomark Daily_Police.txt',\n",
       " 'Olsen Group__0__0__The News Buoy.txt',\n",
       " 'Jones Group__0__1__Haacklee Herald.txt',\n",
       " 'Spencer, Richards and Wilson__0__0__The News Buoy.txt',\n",
       " 'Harrell-Walters__0__1__The News Buoy.txt',\n",
       " 'Frank Group__0__0__Haacklee Herald.txt',\n",
       " 'Jones, Davis and Grant__0__0__The News Buoy.txt',\n",
       " 'Henderson, Hall and Lutz__0__1__Haacklee Herald.txt',\n",
       " 'Clements, Allen and Sullivan__0__1__Haacklee Herald.txt',\n",
       " 'Bell, Reynolds and Forbes__0__1__The News Buoy.txt',\n",
       " 'Olsen Group__0__0__Lomark Daily.txt',\n",
       " 'Castillo-Elliott__0__0__Lomark Daily.txt',\n",
       " 'Castillo-Elliott__0__1__Haacklee Herald.txt',\n",
       " 'Rosario-Melendez__0__0__Lomark Daily.txt',\n",
       " 'Vargas-Jensen__0__0__Lomark Daily.txt',\n",
       " 'Martinez-Le__0__0__The News Buoy.txt',\n",
       " 'Watson-Gray__0__0__Haacklee Herald.txt',\n",
       " 'Jackson Inc__0__0__The News Buoy.txt',\n",
       " 'Alvarez PLC__0__1__Lomark Daily.txt',\n",
       " 'Moore-Simon__0__0__Haacklee Herald.txt',\n",
       " 'Turner-Green__0__0__Haacklee Herald.txt',\n",
       " 'Alvarez PLC__0__0__Haacklee Herald.txt',\n",
       " 'Rivas-Stevens__0__0__The News Buoy.txt',\n",
       " 'Rhodes-Thompson__0__0__Lomark Daily.txt',\n",
       " 'Rasmussen, Nelson and King__0__1__The News Buoy.txt',\n",
       " 'Taylor, Prince and Sherman__0__1__Lomark Daily.txt',\n",
       " 'Phillips-Newton__0__0__Haacklee Herald.txt',\n",
       " 'Mclaughlin-Chandler__0__0__Haacklee Herald.txt',\n",
       " 'Anderson, Brown and Green__0__0__Lomark Daily.txt',\n",
       " 'Rosario-Melendez__0__0__Haacklee Herald.txt',\n",
       " 'Clark-Leon__0__0__Haacklee Herald.txt',\n",
       " 'Blackwell, Clark and Lam__0__0__Lomark Daily.txt',\n",
       " 'Bowers Group__0__0__Lomark Daily.txt',\n",
       " 'Mcgee and Sons__0__1__The News Buoy.txt',\n",
       " 'Anderson, Brown and Green__0__1__The News Buoy.txt',\n",
       " 'Kelly-Smith__0__0__The News Buoy.txt',\n",
       " 'Turner-Green__0__0__The News Buoy.txt',\n",
       " 'Castillo-Elliott__0__1__The News Buoy.txt',\n",
       " 'Lutz-Fleming__0__0__Haacklee Herald.txt',\n",
       " 'Jones, Davis and Grant__0__0__Haacklee Herald.txt',\n",
       " 'Bell, Reynolds and Forbes__0__1__Haacklee Herald.txt',\n",
       " 'Ramos-Shelton__0__0__Lomark Daily.txt',\n",
       " 'Craig Ltd__0__1__Haacklee Herald.txt',\n",
       " 'Rhodes-Thompson__0__1__Haacklee Herald.txt',\n",
       " 'Cervantes-Kramer__2__1__The News Buoy.txt',\n",
       " 'Harper Inc__0__0__Haacklee Herald.txt',\n",
       " 'NyanzaRiver Worldwide AS__0__0__The News Buoy.txt',\n",
       " 'Montoya Group__0__0__Lomark Daily.txt',\n",
       " 'Cooper, Holland and Nelson__0__0__The News Buoy.txt',\n",
       " 'Jones Group__0__0__The News Buoy.txt',\n",
       " 'Cook PLC__0__0__Lomark Daily.txt',\n",
       " 'Bishop-Hernandez__0__0__The News Buoy.txt',\n",
       " 'Arellano Group__0__0__Haacklee Herald.txt',\n",
       " 'Klein LLC__0__0__Haacklee Herald.txt',\n",
       " 'Clements, Allen and Sullivan__0__0__The News Buoy.txt',\n",
       " 'Hughes-Clark__0__0__Haacklee Herald.txt',\n",
       " 'Phelps, Brown and Wallace__0__0__Haacklee Herald.txt',\n",
       " 'Henderson, Hall and Lutz__0__0__The News Buoy.txt',\n",
       " 'Vasquez, Chaney and Martinez__0__0__Lomark Daily.txt',\n",
       " 'Thomas-Weaver__0__0__Lomark Daily.txt',\n",
       " 'Mann, Myers and Rivera__0__0__The News Buoy.txt',\n",
       " 'Barnes and Sons__0__0__The News Buoy.txt',\n",
       " 'Evans-Pearson__0__1__Haacklee Herald.txt',\n",
       " 'Spencer, Richards and Wilson__0__0__Lomark Daily.txt',\n",
       " 'Anderson, Brown and Green__0__0__Haacklee Herald.txt',\n",
       " 'Cuevas PLC__0__0__Lomark Daily.txt',\n",
       " 'Murray, Friedman and Wall__0__0__The News Buoy.txt',\n",
       " 'Castillo-Elliott__0__1__Lomark Daily.txt',\n",
       " 'Brown, Clarke and Martinez__0__1__The News Buoy.txt',\n",
       " 'Clark-Leon__0__0__The News Buoy.txt',\n",
       " 'Craig Ltd__0__1__The News Buoy.txt',\n",
       " 'Sanchez-Moreno__0__1__The News Buoy.txt',\n",
       " 'Phillips-Newton__0__0__Lomark Daily.txt',\n",
       " 'Clarke, Scott and Sloan__0__0__The News Buoy.txt',\n",
       " 'Alvarez PLC__0__0__The News Buoy.txt',\n",
       " 'York-Castillo__0__0__Lomark Daily.txt',\n",
       " 'Thomas-Weaver__0__0__The News Buoy.txt',\n",
       " 'Wu-Hart__0__0__Haacklee Herald.txt',\n",
       " 'Blackwell, Clark and Lam__0__1__The News Buoy.txt',\n",
       " 'Bishop-Hernandez__0__0__Haacklee Herald.txt',\n",
       " 'Hines-Douglas__0__0__Lomark Daily.txt',\n",
       " 'Mcgee and Sons__0__1__Haacklee Herald.txt',\n",
       " 'Evans-Pearson__0__1__The News Buoy.txt',\n",
       " 'Castillo-Elliott__0__0__Haacklee Herald.txt',\n",
       " 'Horn and Sons__0__0__The News Buoy.txt',\n",
       " 'Valdez, Dalton and Cook__0__0__The News Buoy.txt',\n",
       " 'Henderson, Hall and Lutz__0__0__Haacklee Herald.txt',\n",
       " 'Clements, Allen and Sullivan__0__0__Haacklee Herald.txt',\n",
       " 'Rivas-Stevens__0__0__Haacklee Herald.txt',\n",
       " 'Jones Group__0__0__Haacklee Herald.txt',\n",
       " 'Harrington Inc__0__1__Lomark Daily.txt',\n",
       " 'Murphy, Marshall and Pope__0__0__The News Buoy.txt',\n",
       " 'Cain, Simpson and Hernandez__0__0__The News Buoy.txt',\n",
       " 'Vargas-Jensen__0__0__Haacklee Herald.txt',\n",
       " 'Frey Inc__0__1__The News Buoy.txt',\n",
       " 'Harrell-Walters__0__0__Lomark Daily.txt',\n",
       " 'Kelly-Smith__0__0__Haacklee Herald.txt',\n",
       " 'Namorna Transit Ltd__0__0__The News Buoy.txt',\n",
       " 'Frey Inc__0__0__Haacklee Herald.txt',\n",
       " 'Cervantes-Kramer__2__0__Lomark Daily.txt',\n",
       " 'Thompson-Padilla__0__0__Lomark Daily.txt',\n",
       " 'Collins, Johnson and Lloyd__0__0__Haacklee Herald.txt',\n",
       " 'York-Castillo__0__0__The News Buoy.txt',\n",
       " 'Burns Inc__0__0__Haacklee Herald.txt',\n",
       " 'Martin LLC__0__0__The News Buoy.txt',\n",
       " 'PregolyaDredge Logistics Incorporated__0__0__The News Buoy.txt',\n",
       " 'Martin LLC__0__0__Haacklee Herald.txt',\n",
       " 'Roth, Logan and Moreno__0__0__The News Buoy.txt',\n",
       " 'Flores Ltd__0__0__The News Buoy.txt',\n",
       " 'Hughes-Clark__0__1__The News Buoy.txt',\n",
       " 'Olsen Group__0__0__Haacklee Herald.txt',\n",
       " 'Jones Group__0__0__The News Buoy_Police.txt',\n",
       " 'Cuevas PLC__0__0__Haacklee Herald.txt',\n",
       " 'Hughes-Clark__0__1__Haacklee Herald.txt',\n",
       " 'Cooper, Holland and Nelson__0__0__Lomark Daily.txt',\n",
       " 'Cervantes-Kramer__1__0__The News Buoy.txt',\n",
       " 'Bowers Group__0__0__Haacklee Herald.txt',\n",
       " 'Rhodes-Thompson__0__0__Haacklee Herald.txt',\n",
       " 'Hernandez-Rojas__0__0__Haacklee Herald.txt',\n",
       " 'Serrano-Cruz__0__0__The News Buoy.txt',\n",
       " 'Anderson, Brown and Green__0__1__Haacklee Herald.txt',\n",
       " 'Collins, Johnson and Lloyd__0__0__Lomark Daily.txt',\n",
       " 'Montoya Group__0__0__Haacklee Herald.txt',\n",
       " 'Evans-Pearson__0__0__Haacklee Herald.txt',\n",
       " 'Harrington Inc__0__0__Lomark Daily.txt',\n",
       " 'Clark-Leon__0__1__Haacklee Herald.txt',\n",
       " 'Serrano-Cruz__0__0__Lomark Daily.txt',\n",
       " 'Cisneros-Meyer__0__0__Lomark Daily.txt',\n",
       " 'Bowers Group__0__0__The News Buoy.txt',\n",
       " 'Frank Group__0__0__Lomark Daily.txt',\n",
       " 'Klein LLC__0__0__Lomark Daily.txt',\n",
       " 'Alvarez PLC__0__1__Haacklee Herald.txt',\n",
       " 'Watson-Gray__0__1__Haacklee Herald.txt',\n",
       " 'Jones Group__0__1__Lomark Daily_Police.txt',\n",
       " 'Harrell-Walters__0__1__Lomark Daily.txt',\n",
       " 'Solis-Lopez__0__1__The News Buoy.txt',\n",
       " 'Bishop-Hernandez__0__0__Lomark Daily.txt',\n",
       " 'Craig Ltd__0__0__Haacklee Herald.txt',\n",
       " 'Bell, Reynolds and Forbes__0__0__Haacklee Herald.txt',\n",
       " 'Harrington Inc__0__1__The News Buoy.txt',\n",
       " 'Murray, Friedman and Wall__0__0__Haacklee Herald.txt',\n",
       " 'Cervantes-Kramer__2__1__Lomark Daily.txt',\n",
       " 'Burns Inc__0__1__The News Buoy.txt',\n",
       " 'Collins, Johnson and Lloyd__0__0__The News Buoy.txt',\n",
       " 'Spencer, Richards and Wilson__0__0__Haacklee Herald.txt',\n",
       " 'Greer-Holder__0__0__Haacklee Herald.txt',\n",
       " 'Glover, Moran and Johnson__0__0__Lomark Daily.txt',\n",
       " 'Solis-Lopez__0__0__Lomark Daily.txt',\n",
       " 'Jones Group__0__1__Haacklee Herald_Police.txt',\n",
       " 'Klein LLC__0__0__The News Buoy.txt',\n",
       " 'Mclaughlin-Chandler__0__0__Lomark Daily.txt',\n",
       " 'Cervantes-Kramer__1__1__Lomark Daily.txt',\n",
       " 'Harrell-Walters__0__0__Haacklee Herald.txt',\n",
       " 'Watson-Gray__0__0__Lomark Daily.txt',\n",
       " 'Evans-Pearson__0__1__Lomark Daily.txt',\n",
       " 'Vasquez, Chaney and Martinez__0__0__Haacklee Herald.txt',\n",
       " 'Rasmussen, Nelson and King__0__0__Haacklee Herald_Police.txt',\n",
       " 'Murray, Friedman and Wall__0__0__Lomark Daily.txt',\n",
       " 'Blackwell, Clark and Lam__0__1__Haacklee Herald.txt',\n",
       " 'Frey Inc__0__1__Lomark Daily.txt',\n",
       " 'Wilcox-Nelson__0__0__Lomark Daily.txt',\n",
       " 'Hughes-Clark__0__0__The News Buoy.txt',\n",
       " 'Cervantes-Kramer__1__0__Haacklee Herald.txt',\n",
       " 'Vasquez, Chaney and Martinez__0__0__The News Buoy.txt',\n",
       " 'Sanchez-Moreno__0__1__Lomark Daily.txt',\n",
       " 'Greer-Holder__0__0__The News Buoy.txt',\n",
       " 'Cervantes-Kramer__1__1__The News Buoy.txt',\n",
       " 'Arellano Group__0__0__The News Buoy.txt',\n",
       " 'Thompson-Padilla__0__0__The News Buoy.txt',\n",
       " 'Rasmussen, Nelson and King__0__1__Lomark Daily.txt',\n",
       " 'Solis-Lopez__0__1__Haacklee Herald.txt',\n",
       " 'Barnes and Sons__0__0__Lomark Daily.txt',\n",
       " 'Rasmussen, Nelson and King__0__0__Haacklee Herald.txt',\n",
       " 'Cisneros-Meyer__0__0__The News Buoy.txt',\n",
       " 'Harrington Inc__0__0__The News Buoy.txt',\n",
       " 'Burns Inc__0__0__The News Buoy.txt',\n",
       " 'Hernandez-Rojas__0__0__The News Buoy.txt',\n",
       " 'Jones, Davis and Grant__0__0__Lomark Daily.txt',\n",
       " 'Craig Ltd__0__1__Lomark Daily.txt',\n",
       " 'Taylor, Prince and Sherman__0__0__Haacklee Herald.txt',\n",
       " 'Brown, Clarke and Martinez__0__0__Haacklee Herald.txt',\n",
       " 'Franco-Stuart__0__1__Haacklee Herald.txt',\n",
       " 'Barnett Ltd__0__1__Haacklee Herald.txt',\n",
       " 'Burns Inc__0__1__Lomark Daily.txt',\n",
       " 'Jones Group__0__1__The News Buoy_Police.txt',\n",
       " 'Oka Seafood Shipping Ges.m.b.H.__0__0__The News Buoy.txt',\n",
       " 'Hughes-Clark__0__0__Lomark Daily.txt',\n",
       " 'Bell, Reynolds and Forbes__0__0__Lomark Daily.txt',\n",
       " 'Clarke, Scott and Sloan__0__0__Lomark Daily.txt',\n",
       " 'Solis-Lopez__0__0__The News Buoy.txt',\n",
       " 'Martinez-Le__0__0__Lomark Daily.txt',\n",
       " 'Harper Inc__0__0__Lomark Daily.txt',\n",
       " 'Solis-Lopez__0__1__Lomark Daily.txt',\n",
       " 'Harrington Inc__0__1__Haacklee Herald.txt',\n",
       " 'Cervantes-Kramer__1__0__Lomark Daily.txt',\n",
       " 'Clarke, Scott and Sloan__0__0__Haacklee Herald.txt',\n",
       " 'Barnes and Sons__0__0__Haacklee Herald.txt',\n",
       " 'Evans-Pearson__0__0__Lomark Daily.txt',\n",
       " 'Underwood Inc__0__0__Haacklee Herald.txt',\n",
       " 'Watson-Gray__0__1__Lomark Daily.txt',\n",
       " 'Kelly-Smith__0__0__Lomark Daily.txt',\n",
       " 'Sanchez-Moreno__0__0__The News Buoy.txt',\n",
       " 'Lutz-Fleming__0__0__Lomark Daily.txt',\n",
       " 'Craig Ltd__0__0__The News Buoy.txt',\n",
       " 'Murphy, Marshall and Pope__0__0__Haacklee Herald.txt',\n",
       " 'Brown, Clarke and Martinez__0__0__The News Buoy.txt',\n",
       " 'Frey Inc__0__0__Lomark Daily.txt',\n",
       " 'Blackwell, Clark and Lam__0__0__The News Buoy.txt',\n",
       " 'Clements, Allen and Sullivan__0__0__Lomark Daily.txt',\n",
       " 'Alvarez PLC__0__1__The News Buoy.txt',\n",
       " 'Sanchez-Moreno__0__0__Lomark Daily.txt',\n",
       " 'Murphy, Marshall and Pope__0__0__Lomark Daily.txt',\n",
       " 'Rasmussen, Nelson and King__0__0__Lomark Daily.txt',\n",
       " 'Cervantes-Kramer__2__1__Haacklee Herald.txt',\n",
       " 'Horn and Sons__0__0__Haacklee Herald.txt',\n",
       " 'Wu-Hart__0__0__The News Buoy.txt',\n",
       " 'Evans-Pearson__0__0__The News Buoy.txt',\n",
       " 'Jackson Inc__0__0__Lomark Daily.txt',\n",
       " 'V. Miesel Shipping__0__0__The News Buoy.txt',\n",
       " 'Arellano Group__0__0__Lomark Daily.txt',\n",
       " 'Mclaughlin-Chandler__0__0__The News Buoy.txt',\n",
       " 'Cisneros-Meyer__0__0__Haacklee Herald.txt',\n",
       " 'Craig Ltd__0__0__Lomark Daily.txt',\n",
       " 'Sanchez-Moreno__0__1__Haacklee Herald.txt',\n",
       " 'Hines-Douglas__0__0__Haacklee Herald.txt',\n",
       " 'Walker, Erickson and Blake__0__0__Lomark Daily.txt',\n",
       " 'Wilcox-Nelson__0__0__The News Buoy.txt',\n",
       " 'Walker, Erickson and Blake__0__0__The News Buoy.txt',\n",
       " 'Burns Inc__0__0__Lomark Daily.txt',\n",
       " 'Valdez, Dalton and Cook__0__0__Lomark Daily.txt',\n",
       " 'Davis-Boyd__0__0__Lomark Daily.txt',\n",
       " 'Davis-Boyd__0__0__The News Buoy.txt',\n",
       " 'Bell, Reynolds and Forbes__0__1__Lomark Daily.txt',\n",
       " 'Hughes-Clark__0__1__Lomark Daily.txt',\n",
       " 'Rhodes-Thompson__0__0__The News Buoy.txt',\n",
       " 'Frey Inc__0__0__The News Buoy.txt',\n",
       " 'Cain, Simpson and Hernandez__0__0__Lomark Daily.txt',\n",
       " 'Franco-Stuart__0__1__Lomark Daily.txt',\n",
       " 'Franco-Stuart__0__0__Haacklee Herald.txt',\n",
       " 'Barnett Ltd__0__0__Haacklee Herald.txt',\n",
       " 'Mcgee and Sons__0__1__Lomark Daily.txt',\n",
       " 'Brown, Clarke and Martinez__0__1__Haacklee Herald.txt',\n",
       " 'Anderson, Brown and Green__0__0__The News Buoy.txt',\n",
       " 'Mcgee and Sons__0__0__The News Buoy.txt',\n",
       " 'Castillo-Elliott__0__0__The News Buoy.txt',\n",
       " 'Mann, Myers and Rivera__0__0__Haacklee Herald.txt',\n",
       " 'Cain, Simpson and Hernandez__0__0__Haacklee Herald.txt',\n",
       " 'Greer-Holder__0__0__Lomark Daily.txt',\n",
       " 'Montoya Group__0__0__The News Buoy.txt',\n",
       " 'Rasmussen, Nelson and King__0__0__The News Buoy.txt',\n",
       " 'Martinez-Le__0__0__Haacklee Herald.txt',\n",
       " 'Martin LLC__0__0__Lomark Daily.txt',\n",
       " 'Harrell-Walters__0__1__Haacklee Herald.txt',\n",
       " 'Vargas-Jensen__0__0__The News Buoy.txt',\n",
       " 'Flores Ltd__0__0__Haacklee Herald.txt',\n",
       " 'Jones Group__0__1__Lomark Daily.txt',\n",
       " 'Henderson, Hall and Lutz__0__1__The News Buoy.txt',\n",
       " 'Lutz-Fleming__0__0__The News Buoy.txt',\n",
       " 'Jones Group__0__0__Haacklee Herald_Police.txt',\n",
       " 'Cook PLC__0__0__Haacklee Herald.txt',\n",
       " 'Mann, Myers and Rivera__0__0__Lomark Daily.txt',\n",
       " 'Henderson, Hall and Lutz__0__1__Lomark Daily.txt',\n",
       " 'Rasmussen, Nelson and King__0__1__Haacklee Herald_Police.txt',\n",
       " 'Moore-Simon__0__0__The News Buoy.txt',\n",
       " 'Roth, Logan and Moreno__0__0__Haacklee Herald.txt',\n",
       " 'Cuevas PLC__0__0__The News Buoy.txt',\n",
       " 'Solis-Lopez__0__0__Haacklee Herald.txt',\n",
       " 'Thompson-Padilla__0__0__Haacklee Herald.txt',\n",
       " 'Rasmussen, Nelson and King__0__1__Haacklee Herald.txt',\n",
       " 'Cervantes-Kramer__2__0__The News Buoy.txt',\n",
       " 'Jones Group__0__1__The News Buoy.txt',\n",
       " 'Smith-Hull__0__0__Haacklee Herald.txt',\n",
       " 'Brown, Clarke and Martinez__0__1__Lomark Daily.txt',\n",
       " 'Smith-Hull__0__0__Lomark Daily.txt',\n",
       " 'Cervantes-Kramer__1__1__Haacklee Herald.txt',\n",
       " 'Clark-Leon__0__1__Lomark Daily.txt',\n",
       " 'Blackwell, Clark and Lam__0__0__Haacklee Herald.txt',\n",
       " 'Watson-Gray__0__0__The News Buoy.txt',\n",
       " 'Franco-Stuart__0__0__Lomark Daily.txt',\n",
       " 'Davis-Boyd__0__0__Haacklee Herald.txt',\n",
       " 'Mcgee and Sons__0__0__Lomark Daily.txt',\n",
       " 'Sanchez-Moreno__0__0__Haacklee Herald.txt',\n",
       " 'Underwood Inc__0__0__The News Buoy.txt',\n",
       " 'Barnett Ltd__0__0__The News Buoy.txt',\n",
       " 'Frank Group__0__0__The News Buoy.txt',\n",
       " 'Walker, Erickson and Blake__0__0__Haacklee Herald.txt',\n",
       " 'Hernandez-Rojas__0__0__Lomark Daily.txt',\n",
       " 'Ramos-Shelton__0__0__The News Buoy.txt',\n",
       " 'Ramos-Shelton__0__0__Haacklee Herald.txt',\n",
       " 'Franco-Stuart__0__0__The News Buoy.txt',\n",
       " 'Glover, Moran and Johnson__0__0__Haacklee Herald.txt',\n",
       " 'Underwood Inc__0__0__Lomark Daily.txt',\n",
       " 'Jackson Inc__0__0__Haacklee Herald.txt',\n",
       " 'Hines-Douglas__0__0__The News Buoy.txt',\n",
       " 'Jones Group__0__0__Lomark Daily.txt',\n",
       " 'Harrell-Walters__0__0__The News Buoy.txt',\n",
       " 'Phelps, Brown and Wallace__0__0__Lomark Daily.txt',\n",
       " 'Bell, Reynolds and Forbes__0__0__The News Buoy.txt',\n",
       " 'Henderson, Hall and Lutz__0__0__Lomark Daily.txt',\n",
       " 'Valdez, Dalton and Cook__0__0__Haacklee Herald.txt',\n",
       " 'Harrington Inc__0__0__Haacklee Herald.txt',\n",
       " 'Wilcox-Nelson__0__0__Haacklee Herald_Police.txt',\n",
       " 'Wu-Hart__0__0__Lomark Daily.txt',\n",
       " 'Cervantes-Kramer__2__0__Haacklee Herald.txt',\n",
       " 'Cook PLC__0__0__The News Buoy.txt',\n",
       " 'Brown, Clarke and Martinez__0__0__Lomark Daily.txt',\n",
       " 'Taylor, Prince and Sherman__0__1__The News Buoy.txt',\n",
       " 'Phelps, Brown and Wallace__0__0__The News Buoy.txt',\n",
       " 'Rivas-Stevens__0__0__Lomark Daily.txt',\n",
       " 'Clark-Leon__0__0__Lomark Daily.txt']"
      ]
     },
     "execution_count": 2,
     "metadata": {},
     "output_type": "execute_result"
    }
   ],
   "source": [
    "import os\n",
    "article_names = os.listdir('data/articles')\n",
    "article_names"
   ]
  },
  {
   "cell_type": "code",
   "execution_count": 16,
   "metadata": {},
   "outputs": [
    {
     "name": "stderr",
     "output_type": "stream",
     "text": [
      "[nltk_data] Downloading package vader_lexicon to\n",
      "[nltk_data]     /Users/annikamollerchandiramani/nltk_data...\n",
      "[nltk_data]   Package vader_lexicon is already up-to-date!\n"
     ]
    }
   ],
   "source": [
    "import nltk\n",
    "from nltk.tokenize import sent_tokenize\n",
    "from nltk.sentiment import SentimentIntensityAnalyzer\n",
    "nltk.download('vader_lexicon')\n",
    "\n",
    "def custom_sentence_split(text):\n",
    "    # Split text into blocks using double newlines (titles/paragraphs)\n",
    "    blocks = text.split('\\n\\n')\n",
    "    \n",
    "    sentences = []\n",
    "    for block in blocks:\n",
    "        block = block.strip()\n",
    "        if not block:\n",
    "            continue\n",
    "        # Further split using sent_tokenize for real sentence boundaries\n",
    "        sentences.extend(sent_tokenize(block))\n",
    "    \n",
    "    return sentences\n",
    "\n",
    "def get_text_sentiment(text, entity):\n",
    "    sia = SentimentIntensityAnalyzer()\n",
    "    \n",
    "    # Split into sentences\n",
    "    sentences = custom_sentence_split(text)\n",
    "    print(sentences)\n",
    "    \n",
    "    # Filter sentences mentioning the company\n",
    "    entity_sentences = [s for s in sentences if entity.lower() in s.lower()]\n",
    "    \n",
    "    # Analyze sentiment for each sentence\n",
    "    sentiment_scores = [sia.polarity_scores(s)['compound'] for s in entity_sentences]\n",
    "\n",
    "    # # Print sentence + score\n",
    "    # for s, score in zip(entity_sentences, sentiment_scores):\n",
    "    #     print(f\"Sentence: {s}\\nSentiment score: {score}\\n\")\n",
    "\n",
    "    # Average sentiment score\n",
    "    average_sentiment = sum(sentiment_scores) / len(sentiment_scores) if sentiment_scores else 0\n",
    "    # print(\"Average sentiment score:\", average_sentiment)\n",
    "    return (entity_sentences, average_sentiment)"
   ]
  },
  {
   "cell_type": "code",
   "execution_count": 100,
   "metadata": {},
   "outputs": [
    {
     "name": "stdout",
     "output_type": "stream",
     "text": [
      "sustainable fishing practices intensifies (score: 16.0)\n",
      "prominent fishing company operating (score: 16.0)\n",
      "support conservation efforts (score: 9.0)\n",
      "stakeholders closely monitoring (score: 9.0)\n",
      "seawatch conservation society (score: 9.0)\n",
      "recent data reveals (score: 9.0)\n",
      "oceanus guardians alliance (score: 9.0)\n",
      "cod table regions (score: 9.0)\n",
      "marine sentinels initiative (score: 8.666666666666666)\n",
      "local marine sanctuary (score: 8.666666666666666)\n"
     ]
    }
   ],
   "source": [
    "# Combine all sentences into one string\n",
    "text = \" \".join(entity_sentences)\n",
    "\n",
    "# Initialize RAKE\n",
    "rake = Rake()\n",
    "rake.extract_keywords_from_text(text)\n",
    "\n",
    "# Get ranked phrases (score, phrase)\n",
    "ranked_phrases = rake.get_ranked_phrases_with_scores()\n",
    "\n",
    "# Convert to dictionary to remove duplicates and keep max score\n",
    "phrase_score_dict = {}\n",
    "for score, phrase in ranked_phrases:\n",
    "    phrase = phrase.lower().strip()\n",
    "    if phrase not in phrase_score_dict or score > phrase_score_dict[phrase]:\n",
    "        phrase_score_dict[phrase] = score\n",
    "\n",
    "# Sort by score\n",
    "sorted_phrases = sorted(phrase_score_dict.items(), key=lambda x: x[1], reverse=True)\n",
    "\n",
    "# Print top N unique phrases\n",
    "top_n = 10\n",
    "for phrase, score in sorted_phrases[:top_n]:\n",
    "    print(f\"{phrase} (score: {score})\")"
   ]
  },
  {
   "cell_type": "code",
   "execution_count": 51,
   "metadata": {},
   "outputs": [],
   "source": [
    "import spacy\n",
    "from nltk.sentiment import SentimentIntensityAnalyzer\n",
    "import nltk\n",
    "from textblob import TextBlob\n",
    "\n",
    "\n",
    "\n",
    "def extract_polar_chunks(text, entity):\n",
    "    # Load spaCy model (small English model)\n",
    "    nlp = spacy.load(\"en_core_web_sm\")\n",
    "\n",
    "    # Initialize VADER sentiment analyzer\n",
    "    sia = SentimentIntensityAnalyzer()\n",
    "    # Split into sentences\n",
    "    sentences = custom_sentence_split(text)\n",
    "    # Filter sentences mentioning the company\n",
    "    entity_sentences = [s for s in sentences if entity.lower() in s.lower()]\n",
    "\n",
    "    chunk_polarities = []\n",
    "    \n",
    "    for sent in entity_sentences:\n",
    "        doc = nlp(sent)\n",
    "        \n",
    "        for chunk in doc.noun_chunks:\n",
    "            text = chunk.text\n",
    "            # Get polarity score (compound) for the chunk text\n",
    "            polarity = sia.polarity_scores(text)[\"compound\"]\n",
    "            if polarity != 0:\n",
    "                chunk_polarities.append(text)\n",
    "    \n",
    "    return chunk_polarities\n"
   ]
  },
  {
   "cell_type": "code",
   "execution_count": 60,
   "metadata": {},
   "outputs": [
    {
     "name": "stdout",
     "output_type": "stream",
     "text": [
      "Lutz-Fleming\n",
      "Lutz-Fleming__0__0__Lomark Daily.txt\n"
     ]
    }
   ],
   "source": [
    "import os\n",
    "article_names = os.listdir('data/articles')\n",
    "\n",
    "index = 230\n",
    "article_name = article_names[index]\n",
    "\n",
    "# article_name = \"Wilcox-Nelson__0__0__Haacklee Herald.txt\"\n",
    "entity = article_name.split('_')[0]\n",
    "# entity = \"Wilcox-Nelson\"\n",
    "\n",
    "print(entity)\n",
    "print(article_name)\n",
    "article_path = f\"data/articles/{article_name}\"\n",
    "with open(article_path, \"r\") as f:\n",
    "    text = f.read()\n",
    "    "
   ]
  },
  {
   "cell_type": "code",
   "execution_count": 61,
   "metadata": {},
   "outputs": [
    {
     "name": "stderr",
     "output_type": "stream",
     "text": [
      "Device set to use mps:0\n"
     ]
    },
    {
     "name": "stdout",
     "output_type": "stream",
     "text": [
      "{'fishing industry', 'tracking system', 'a reputed and respected fishing company', 'its market share', 'sustainable fishing', 'fishing practices', 'sustainable and environment friendly fishing practices', 'esteemed firms', 'cod table', 'cuevas'}\n"
     ]
    }
   ],
   "source": [
    "from transformers import (\n",
    "    TokenClassificationPipeline,\n",
    "    AutoModelForTokenClassification,\n",
    "    AutoTokenizer,\n",
    ")\n",
    "from transformers.pipelines import AggregationStrategy\n",
    "import numpy as np\n",
    "\n",
    "# Define keyphrase extraction pipeline\n",
    "class KeyphraseExtractionPipeline(TokenClassificationPipeline):\n",
    "    def __init__(self, model, *args, **kwargs):\n",
    "        super().__init__(\n",
    "            model=AutoModelForTokenClassification.from_pretrained(model),\n",
    "            tokenizer=AutoTokenizer.from_pretrained(model),\n",
    "            *args,\n",
    "            **kwargs\n",
    "        )\n",
    "\n",
    "    def postprocess(self, all_outputs):\n",
    "        results = super().postprocess(\n",
    "            all_outputs=all_outputs,\n",
    "            aggregation_strategy=AggregationStrategy.FIRST,\n",
    "        )\n",
    "        return np.unique([result.get(\"word\").strip() for result in results])\n",
    "    \n",
    "def get_key_phrases(text, entity):\n",
    "    model_name = \"ml6team/keyphrase-extraction-distilbert-inspec\"\n",
    "    extractor = KeyphraseExtractionPipeline(model=model_name)\n",
    "\n",
    "    # Split into sentences\n",
    "    sentences = custom_sentence_split(text)\n",
    "\n",
    "    # Filter sentences mentioning the company\n",
    "    entity_sentences = [s for s in sentences if entity.lower() in s.lower()]\n",
    "    # print(entity_sentences)\n",
    "    text = \" \".join(entity_sentences)\n",
    "\n",
    "    model_phrases = extractor(text)\n",
    "    model_phrases = [str(s) for s in model_phrases.tolist()]\n",
    "    nlp_phrases = extract_and_rank_chunks(text, entity)\n",
    "\n",
    "    key_phrases = set(model_phrases + nlp_phrases)\n",
    "\n",
    "    return key_phrases\n"
   ]
  },
  {
   "cell_type": "code",
   "execution_count": 63,
   "metadata": {},
   "outputs": [
    {
     "name": "stderr",
     "output_type": "stream",
     "text": [
      "Asking to truncate to max_length but no maximum length is provided and the model has no predefined maximum length. Default to no truncation.\n"
     ]
    },
    {
     "name": "stdout",
     "output_type": "stream",
     "text": [
      "{'aspect': 'Lutz-Fleming', 'sentiment': 'Positive', 'confidence': 0.947}\n"
     ]
    }
   ],
   "source": [
    "from transformers import AutoTokenizer, AutoModelForSequenceClassification\n",
    "import torch\n",
    "import torch.nn.functional as F\n",
    "\n",
    "\n",
    "def classify_aspect_sentiment(text, entity):\n",
    "    \n",
    "    model_name = \"yangheng/deberta-v3-base-absa-v1.1\"\n",
    "    tokenizer = AutoTokenizer.from_pretrained(model_name, use_fast=False)\n",
    "\n",
    "    model = AutoModelForSequenceClassification.from_pretrained(model_name)\n",
    "\n",
    "    # Tokenize the sentence with the aspect as text_pair\n",
    "    inputs = tokenizer(text, entity, return_tensors=\"pt\", truncation=True)\n",
    "\n",
    "    # Run the model\n",
    "    with torch.no_grad():\n",
    "        outputs = model(**inputs)\n",
    "\n",
    "    # Get logits and softmax probabilities\n",
    "    logits = outputs.logits\n",
    "    probs = F.softmax(logits, dim=1)\n",
    "\n",
    "    # Map index to sentiment label (usually 0: negative, 1: neutral, 2: positive)\n",
    "    labels = ['Negative', 'Neutral', 'Positive']\n",
    "    pred = torch.argmax(probs, dim=1).item()\n",
    "    confidence = probs[0, pred].item()\n",
    "\n",
    "    return {\n",
    "        \"aspect\": entity,\n",
    "        \"sentiment\": labels[pred],\n",
    "        \"confidence\": round(confidence, 3)\n",
    "    }\n",
    "\n",
    "\n",
    "result = classify_aspect_sentiment(text, entity)\n",
    "print(result)"
   ]
  },
  {
   "cell_type": "code",
   "execution_count": null,
   "metadata": {},
   "outputs": [],
   "source": []
  }
 ],
 "metadata": {
  "kernelspec": {
   "display_name": "myenv",
   "language": "python",
   "name": "python3"
  },
  "language_info": {
   "codemirror_mode": {
    "name": "ipython",
    "version": 3
   },
   "file_extension": ".py",
   "mimetype": "text/x-python",
   "name": "python",
   "nbconvert_exporter": "python",
   "pygments_lexer": "ipython3",
   "version": "3.11.4"
  }
 },
 "nbformat": 4,
 "nbformat_minor": 2
}
