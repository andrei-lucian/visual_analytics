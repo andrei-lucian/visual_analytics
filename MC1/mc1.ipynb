{
 "cells": [
  {
   "cell_type": "code",
   "execution_count": 1,
   "metadata": {},
   "outputs": [],
   "source": [
    "import pandas as pd\n",
    "import json\n",
    "import matplotlib.pyplot as plt"
   ]
  },
  {
   "cell_type": "code",
   "execution_count": 2,
   "metadata": {},
   "outputs": [
    {
     "ename": "FileNotFoundError",
     "evalue": "[Errno 2] No such file or directory: 'mc1.json'",
     "output_type": "error",
     "traceback": [
      "\u001b[31m---------------------------------------------------------------------------\u001b[39m",
      "\u001b[31mFileNotFoundError\u001b[39m                         Traceback (most recent call last)",
      "\u001b[36mCell\u001b[39m\u001b[36m \u001b[39m\u001b[32mIn[2]\u001b[39m\u001b[32m, line 2\u001b[39m\n\u001b[32m      1\u001b[39m \u001b[38;5;66;03m# Replace 'your_file.json' with your actual file path\u001b[39;00m\n\u001b[32m----> \u001b[39m\u001b[32m2\u001b[39m \u001b[38;5;28;01mwith\u001b[39;00m \u001b[38;5;28;43mopen\u001b[39;49m\u001b[43m(\u001b[49m\u001b[33;43m'\u001b[39;49m\u001b[33;43mmc1.json\u001b[39;49m\u001b[33;43m'\u001b[39;49m\u001b[43m,\u001b[49m\u001b[43m \u001b[49m\u001b[33;43m'\u001b[39;49m\u001b[33;43mr\u001b[39;49m\u001b[33;43m'\u001b[39;49m\u001b[43m)\u001b[49m \u001b[38;5;28;01mas\u001b[39;00m f:\n\u001b[32m      3\u001b[39m     data = json.load(f)\n\u001b[32m      5\u001b[39m \u001b[38;5;66;03m# Extract the nodes list\u001b[39;00m\n",
      "\u001b[36mFile \u001b[39m\u001b[32mc:\\Users\\luord\\Documents\\GitHub\\visual_analytics\\venv\\Lib\\site-packages\\IPython\\core\\interactiveshell.py:327\u001b[39m, in \u001b[36m_modified_open\u001b[39m\u001b[34m(file, *args, **kwargs)\u001b[39m\n\u001b[32m    320\u001b[39m \u001b[38;5;28;01mif\u001b[39;00m file \u001b[38;5;129;01min\u001b[39;00m {\u001b[32m0\u001b[39m, \u001b[32m1\u001b[39m, \u001b[32m2\u001b[39m}:\n\u001b[32m    321\u001b[39m     \u001b[38;5;28;01mraise\u001b[39;00m \u001b[38;5;167;01mValueError\u001b[39;00m(\n\u001b[32m    322\u001b[39m         \u001b[33mf\u001b[39m\u001b[33m\"\u001b[39m\u001b[33mIPython won\u001b[39m\u001b[33m'\u001b[39m\u001b[33mt let you open fd=\u001b[39m\u001b[38;5;132;01m{\u001b[39;00mfile\u001b[38;5;132;01m}\u001b[39;00m\u001b[33m by default \u001b[39m\u001b[33m\"\u001b[39m\n\u001b[32m    323\u001b[39m         \u001b[33m\"\u001b[39m\u001b[33mas it is likely to crash IPython. If you know what you are doing, \u001b[39m\u001b[33m\"\u001b[39m\n\u001b[32m    324\u001b[39m         \u001b[33m\"\u001b[39m\u001b[33myou can use builtins\u001b[39m\u001b[33m'\u001b[39m\u001b[33m open.\u001b[39m\u001b[33m\"\u001b[39m\n\u001b[32m    325\u001b[39m     )\n\u001b[32m--> \u001b[39m\u001b[32m327\u001b[39m \u001b[38;5;28;01mreturn\u001b[39;00m \u001b[43mio_open\u001b[49m\u001b[43m(\u001b[49m\u001b[43mfile\u001b[49m\u001b[43m,\u001b[49m\u001b[43m \u001b[49m\u001b[43m*\u001b[49m\u001b[43margs\u001b[49m\u001b[43m,\u001b[49m\u001b[43m \u001b[49m\u001b[43m*\u001b[49m\u001b[43m*\u001b[49m\u001b[43mkwargs\u001b[49m\u001b[43m)\u001b[49m\n",
      "\u001b[31mFileNotFoundError\u001b[39m: [Errno 2] No such file or directory: 'mc1.json'"
     ]
    }
   ],
   "source": [
    "# Replace 'your_file.json' with your actual file path\n",
    "with open('mc1.json', 'r') as f:\n",
    "    data = json.load(f)\n",
    "\n",
    "# Extract the nodes list\n",
    "nodes = data[\"nodes\"]\n",
    "links = data[\"links\"]\n",
    "# Create a DataFrame from nodes\n",
    "df_nodes = pd.DataFrame(nodes)\n",
    "df_links = pd.DataFrame(links)"
   ]
  },
  {
   "cell_type": "code",
   "execution_count": null,
   "metadata": {},
   "outputs": [
    {
     "data": {
      "text/html": [
       "<div>\n",
       "<style scoped>\n",
       "    .dataframe tbody tr th:only-of-type {\n",
       "        vertical-align: middle;\n",
       "    }\n",
       "\n",
       "    .dataframe tbody tr th {\n",
       "        vertical-align: top;\n",
       "    }\n",
       "\n",
       "    .dataframe thead th {\n",
       "        text-align: right;\n",
       "    }\n",
       "</style>\n",
       "<table border=\"1\" class=\"dataframe\">\n",
       "  <thead>\n",
       "    <tr style=\"text-align: right;\">\n",
       "      <th></th>\n",
       "      <th>type</th>\n",
       "      <th>country</th>\n",
       "      <th>id</th>\n",
       "      <th>dob</th>\n",
       "    </tr>\n",
       "  </thead>\n",
       "  <tbody>\n",
       "    <tr>\n",
       "      <th>0</th>\n",
       "      <td>Entity.Organization.FishingCompany</td>\n",
       "      <td>Oceanus</td>\n",
       "      <td>Sanchez-Moreno</td>\n",
       "      <td>NaN</td>\n",
       "    </tr>\n",
       "    <tr>\n",
       "      <th>1</th>\n",
       "      <td>Entity.Organization.FishingCompany</td>\n",
       "      <td>Oceanus</td>\n",
       "      <td>Frey Inc</td>\n",
       "      <td>NaN</td>\n",
       "    </tr>\n",
       "    <tr>\n",
       "      <th>2</th>\n",
       "      <td>Entity.Organization.FishingCompany</td>\n",
       "      <td>Oceanus</td>\n",
       "      <td>Bowers Group</td>\n",
       "      <td>NaN</td>\n",
       "    </tr>\n",
       "    <tr>\n",
       "      <th>3</th>\n",
       "      <td>Entity.Organization.FishingCompany</td>\n",
       "      <td>Oceanus</td>\n",
       "      <td>Franco-Stuart</td>\n",
       "      <td>NaN</td>\n",
       "    </tr>\n",
       "    <tr>\n",
       "      <th>4</th>\n",
       "      <td>Entity.Organization.FishingCompany</td>\n",
       "      <td>Oceanus</td>\n",
       "      <td>Murphy, Marshall and Pope</td>\n",
       "      <td>NaN</td>\n",
       "    </tr>\n",
       "    <tr>\n",
       "      <th>...</th>\n",
       "      <td>...</td>\n",
       "      <td>...</td>\n",
       "      <td>...</td>\n",
       "      <td>...</td>\n",
       "    </tr>\n",
       "    <tr>\n",
       "      <th>210</th>\n",
       "      <td>Entity.Organization.GovernmentOrg</td>\n",
       "      <td>Oceanus</td>\n",
       "      <td>City Of Centralia</td>\n",
       "      <td>NaN</td>\n",
       "    </tr>\n",
       "    <tr>\n",
       "      <th>211</th>\n",
       "      <td>Entity.Organization.GovernmentOrg</td>\n",
       "      <td>Oceanus</td>\n",
       "      <td>City Of South Paackland</td>\n",
       "      <td>NaN</td>\n",
       "    </tr>\n",
       "    <tr>\n",
       "      <th>212</th>\n",
       "      <td>Entity.Organization.GovernmentOrg</td>\n",
       "      <td>Oceanus</td>\n",
       "      <td>City Of Port Grove</td>\n",
       "      <td>NaN</td>\n",
       "    </tr>\n",
       "    <tr>\n",
       "      <th>213</th>\n",
       "      <td>Entity.Organization.GovernmentOrg</td>\n",
       "      <td>Oceanus</td>\n",
       "      <td>City Of Himark</td>\n",
       "      <td>NaN</td>\n",
       "    </tr>\n",
       "    <tr>\n",
       "      <th>214</th>\n",
       "      <td>Entity.Organization.LogisticsCompany</td>\n",
       "      <td>Oceanus</td>\n",
       "      <td>Osborne and Sons</td>\n",
       "      <td>NaN</td>\n",
       "    </tr>\n",
       "  </tbody>\n",
       "</table>\n",
       "<p>215 rows × 4 columns</p>\n",
       "</div>"
      ],
      "text/plain": [
       "                                     type  country                         id  \\\n",
       "0      Entity.Organization.FishingCompany  Oceanus             Sanchez-Moreno   \n",
       "1      Entity.Organization.FishingCompany  Oceanus                   Frey Inc   \n",
       "2      Entity.Organization.FishingCompany  Oceanus               Bowers Group   \n",
       "3      Entity.Organization.FishingCompany  Oceanus              Franco-Stuart   \n",
       "4      Entity.Organization.FishingCompany  Oceanus  Murphy, Marshall and Pope   \n",
       "..                                    ...      ...                        ...   \n",
       "210     Entity.Organization.GovernmentOrg  Oceanus          City Of Centralia   \n",
       "211     Entity.Organization.GovernmentOrg  Oceanus    City Of South Paackland   \n",
       "212     Entity.Organization.GovernmentOrg  Oceanus         City Of Port Grove   \n",
       "213     Entity.Organization.GovernmentOrg  Oceanus             City Of Himark   \n",
       "214  Entity.Organization.LogisticsCompany  Oceanus           Osborne and Sons   \n",
       "\n",
       "     dob  \n",
       "0    NaN  \n",
       "1    NaN  \n",
       "2    NaN  \n",
       "3    NaN  \n",
       "4    NaN  \n",
       "..   ...  \n",
       "210  NaN  \n",
       "211  NaN  \n",
       "212  NaN  \n",
       "213  NaN  \n",
       "214  NaN  \n",
       "\n",
       "[215 rows x 4 columns]"
      ]
     },
     "execution_count": 5,
     "metadata": {},
     "output_type": "execute_result"
    }
   ],
   "source": [
    "df_nodes"
   ]
  },
  {
   "cell_type": "code",
   "execution_count": null,
   "metadata": {},
   "outputs": [
    {
     "data": {
      "text/plain": [
       "array(['Entity.Organization.FishingCompany',\n",
       "       'Entity.Organization.Company', 'Entity.Location.Region',\n",
       "       'Entity.Person', 'Entity.Organization.LogisticsCompany',\n",
       "       'Entity.Organization.NGO', 'Entity.Commodity',\n",
       "       'Entity.Organization', 'Entity.Organization.GovernmentOrg'],\n",
       "      dtype=object)"
      ]
     },
     "execution_count": 25,
     "metadata": {},
     "output_type": "execute_result"
    }
   ],
   "source": [
    "df_nodes['type'].unique()"
   ]
  },
  {
   "cell_type": "code",
   "execution_count": null,
   "metadata": {},
   "outputs": [
    {
     "data": {
      "text/html": [
       "<div>\n",
       "<style scoped>\n",
       "    .dataframe tbody tr th:only-of-type {\n",
       "        vertical-align: middle;\n",
       "    }\n",
       "\n",
       "    .dataframe tbody tr th {\n",
       "        vertical-align: top;\n",
       "    }\n",
       "\n",
       "    .dataframe thead th {\n",
       "        text-align: right;\n",
       "    }\n",
       "</style>\n",
       "<table border=\"1\" class=\"dataframe\">\n",
       "  <thead>\n",
       "    <tr style=\"text-align: right;\">\n",
       "      <th></th>\n",
       "      <th>type</th>\n",
       "      <th>_date_added</th>\n",
       "      <th>_raw_source</th>\n",
       "      <th>_algorithm</th>\n",
       "      <th>_last_edited_by</th>\n",
       "      <th>_last_edited_date</th>\n",
       "      <th>_articleid</th>\n",
       "      <th>source</th>\n",
       "      <th>target</th>\n",
       "      <th>key</th>\n",
       "    </tr>\n",
       "  </thead>\n",
       "  <tbody>\n",
       "    <tr>\n",
       "      <th>0</th>\n",
       "      <td>Event.Invest</td>\n",
       "      <td>2035-03-13T19:00:00</td>\n",
       "      <td>Haacklee Herald</td>\n",
       "      <td>BassLine</td>\n",
       "      <td>Junior Shurdlu</td>\n",
       "      <td>2035-03-13T19:00:00</td>\n",
       "      <td>Sanchez-Moreno__0__0__Haacklee Herald</td>\n",
       "      <td>Sanchez-Moreno</td>\n",
       "      <td>Sustainable_nets</td>\n",
       "      <td>0</td>\n",
       "    </tr>\n",
       "    <tr>\n",
       "      <th>1</th>\n",
       "      <td>Event.Invest</td>\n",
       "      <td>2035-03-19T11:00:00</td>\n",
       "      <td>Lomark Daily</td>\n",
       "      <td>ShadGPT</td>\n",
       "      <td>Olokun Daramola</td>\n",
       "      <td>2035-03-19T11:00:00</td>\n",
       "      <td>Sanchez-Moreno__0__0__Lomark Daily</td>\n",
       "      <td>Sanchez-Moreno</td>\n",
       "      <td>Sustainable_nets</td>\n",
       "      <td>1</td>\n",
       "    </tr>\n",
       "    <tr>\n",
       "      <th>2</th>\n",
       "      <td>Event.Invest</td>\n",
       "      <td>2035-04-10T12:00:00</td>\n",
       "      <td>Haacklee Herald</td>\n",
       "      <td>BassLine</td>\n",
       "      <td>Jack Inch</td>\n",
       "      <td>2035-04-10T12:00:00</td>\n",
       "      <td>Sanchez-Moreno__0__0__Haacklee Herald</td>\n",
       "      <td>Sanchez-Moreno</td>\n",
       "      <td>Sustainable_nets</td>\n",
       "      <td>2</td>\n",
       "    </tr>\n",
       "    <tr>\n",
       "      <th>3</th>\n",
       "      <td>Event.Invest</td>\n",
       "      <td>2035-05-06T12:00:00</td>\n",
       "      <td>Lomark Daily</td>\n",
       "      <td>ShadGPT</td>\n",
       "      <td>Niklaus Oberon</td>\n",
       "      <td>2035-05-06T12:00:00</td>\n",
       "      <td>Sanchez-Moreno__0__0__Lomark Daily</td>\n",
       "      <td>Sanchez-Moreno</td>\n",
       "      <td>Sustainable_nets</td>\n",
       "      <td>3</td>\n",
       "    </tr>\n",
       "    <tr>\n",
       "      <th>4</th>\n",
       "      <td>Event.Invest</td>\n",
       "      <td>2035-05-23T18:00:00</td>\n",
       "      <td>Haacklee Herald</td>\n",
       "      <td>BassLine</td>\n",
       "      <td>Melinda Manning</td>\n",
       "      <td>2035-05-23T18:00:00</td>\n",
       "      <td>Sanchez-Moreno__0__0__Haacklee Herald</td>\n",
       "      <td>Sanchez-Moreno</td>\n",
       "      <td>Sustainable_nets</td>\n",
       "      <td>4</td>\n",
       "    </tr>\n",
       "    <tr>\n",
       "      <th>...</th>\n",
       "      <td>...</td>\n",
       "      <td>...</td>\n",
       "      <td>...</td>\n",
       "      <td>...</td>\n",
       "      <td>...</td>\n",
       "      <td>...</td>\n",
       "      <td>...</td>\n",
       "      <td>...</td>\n",
       "      <td>...</td>\n",
       "      <td>...</td>\n",
       "    </tr>\n",
       "    <tr>\n",
       "      <th>16226</th>\n",
       "      <td>Event.CertificateIssued.Summons</td>\n",
       "      <td>2035-05-09T20:00:00</td>\n",
       "      <td>The News Buoy</td>\n",
       "      <td>ShadGPT</td>\n",
       "      <td>Haenyeo Hyun-Ki</td>\n",
       "      <td>2035-05-09T20:00:00</td>\n",
       "      <td>Jones Group__0__0__The News Buoy</td>\n",
       "      <td>City Of Himark</td>\n",
       "      <td>Raymond LLC</td>\n",
       "      <td>13</td>\n",
       "    </tr>\n",
       "    <tr>\n",
       "      <th>16227</th>\n",
       "      <td>Event.CertificateIssued.Summons</td>\n",
       "      <td>2035-06-28T10:00:00</td>\n",
       "      <td>Haacklee Herald</td>\n",
       "      <td>ShadGPT</td>\n",
       "      <td>Urashima Tarō</td>\n",
       "      <td>2035-06-28T10:00:00</td>\n",
       "      <td>Jones Group__0__0__Haacklee Herald</td>\n",
       "      <td>City Of Himark</td>\n",
       "      <td>Raymond LLC</td>\n",
       "      <td>14</td>\n",
       "    </tr>\n",
       "    <tr>\n",
       "      <th>16228</th>\n",
       "      <td>Event.CertificateIssued.Summons</td>\n",
       "      <td>2035-06-28T23:00:00</td>\n",
       "      <td>Himark Police Reports</td>\n",
       "      <td>BassLine</td>\n",
       "      <td>Pelagia Alethea Mordoch</td>\n",
       "      <td>2035-06-28T23:00:00</td>\n",
       "      <td>Jones Group__0__0__Lomark Daily</td>\n",
       "      <td>City Of Himark</td>\n",
       "      <td>Raymond LLC</td>\n",
       "      <td>15</td>\n",
       "    </tr>\n",
       "    <tr>\n",
       "      <th>16229</th>\n",
       "      <td>Event.CertificateIssued.Summons</td>\n",
       "      <td>2035-06-28T23:00:00</td>\n",
       "      <td>Lomark Daily</td>\n",
       "      <td>BassLine</td>\n",
       "      <td>Pelagia Alethea Mordoch</td>\n",
       "      <td>2035-06-28T23:00:00</td>\n",
       "      <td>Jones Group__0__0__Lomark Daily</td>\n",
       "      <td>City Of Himark</td>\n",
       "      <td>Raymond LLC</td>\n",
       "      <td>16</td>\n",
       "    </tr>\n",
       "    <tr>\n",
       "      <th>16230</th>\n",
       "      <td>Event.CertificateIssued.Summons</td>\n",
       "      <td>2035-06-28T08:00:00</td>\n",
       "      <td>The News Buoy</td>\n",
       "      <td>BassLine</td>\n",
       "      <td>Harvey Janus</td>\n",
       "      <td>2035-06-28T08:00:00</td>\n",
       "      <td>Jones Group__0__0__The News Buoy</td>\n",
       "      <td>City Of Himark</td>\n",
       "      <td>Raymond LLC</td>\n",
       "      <td>17</td>\n",
       "    </tr>\n",
       "  </tbody>\n",
       "</table>\n",
       "<p>16231 rows × 10 columns</p>\n",
       "</div>"
      ],
      "text/plain": [
       "                                  type          _date_added  \\\n",
       "0                         Event.Invest  2035-03-13T19:00:00   \n",
       "1                         Event.Invest  2035-03-19T11:00:00   \n",
       "2                         Event.Invest  2035-04-10T12:00:00   \n",
       "3                         Event.Invest  2035-05-06T12:00:00   \n",
       "4                         Event.Invest  2035-05-23T18:00:00   \n",
       "...                                ...                  ...   \n",
       "16226  Event.CertificateIssued.Summons  2035-05-09T20:00:00   \n",
       "16227  Event.CertificateIssued.Summons  2035-06-28T10:00:00   \n",
       "16228  Event.CertificateIssued.Summons  2035-06-28T23:00:00   \n",
       "16229  Event.CertificateIssued.Summons  2035-06-28T23:00:00   \n",
       "16230  Event.CertificateIssued.Summons  2035-06-28T08:00:00   \n",
       "\n",
       "                 _raw_source _algorithm          _last_edited_by  \\\n",
       "0            Haacklee Herald   BassLine           Junior Shurdlu   \n",
       "1               Lomark Daily    ShadGPT          Olokun Daramola   \n",
       "2            Haacklee Herald   BassLine                Jack Inch   \n",
       "3               Lomark Daily    ShadGPT           Niklaus Oberon   \n",
       "4            Haacklee Herald   BassLine          Melinda Manning   \n",
       "...                      ...        ...                      ...   \n",
       "16226          The News Buoy    ShadGPT          Haenyeo Hyun-Ki   \n",
       "16227        Haacklee Herald    ShadGPT            Urashima Tarō   \n",
       "16228  Himark Police Reports   BassLine  Pelagia Alethea Mordoch   \n",
       "16229           Lomark Daily   BassLine  Pelagia Alethea Mordoch   \n",
       "16230          The News Buoy   BassLine             Harvey Janus   \n",
       "\n",
       "         _last_edited_date                             _articleid  \\\n",
       "0      2035-03-13T19:00:00  Sanchez-Moreno__0__0__Haacklee Herald   \n",
       "1      2035-03-19T11:00:00     Sanchez-Moreno__0__0__Lomark Daily   \n",
       "2      2035-04-10T12:00:00  Sanchez-Moreno__0__0__Haacklee Herald   \n",
       "3      2035-05-06T12:00:00     Sanchez-Moreno__0__0__Lomark Daily   \n",
       "4      2035-05-23T18:00:00  Sanchez-Moreno__0__0__Haacklee Herald   \n",
       "...                    ...                                    ...   \n",
       "16226  2035-05-09T20:00:00       Jones Group__0__0__The News Buoy   \n",
       "16227  2035-06-28T10:00:00     Jones Group__0__0__Haacklee Herald   \n",
       "16228  2035-06-28T23:00:00        Jones Group__0__0__Lomark Daily   \n",
       "16229  2035-06-28T23:00:00        Jones Group__0__0__Lomark Daily   \n",
       "16230  2035-06-28T08:00:00       Jones Group__0__0__The News Buoy   \n",
       "\n",
       "               source            target  key  \n",
       "0      Sanchez-Moreno  Sustainable_nets    0  \n",
       "1      Sanchez-Moreno  Sustainable_nets    1  \n",
       "2      Sanchez-Moreno  Sustainable_nets    2  \n",
       "3      Sanchez-Moreno  Sustainable_nets    3  \n",
       "4      Sanchez-Moreno  Sustainable_nets    4  \n",
       "...               ...               ...  ...  \n",
       "16226  City Of Himark       Raymond LLC   13  \n",
       "16227  City Of Himark       Raymond LLC   14  \n",
       "16228  City Of Himark       Raymond LLC   15  \n",
       "16229  City Of Himark       Raymond LLC   16  \n",
       "16230  City Of Himark       Raymond LLC   17  \n",
       "\n",
       "[16231 rows x 10 columns]"
      ]
     },
     "execution_count": 67,
     "metadata": {},
     "output_type": "execute_result"
    }
   ],
   "source": [
    "df_links"
   ]
  },
  {
   "cell_type": "code",
   "execution_count": null,
   "metadata": {},
   "outputs": [
    {
     "data": {
      "text/plain": [
       "array([nan, 'Paackland Police Reports', 'The News Buoy',\n",
       "       'Haacklee Herald', 'Lomark Daily'], dtype=object)"
      ]
     },
     "execution_count": 71,
     "metadata": {},
     "output_type": "execute_result"
    }
   ],
   "source": [
    "nyanza_df = df_links[df_links['target'].str.contains(\"Nyanz\", case=False)]\n",
    "nyanza_df['_raw_source'].unique()"
   ]
  },
  {
   "cell_type": "code",
   "execution_count": null,
   "metadata": {},
   "outputs": [
    {
     "data": {
      "text/html": [
       "<div>\n",
       "<style scoped>\n",
       "    .dataframe tbody tr th:only-of-type {\n",
       "        vertical-align: middle;\n",
       "    }\n",
       "\n",
       "    .dataframe tbody tr th {\n",
       "        vertical-align: top;\n",
       "    }\n",
       "\n",
       "    .dataframe thead th {\n",
       "        text-align: right;\n",
       "    }\n",
       "</style>\n",
       "<table border=\"1\" class=\"dataframe\">\n",
       "  <thead>\n",
       "    <tr style=\"text-align: right;\">\n",
       "      <th></th>\n",
       "      <th>type</th>\n",
       "      <th>_date_added</th>\n",
       "      <th>_raw_source</th>\n",
       "      <th>_algorithm</th>\n",
       "      <th>_last_edited_by</th>\n",
       "      <th>_last_edited_date</th>\n",
       "      <th>_articleid</th>\n",
       "      <th>source</th>\n",
       "      <th>target</th>\n",
       "      <th>key</th>\n",
       "    </tr>\n",
       "  </thead>\n",
       "  <tbody>\n",
       "    <tr>\n",
       "      <th>12509</th>\n",
       "      <td>Event.Owns.PartiallyOwns</td>\n",
       "      <td>2035-02-11T12:00:00</td>\n",
       "      <td>NaN</td>\n",
       "      <td>NaN</td>\n",
       "      <td>NaN</td>\n",
       "      <td>NaN</td>\n",
       "      <td>NaN</td>\n",
       "      <td>Lemuel Conti</td>\n",
       "      <td>NyanzaRiver Worldwide AS</td>\n",
       "      <td>0</td>\n",
       "    </tr>\n",
       "    <tr>\n",
       "      <th>14869</th>\n",
       "      <td>Event.CertificateIssued.Summons</td>\n",
       "      <td>2035-02-06T08:00:00</td>\n",
       "      <td>Paackland Police Reports</td>\n",
       "      <td>BassLine</td>\n",
       "      <td>Greta Grass-Hill</td>\n",
       "      <td>2035-02-06T08:00:00</td>\n",
       "      <td>Jones Group__0__0__The News Buoy</td>\n",
       "      <td>City Of Paackland</td>\n",
       "      <td>NyanzaRiver Worldwide AS</td>\n",
       "      <td>0</td>\n",
       "    </tr>\n",
       "    <tr>\n",
       "      <th>14870</th>\n",
       "      <td>Event.CertificateIssued.Summons</td>\n",
       "      <td>2035-02-06T08:00:00</td>\n",
       "      <td>Paackland Police Reports</td>\n",
       "      <td>BassLine</td>\n",
       "      <td>Greta Grass-Hill</td>\n",
       "      <td>2035-02-06T08:00:00</td>\n",
       "      <td>Jones Group__0__0__The News Buoy</td>\n",
       "      <td>City Of Paackland</td>\n",
       "      <td>NyanzaRiver Worldwide AS</td>\n",
       "      <td>1</td>\n",
       "    </tr>\n",
       "    <tr>\n",
       "      <th>14871</th>\n",
       "      <td>Event.Convicted</td>\n",
       "      <td>2035-02-06T08:00:00</td>\n",
       "      <td>Paackland Police Reports</td>\n",
       "      <td>BassLine</td>\n",
       "      <td>Greta Grass-Hill</td>\n",
       "      <td>2035-02-06T08:00:00</td>\n",
       "      <td>Jones Group__0__0__The News Buoy</td>\n",
       "      <td>City Of Paackland</td>\n",
       "      <td>NyanzaRiver Worldwide AS</td>\n",
       "      <td>2</td>\n",
       "    </tr>\n",
       "    <tr>\n",
       "      <th>14872</th>\n",
       "      <td>Event.CertificateIssued.Summons</td>\n",
       "      <td>2035-02-06T08:00:00</td>\n",
       "      <td>The News Buoy</td>\n",
       "      <td>BassLine</td>\n",
       "      <td>Greta Grass-Hill</td>\n",
       "      <td>2035-02-06T08:00:00</td>\n",
       "      <td>Jones Group__0__0__The News Buoy</td>\n",
       "      <td>City Of Paackland</td>\n",
       "      <td>NyanzaRiver Worldwide AS</td>\n",
       "      <td>3</td>\n",
       "    </tr>\n",
       "    <tr>\n",
       "      <th>14873</th>\n",
       "      <td>Event.CertificateIssued.Summons</td>\n",
       "      <td>2035-04-11T03:00:00</td>\n",
       "      <td>Paackland Police Reports</td>\n",
       "      <td>ShadGPT</td>\n",
       "      <td>Pelagia Alethea Mordoch</td>\n",
       "      <td>2035-04-11T03:00:00</td>\n",
       "      <td>Jones Group__0__0__The News Buoy</td>\n",
       "      <td>City Of Paackland</td>\n",
       "      <td>NyanzaRiver Worldwide AS</td>\n",
       "      <td>4</td>\n",
       "    </tr>\n",
       "    <tr>\n",
       "      <th>14874</th>\n",
       "      <td>Event.CertificateIssued.Summons</td>\n",
       "      <td>2035-04-11T03:00:00</td>\n",
       "      <td>The News Buoy</td>\n",
       "      <td>ShadGPT</td>\n",
       "      <td>Pelagia Alethea Mordoch</td>\n",
       "      <td>2035-04-11T03:00:00</td>\n",
       "      <td>Jones Group__0__0__The News Buoy</td>\n",
       "      <td>City Of Paackland</td>\n",
       "      <td>NyanzaRiver Worldwide AS</td>\n",
       "      <td>5</td>\n",
       "    </tr>\n",
       "    <tr>\n",
       "      <th>14875</th>\n",
       "      <td>Event.CertificateIssued.Summons</td>\n",
       "      <td>2035-04-17T22:00:00</td>\n",
       "      <td>The News Buoy</td>\n",
       "      <td>ShadGPT</td>\n",
       "      <td>Harvey Janus</td>\n",
       "      <td>2035-04-17T22:00:00</td>\n",
       "      <td>Jones Group__0__0__The News Buoy</td>\n",
       "      <td>City Of Paackland</td>\n",
       "      <td>NyanzaRiver Worldwide AS</td>\n",
       "      <td>6</td>\n",
       "    </tr>\n",
       "    <tr>\n",
       "      <th>14876</th>\n",
       "      <td>Event.CertificateIssued</td>\n",
       "      <td>2035-05-17T00:00:00</td>\n",
       "      <td>The News Buoy</td>\n",
       "      <td>ShadGPT</td>\n",
       "      <td>Niklaus Oberon</td>\n",
       "      <td>2035-05-17T00:00:00</td>\n",
       "      <td>NyanzaRiver Worldwide AS__0__0__The News Buoy</td>\n",
       "      <td>City Of Paackland</td>\n",
       "      <td>NyanzaRiver Worldwide AS</td>\n",
       "      <td>7</td>\n",
       "    </tr>\n",
       "    <tr>\n",
       "      <th>14877</th>\n",
       "      <td>Event.CertificateIssued.Summons</td>\n",
       "      <td>2035-04-24T02:00:00</td>\n",
       "      <td>Haacklee Herald</td>\n",
       "      <td>ShadGPT</td>\n",
       "      <td>Jack Inch</td>\n",
       "      <td>2035-04-24T02:00:00</td>\n",
       "      <td>Jones Group__0__0__Haacklee Herald</td>\n",
       "      <td>City Of Paackland</td>\n",
       "      <td>NyanzaRiver Worldwide AS</td>\n",
       "      <td>8</td>\n",
       "    </tr>\n",
       "    <tr>\n",
       "      <th>14878</th>\n",
       "      <td>Event.CertificateIssued.Summons</td>\n",
       "      <td>2035-04-24T20:00:00</td>\n",
       "      <td>Lomark Daily</td>\n",
       "      <td>BassLine</td>\n",
       "      <td>Niklaus Oberon</td>\n",
       "      <td>2035-04-24T20:00:00</td>\n",
       "      <td>Jones Group__0__0__Lomark Daily</td>\n",
       "      <td>City Of Paackland</td>\n",
       "      <td>NyanzaRiver Worldwide AS</td>\n",
       "      <td>9</td>\n",
       "    </tr>\n",
       "    <tr>\n",
       "      <th>14879</th>\n",
       "      <td>Event.CertificateIssued.Summons</td>\n",
       "      <td>2035-05-12T15:00:00</td>\n",
       "      <td>Haacklee Herald</td>\n",
       "      <td>ShadGPT</td>\n",
       "      <td>Urashima Tarō</td>\n",
       "      <td>2035-05-12T15:00:00</td>\n",
       "      <td>Jones Group__0__0__Haacklee Herald</td>\n",
       "      <td>City Of Paackland</td>\n",
       "      <td>NyanzaRiver Worldwide AS</td>\n",
       "      <td>10</td>\n",
       "    </tr>\n",
       "    <tr>\n",
       "      <th>14880</th>\n",
       "      <td>Event.Convicted</td>\n",
       "      <td>2035-05-12T17:00:00</td>\n",
       "      <td>Paackland Police Reports</td>\n",
       "      <td>ShadGPT</td>\n",
       "      <td>Melinda Manning</td>\n",
       "      <td>2035-05-12T17:00:00</td>\n",
       "      <td>Jones Group__0__0__Lomark Daily</td>\n",
       "      <td>City Of Paackland</td>\n",
       "      <td>NyanzaRiver Worldwide AS</td>\n",
       "      <td>11</td>\n",
       "    </tr>\n",
       "    <tr>\n",
       "      <th>14881</th>\n",
       "      <td>Event.CertificateIssued.Summons</td>\n",
       "      <td>2035-05-12T17:00:00</td>\n",
       "      <td>Lomark Daily</td>\n",
       "      <td>ShadGPT</td>\n",
       "      <td>Melinda Manning</td>\n",
       "      <td>2035-05-12T17:00:00</td>\n",
       "      <td>Jones Group__0__0__Lomark Daily</td>\n",
       "      <td>City Of Paackland</td>\n",
       "      <td>NyanzaRiver Worldwide AS</td>\n",
       "      <td>12</td>\n",
       "    </tr>\n",
       "    <tr>\n",
       "      <th>14882</th>\n",
       "      <td>Event.CertificateIssued.Summons</td>\n",
       "      <td>2035-07-12T00:00:00</td>\n",
       "      <td>Paackland Police Reports</td>\n",
       "      <td>BassLine</td>\n",
       "      <td>Haenyeo Hyun-Ki</td>\n",
       "      <td>2035-07-12T00:00:00</td>\n",
       "      <td>Jones Group__0__0__Haacklee Herald</td>\n",
       "      <td>City Of Paackland</td>\n",
       "      <td>NyanzaRiver Worldwide AS</td>\n",
       "      <td>13</td>\n",
       "    </tr>\n",
       "    <tr>\n",
       "      <th>14883</th>\n",
       "      <td>Event.CertificateIssued.Summons</td>\n",
       "      <td>2035-07-12T00:00:00</td>\n",
       "      <td>Paackland Police Reports</td>\n",
       "      <td>BassLine</td>\n",
       "      <td>Haenyeo Hyun-Ki</td>\n",
       "      <td>2035-07-12T00:00:00</td>\n",
       "      <td>Jones Group__0__0__Haacklee Herald</td>\n",
       "      <td>City Of Paackland</td>\n",
       "      <td>NyanzaRiver Worldwide AS</td>\n",
       "      <td>14</td>\n",
       "    </tr>\n",
       "    <tr>\n",
       "      <th>14884</th>\n",
       "      <td>Event.CertificateIssued.Summons</td>\n",
       "      <td>2035-07-12T00:00:00</td>\n",
       "      <td>Haacklee Herald</td>\n",
       "      <td>BassLine</td>\n",
       "      <td>Haenyeo Hyun-Ki</td>\n",
       "      <td>2035-07-12T00:00:00</td>\n",
       "      <td>Jones Group__0__0__Haacklee Herald</td>\n",
       "      <td>City Of Paackland</td>\n",
       "      <td>NyanzaRiver Worldwide AS</td>\n",
       "      <td>15</td>\n",
       "    </tr>\n",
       "    <tr>\n",
       "      <th>14885</th>\n",
       "      <td>Event.CertificateIssued.Summons</td>\n",
       "      <td>2035-07-11T01:00:00</td>\n",
       "      <td>Lomark Daily</td>\n",
       "      <td>ShadGPT</td>\n",
       "      <td>Jack Inch</td>\n",
       "      <td>2035-07-11T01:00:00</td>\n",
       "      <td>Jones Group__0__0__Lomark Daily</td>\n",
       "      <td>City Of Paackland</td>\n",
       "      <td>NyanzaRiver Worldwide AS</td>\n",
       "      <td>16</td>\n",
       "    </tr>\n",
       "    <tr>\n",
       "      <th>14886</th>\n",
       "      <td>Event.CertificateIssued.Summons</td>\n",
       "      <td>2035-07-23T00:00:00</td>\n",
       "      <td>Paackland Police Reports</td>\n",
       "      <td>BassLine</td>\n",
       "      <td>Junior Shurdlu</td>\n",
       "      <td>2035-07-23T00:00:00</td>\n",
       "      <td>Jones Group__0__0__Haacklee Herald</td>\n",
       "      <td>City Of Paackland</td>\n",
       "      <td>NyanzaRiver Worldwide AS</td>\n",
       "      <td>17</td>\n",
       "    </tr>\n",
       "    <tr>\n",
       "      <th>14887</th>\n",
       "      <td>Event.CertificateIssued.Summons</td>\n",
       "      <td>2035-07-23T00:00:00</td>\n",
       "      <td>Paackland Police Reports</td>\n",
       "      <td>BassLine</td>\n",
       "      <td>Junior Shurdlu</td>\n",
       "      <td>2035-07-23T00:00:00</td>\n",
       "      <td>Jones Group__0__0__Haacklee Herald</td>\n",
       "      <td>City Of Paackland</td>\n",
       "      <td>NyanzaRiver Worldwide AS</td>\n",
       "      <td>18</td>\n",
       "    </tr>\n",
       "    <tr>\n",
       "      <th>14888</th>\n",
       "      <td>Event.Convicted</td>\n",
       "      <td>2035-07-23T00:00:00</td>\n",
       "      <td>Paackland Police Reports</td>\n",
       "      <td>BassLine</td>\n",
       "      <td>Junior Shurdlu</td>\n",
       "      <td>2035-07-23T00:00:00</td>\n",
       "      <td>Jones Group__0__0__Haacklee Herald</td>\n",
       "      <td>City Of Paackland</td>\n",
       "      <td>NyanzaRiver Worldwide AS</td>\n",
       "      <td>19</td>\n",
       "    </tr>\n",
       "    <tr>\n",
       "      <th>14889</th>\n",
       "      <td>Event.CertificateIssued.Summons</td>\n",
       "      <td>2035-07-23T00:00:00</td>\n",
       "      <td>Haacklee Herald</td>\n",
       "      <td>BassLine</td>\n",
       "      <td>Junior Shurdlu</td>\n",
       "      <td>2035-07-23T00:00:00</td>\n",
       "      <td>Jones Group__0__0__Haacklee Herald</td>\n",
       "      <td>City Of Paackland</td>\n",
       "      <td>NyanzaRiver Worldwide AS</td>\n",
       "      <td>20</td>\n",
       "    </tr>\n",
       "    <tr>\n",
       "      <th>14890</th>\n",
       "      <td>Event.CertificateIssued.Summons</td>\n",
       "      <td>2035-07-22T09:00:00</td>\n",
       "      <td>Lomark Daily</td>\n",
       "      <td>ShadGPT</td>\n",
       "      <td>Pelagia Alethea Mordoch</td>\n",
       "      <td>2035-07-22T09:00:00</td>\n",
       "      <td>Jones Group__0__0__Lomark Daily</td>\n",
       "      <td>City Of Paackland</td>\n",
       "      <td>NyanzaRiver Worldwide AS</td>\n",
       "      <td>21</td>\n",
       "    </tr>\n",
       "    <tr>\n",
       "      <th>15865</th>\n",
       "      <td>Event.CertificateIssued.Summons</td>\n",
       "      <td>2035-02-06T08:00:00</td>\n",
       "      <td>The News Buoy</td>\n",
       "      <td>BassLine</td>\n",
       "      <td>Greta Grass-Hill</td>\n",
       "      <td>2035-02-06T08:00:00</td>\n",
       "      <td>Jones Group__0__0__The News Buoy</td>\n",
       "      <td>City Of Port Grove</td>\n",
       "      <td>NyanzaRiver Worldwide AS</td>\n",
       "      <td>0</td>\n",
       "    </tr>\n",
       "    <tr>\n",
       "      <th>15866</th>\n",
       "      <td>Event.CertificateIssued.Summons</td>\n",
       "      <td>2035-04-11T03:00:00</td>\n",
       "      <td>The News Buoy</td>\n",
       "      <td>ShadGPT</td>\n",
       "      <td>Pelagia Alethea Mordoch</td>\n",
       "      <td>2035-04-11T03:00:00</td>\n",
       "      <td>Jones Group__0__0__The News Buoy</td>\n",
       "      <td>City Of Port Grove</td>\n",
       "      <td>NyanzaRiver Worldwide AS</td>\n",
       "      <td>1</td>\n",
       "    </tr>\n",
       "    <tr>\n",
       "      <th>15867</th>\n",
       "      <td>Event.CertificateIssued.Summons</td>\n",
       "      <td>2035-04-17T22:00:00</td>\n",
       "      <td>The News Buoy</td>\n",
       "      <td>ShadGPT</td>\n",
       "      <td>Harvey Janus</td>\n",
       "      <td>2035-04-17T22:00:00</td>\n",
       "      <td>Jones Group__0__0__The News Buoy</td>\n",
       "      <td>City Of Port Grove</td>\n",
       "      <td>NyanzaRiver Worldwide AS</td>\n",
       "      <td>2</td>\n",
       "    </tr>\n",
       "    <tr>\n",
       "      <th>15868</th>\n",
       "      <td>Event.CertificateIssued</td>\n",
       "      <td>2035-05-17T00:00:00</td>\n",
       "      <td>The News Buoy</td>\n",
       "      <td>ShadGPT</td>\n",
       "      <td>Niklaus Oberon</td>\n",
       "      <td>2035-05-17T00:00:00</td>\n",
       "      <td>NyanzaRiver Worldwide AS__0__0__The News Buoy</td>\n",
       "      <td>City Of Port Grove</td>\n",
       "      <td>NyanzaRiver Worldwide AS</td>\n",
       "      <td>3</td>\n",
       "    </tr>\n",
       "    <tr>\n",
       "      <th>15869</th>\n",
       "      <td>Event.CertificateIssued.Summons</td>\n",
       "      <td>2035-04-24T02:00:00</td>\n",
       "      <td>Haacklee Herald</td>\n",
       "      <td>ShadGPT</td>\n",
       "      <td>Jack Inch</td>\n",
       "      <td>2035-04-24T02:00:00</td>\n",
       "      <td>Jones Group__0__0__Haacklee Herald</td>\n",
       "      <td>City Of Port Grove</td>\n",
       "      <td>NyanzaRiver Worldwide AS</td>\n",
       "      <td>4</td>\n",
       "    </tr>\n",
       "    <tr>\n",
       "      <th>15870</th>\n",
       "      <td>Event.CertificateIssued.Summons</td>\n",
       "      <td>2035-04-24T20:00:00</td>\n",
       "      <td>Lomark Daily</td>\n",
       "      <td>BassLine</td>\n",
       "      <td>Niklaus Oberon</td>\n",
       "      <td>2035-04-24T20:00:00</td>\n",
       "      <td>Jones Group__0__0__Lomark Daily</td>\n",
       "      <td>City Of Port Grove</td>\n",
       "      <td>NyanzaRiver Worldwide AS</td>\n",
       "      <td>5</td>\n",
       "    </tr>\n",
       "    <tr>\n",
       "      <th>15871</th>\n",
       "      <td>Event.CertificateIssued.Summons</td>\n",
       "      <td>2035-05-12T15:00:00</td>\n",
       "      <td>Haacklee Herald</td>\n",
       "      <td>ShadGPT</td>\n",
       "      <td>Urashima Tarō</td>\n",
       "      <td>2035-05-12T15:00:00</td>\n",
       "      <td>Jones Group__0__0__Haacklee Herald</td>\n",
       "      <td>City Of Port Grove</td>\n",
       "      <td>NyanzaRiver Worldwide AS</td>\n",
       "      <td>6</td>\n",
       "    </tr>\n",
       "    <tr>\n",
       "      <th>15872</th>\n",
       "      <td>Event.CertificateIssued.Summons</td>\n",
       "      <td>2035-05-12T17:00:00</td>\n",
       "      <td>Lomark Daily</td>\n",
       "      <td>ShadGPT</td>\n",
       "      <td>Melinda Manning</td>\n",
       "      <td>2035-05-12T17:00:00</td>\n",
       "      <td>Jones Group__0__0__Lomark Daily</td>\n",
       "      <td>City Of Port Grove</td>\n",
       "      <td>NyanzaRiver Worldwide AS</td>\n",
       "      <td>7</td>\n",
       "    </tr>\n",
       "    <tr>\n",
       "      <th>15873</th>\n",
       "      <td>Event.CertificateIssued.Summons</td>\n",
       "      <td>2035-07-12T00:00:00</td>\n",
       "      <td>Haacklee Herald</td>\n",
       "      <td>BassLine</td>\n",
       "      <td>Haenyeo Hyun-Ki</td>\n",
       "      <td>2035-07-12T00:00:00</td>\n",
       "      <td>Jones Group__0__0__Haacklee Herald</td>\n",
       "      <td>City Of Port Grove</td>\n",
       "      <td>NyanzaRiver Worldwide AS</td>\n",
       "      <td>8</td>\n",
       "    </tr>\n",
       "    <tr>\n",
       "      <th>15874</th>\n",
       "      <td>Event.CertificateIssued.Summons</td>\n",
       "      <td>2035-07-11T01:00:00</td>\n",
       "      <td>Lomark Daily</td>\n",
       "      <td>ShadGPT</td>\n",
       "      <td>Jack Inch</td>\n",
       "      <td>2035-07-11T01:00:00</td>\n",
       "      <td>Jones Group__0__0__Lomark Daily</td>\n",
       "      <td>City Of Port Grove</td>\n",
       "      <td>NyanzaRiver Worldwide AS</td>\n",
       "      <td>9</td>\n",
       "    </tr>\n",
       "    <tr>\n",
       "      <th>15875</th>\n",
       "      <td>Event.CertificateIssued.Summons</td>\n",
       "      <td>2035-07-23T00:00:00</td>\n",
       "      <td>Haacklee Herald</td>\n",
       "      <td>BassLine</td>\n",
       "      <td>Junior Shurdlu</td>\n",
       "      <td>2035-07-23T00:00:00</td>\n",
       "      <td>Jones Group__0__0__Haacklee Herald</td>\n",
       "      <td>City Of Port Grove</td>\n",
       "      <td>NyanzaRiver Worldwide AS</td>\n",
       "      <td>10</td>\n",
       "    </tr>\n",
       "    <tr>\n",
       "      <th>15876</th>\n",
       "      <td>Event.CertificateIssued.Summons</td>\n",
       "      <td>2035-07-22T09:00:00</td>\n",
       "      <td>Lomark Daily</td>\n",
       "      <td>ShadGPT</td>\n",
       "      <td>Pelagia Alethea Mordoch</td>\n",
       "      <td>2035-07-22T09:00:00</td>\n",
       "      <td>Jones Group__0__0__Lomark Daily</td>\n",
       "      <td>City Of Port Grove</td>\n",
       "      <td>NyanzaRiver Worldwide AS</td>\n",
       "      <td>11</td>\n",
       "    </tr>\n",
       "  </tbody>\n",
       "</table>\n",
       "</div>"
      ],
      "text/plain": [
       "                                  type          _date_added  \\\n",
       "12509         Event.Owns.PartiallyOwns  2035-02-11T12:00:00   \n",
       "14869  Event.CertificateIssued.Summons  2035-02-06T08:00:00   \n",
       "14870  Event.CertificateIssued.Summons  2035-02-06T08:00:00   \n",
       "14871                  Event.Convicted  2035-02-06T08:00:00   \n",
       "14872  Event.CertificateIssued.Summons  2035-02-06T08:00:00   \n",
       "14873  Event.CertificateIssued.Summons  2035-04-11T03:00:00   \n",
       "14874  Event.CertificateIssued.Summons  2035-04-11T03:00:00   \n",
       "14875  Event.CertificateIssued.Summons  2035-04-17T22:00:00   \n",
       "14876          Event.CertificateIssued  2035-05-17T00:00:00   \n",
       "14877  Event.CertificateIssued.Summons  2035-04-24T02:00:00   \n",
       "14878  Event.CertificateIssued.Summons  2035-04-24T20:00:00   \n",
       "14879  Event.CertificateIssued.Summons  2035-05-12T15:00:00   \n",
       "14880                  Event.Convicted  2035-05-12T17:00:00   \n",
       "14881  Event.CertificateIssued.Summons  2035-05-12T17:00:00   \n",
       "14882  Event.CertificateIssued.Summons  2035-07-12T00:00:00   \n",
       "14883  Event.CertificateIssued.Summons  2035-07-12T00:00:00   \n",
       "14884  Event.CertificateIssued.Summons  2035-07-12T00:00:00   \n",
       "14885  Event.CertificateIssued.Summons  2035-07-11T01:00:00   \n",
       "14886  Event.CertificateIssued.Summons  2035-07-23T00:00:00   \n",
       "14887  Event.CertificateIssued.Summons  2035-07-23T00:00:00   \n",
       "14888                  Event.Convicted  2035-07-23T00:00:00   \n",
       "14889  Event.CertificateIssued.Summons  2035-07-23T00:00:00   \n",
       "14890  Event.CertificateIssued.Summons  2035-07-22T09:00:00   \n",
       "15865  Event.CertificateIssued.Summons  2035-02-06T08:00:00   \n",
       "15866  Event.CertificateIssued.Summons  2035-04-11T03:00:00   \n",
       "15867  Event.CertificateIssued.Summons  2035-04-17T22:00:00   \n",
       "15868          Event.CertificateIssued  2035-05-17T00:00:00   \n",
       "15869  Event.CertificateIssued.Summons  2035-04-24T02:00:00   \n",
       "15870  Event.CertificateIssued.Summons  2035-04-24T20:00:00   \n",
       "15871  Event.CertificateIssued.Summons  2035-05-12T15:00:00   \n",
       "15872  Event.CertificateIssued.Summons  2035-05-12T17:00:00   \n",
       "15873  Event.CertificateIssued.Summons  2035-07-12T00:00:00   \n",
       "15874  Event.CertificateIssued.Summons  2035-07-11T01:00:00   \n",
       "15875  Event.CertificateIssued.Summons  2035-07-23T00:00:00   \n",
       "15876  Event.CertificateIssued.Summons  2035-07-22T09:00:00   \n",
       "\n",
       "                    _raw_source _algorithm          _last_edited_by  \\\n",
       "12509                       NaN        NaN                      NaN   \n",
       "14869  Paackland Police Reports   BassLine         Greta Grass-Hill   \n",
       "14870  Paackland Police Reports   BassLine         Greta Grass-Hill   \n",
       "14871  Paackland Police Reports   BassLine         Greta Grass-Hill   \n",
       "14872             The News Buoy   BassLine         Greta Grass-Hill   \n",
       "14873  Paackland Police Reports    ShadGPT  Pelagia Alethea Mordoch   \n",
       "14874             The News Buoy    ShadGPT  Pelagia Alethea Mordoch   \n",
       "14875             The News Buoy    ShadGPT             Harvey Janus   \n",
       "14876             The News Buoy    ShadGPT           Niklaus Oberon   \n",
       "14877           Haacklee Herald    ShadGPT                Jack Inch   \n",
       "14878              Lomark Daily   BassLine           Niklaus Oberon   \n",
       "14879           Haacklee Herald    ShadGPT            Urashima Tarō   \n",
       "14880  Paackland Police Reports    ShadGPT          Melinda Manning   \n",
       "14881              Lomark Daily    ShadGPT          Melinda Manning   \n",
       "14882  Paackland Police Reports   BassLine          Haenyeo Hyun-Ki   \n",
       "14883  Paackland Police Reports   BassLine          Haenyeo Hyun-Ki   \n",
       "14884           Haacklee Herald   BassLine          Haenyeo Hyun-Ki   \n",
       "14885              Lomark Daily    ShadGPT                Jack Inch   \n",
       "14886  Paackland Police Reports   BassLine           Junior Shurdlu   \n",
       "14887  Paackland Police Reports   BassLine           Junior Shurdlu   \n",
       "14888  Paackland Police Reports   BassLine           Junior Shurdlu   \n",
       "14889           Haacklee Herald   BassLine           Junior Shurdlu   \n",
       "14890              Lomark Daily    ShadGPT  Pelagia Alethea Mordoch   \n",
       "15865             The News Buoy   BassLine         Greta Grass-Hill   \n",
       "15866             The News Buoy    ShadGPT  Pelagia Alethea Mordoch   \n",
       "15867             The News Buoy    ShadGPT             Harvey Janus   \n",
       "15868             The News Buoy    ShadGPT           Niklaus Oberon   \n",
       "15869           Haacklee Herald    ShadGPT                Jack Inch   \n",
       "15870              Lomark Daily   BassLine           Niklaus Oberon   \n",
       "15871           Haacklee Herald    ShadGPT            Urashima Tarō   \n",
       "15872              Lomark Daily    ShadGPT          Melinda Manning   \n",
       "15873           Haacklee Herald   BassLine          Haenyeo Hyun-Ki   \n",
       "15874              Lomark Daily    ShadGPT                Jack Inch   \n",
       "15875           Haacklee Herald   BassLine           Junior Shurdlu   \n",
       "15876              Lomark Daily    ShadGPT  Pelagia Alethea Mordoch   \n",
       "\n",
       "         _last_edited_date                                     _articleid  \\\n",
       "12509                  NaN                                            NaN   \n",
       "14869  2035-02-06T08:00:00               Jones Group__0__0__The News Buoy   \n",
       "14870  2035-02-06T08:00:00               Jones Group__0__0__The News Buoy   \n",
       "14871  2035-02-06T08:00:00               Jones Group__0__0__The News Buoy   \n",
       "14872  2035-02-06T08:00:00               Jones Group__0__0__The News Buoy   \n",
       "14873  2035-04-11T03:00:00               Jones Group__0__0__The News Buoy   \n",
       "14874  2035-04-11T03:00:00               Jones Group__0__0__The News Buoy   \n",
       "14875  2035-04-17T22:00:00               Jones Group__0__0__The News Buoy   \n",
       "14876  2035-05-17T00:00:00  NyanzaRiver Worldwide AS__0__0__The News Buoy   \n",
       "14877  2035-04-24T02:00:00             Jones Group__0__0__Haacklee Herald   \n",
       "14878  2035-04-24T20:00:00                Jones Group__0__0__Lomark Daily   \n",
       "14879  2035-05-12T15:00:00             Jones Group__0__0__Haacklee Herald   \n",
       "14880  2035-05-12T17:00:00                Jones Group__0__0__Lomark Daily   \n",
       "14881  2035-05-12T17:00:00                Jones Group__0__0__Lomark Daily   \n",
       "14882  2035-07-12T00:00:00             Jones Group__0__0__Haacklee Herald   \n",
       "14883  2035-07-12T00:00:00             Jones Group__0__0__Haacklee Herald   \n",
       "14884  2035-07-12T00:00:00             Jones Group__0__0__Haacklee Herald   \n",
       "14885  2035-07-11T01:00:00                Jones Group__0__0__Lomark Daily   \n",
       "14886  2035-07-23T00:00:00             Jones Group__0__0__Haacklee Herald   \n",
       "14887  2035-07-23T00:00:00             Jones Group__0__0__Haacklee Herald   \n",
       "14888  2035-07-23T00:00:00             Jones Group__0__0__Haacklee Herald   \n",
       "14889  2035-07-23T00:00:00             Jones Group__0__0__Haacklee Herald   \n",
       "14890  2035-07-22T09:00:00                Jones Group__0__0__Lomark Daily   \n",
       "15865  2035-02-06T08:00:00               Jones Group__0__0__The News Buoy   \n",
       "15866  2035-04-11T03:00:00               Jones Group__0__0__The News Buoy   \n",
       "15867  2035-04-17T22:00:00               Jones Group__0__0__The News Buoy   \n",
       "15868  2035-05-17T00:00:00  NyanzaRiver Worldwide AS__0__0__The News Buoy   \n",
       "15869  2035-04-24T02:00:00             Jones Group__0__0__Haacklee Herald   \n",
       "15870  2035-04-24T20:00:00                Jones Group__0__0__Lomark Daily   \n",
       "15871  2035-05-12T15:00:00             Jones Group__0__0__Haacklee Herald   \n",
       "15872  2035-05-12T17:00:00                Jones Group__0__0__Lomark Daily   \n",
       "15873  2035-07-12T00:00:00             Jones Group__0__0__Haacklee Herald   \n",
       "15874  2035-07-11T01:00:00                Jones Group__0__0__Lomark Daily   \n",
       "15875  2035-07-23T00:00:00             Jones Group__0__0__Haacklee Herald   \n",
       "15876  2035-07-22T09:00:00                Jones Group__0__0__Lomark Daily   \n",
       "\n",
       "                   source                    target  key  \n",
       "12509        Lemuel Conti  NyanzaRiver Worldwide AS    0  \n",
       "14869   City Of Paackland  NyanzaRiver Worldwide AS    0  \n",
       "14870   City Of Paackland  NyanzaRiver Worldwide AS    1  \n",
       "14871   City Of Paackland  NyanzaRiver Worldwide AS    2  \n",
       "14872   City Of Paackland  NyanzaRiver Worldwide AS    3  \n",
       "14873   City Of Paackland  NyanzaRiver Worldwide AS    4  \n",
       "14874   City Of Paackland  NyanzaRiver Worldwide AS    5  \n",
       "14875   City Of Paackland  NyanzaRiver Worldwide AS    6  \n",
       "14876   City Of Paackland  NyanzaRiver Worldwide AS    7  \n",
       "14877   City Of Paackland  NyanzaRiver Worldwide AS    8  \n",
       "14878   City Of Paackland  NyanzaRiver Worldwide AS    9  \n",
       "14879   City Of Paackland  NyanzaRiver Worldwide AS   10  \n",
       "14880   City Of Paackland  NyanzaRiver Worldwide AS   11  \n",
       "14881   City Of Paackland  NyanzaRiver Worldwide AS   12  \n",
       "14882   City Of Paackland  NyanzaRiver Worldwide AS   13  \n",
       "14883   City Of Paackland  NyanzaRiver Worldwide AS   14  \n",
       "14884   City Of Paackland  NyanzaRiver Worldwide AS   15  \n",
       "14885   City Of Paackland  NyanzaRiver Worldwide AS   16  \n",
       "14886   City Of Paackland  NyanzaRiver Worldwide AS   17  \n",
       "14887   City Of Paackland  NyanzaRiver Worldwide AS   18  \n",
       "14888   City Of Paackland  NyanzaRiver Worldwide AS   19  \n",
       "14889   City Of Paackland  NyanzaRiver Worldwide AS   20  \n",
       "14890   City Of Paackland  NyanzaRiver Worldwide AS   21  \n",
       "15865  City Of Port Grove  NyanzaRiver Worldwide AS    0  \n",
       "15866  City Of Port Grove  NyanzaRiver Worldwide AS    1  \n",
       "15867  City Of Port Grove  NyanzaRiver Worldwide AS    2  \n",
       "15868  City Of Port Grove  NyanzaRiver Worldwide AS    3  \n",
       "15869  City Of Port Grove  NyanzaRiver Worldwide AS    4  \n",
       "15870  City Of Port Grove  NyanzaRiver Worldwide AS    5  \n",
       "15871  City Of Port Grove  NyanzaRiver Worldwide AS    6  \n",
       "15872  City Of Port Grove  NyanzaRiver Worldwide AS    7  \n",
       "15873  City Of Port Grove  NyanzaRiver Worldwide AS    8  \n",
       "15874  City Of Port Grove  NyanzaRiver Worldwide AS    9  \n",
       "15875  City Of Port Grove  NyanzaRiver Worldwide AS   10  \n",
       "15876  City Of Port Grove  NyanzaRiver Worldwide AS   11  "
      ]
     },
     "execution_count": 72,
     "metadata": {},
     "output_type": "execute_result"
    }
   ],
   "source": [
    "nyanza_df"
   ]
  },
  {
   "cell_type": "code",
   "execution_count": null,
   "metadata": {},
   "outputs": [
    {
     "data": {
      "text/plain": [
       "array(['Event.Invest', 'Event.Aid', 'Event.Transaction',\n",
       "       'Event.Fishing.SustainableFishing', 'Event.Fishing',\n",
       "       'Event.Communication.Conference', 'Event.Fishing.OverFishing',\n",
       "       'Event.Criticize', 'Event.Owns.PartiallyOwns', 'Event.Applaud',\n",
       "       'Event.CertificateIssued', 'Event.CertificateIssued.Summons',\n",
       "       'Event.Convicted'], dtype=object)"
      ]
     },
     "execution_count": 66,
     "metadata": {},
     "output_type": "execute_result"
    }
   ],
   "source": [
    "df_links['type'].unique()"
   ]
  },
  {
   "cell_type": "code",
   "execution_count": null,
   "metadata": {},
   "outputs": [],
   "source": [
    "dates = df_links['_date_added']"
   ]
  },
  {
   "cell_type": "code",
   "execution_count": null,
   "metadata": {},
   "outputs": [
    {
     "data": {
      "image/png": "[encoded data removed]",
      "text/plain": [
       "<Figure size 1000x200 with 1 Axes>"
      ]
     },
     "metadata": {},
     "output_type": "display_data"
    },
    {
     "data": {
      "image/png": "[encoded data removed]",
      "text/plain": [
       "<Figure size 1000x400 with 1 Axes>"
      ]
     },
     "metadata": {},
     "output_type": "display_data"
    }
   ],
   "source": [
    "# Convert to pandas datetime\n",
    "dt_series = pd.to_datetime(dates)\n",
    "\n",
    "# Example 1: Plot points on timeline\n",
    "plt.figure(figsize=(10, 2))\n",
    "plt.scatter(dt_series, [1]*len(dt_series))  # y=1 to just show along a line\n",
    "plt.yticks([])\n",
    "plt.xlabel('Date')\n",
    "plt.title('Events over time')\n",
    "plt.show()\n",
    "\n",
    "# Example 2: Count events per day and plot time series\n",
    "df = pd.DataFrame({'date': dt_series})\n",
    "df['date_only'] = df['date'].dt.date\n",
    "counts = df.groupby('date_only').size()\n",
    "\n",
    "plt.figure(figsize=(10, 4))\n",
    "counts.plot(kind='bar')\n",
    "plt.xlabel('Date')\n",
    "plt.ylabel('Number of events')\n",
    "plt.title('Number of events per day')\n",
    "plt.show()"
   ]
  },
  {
   "cell_type": "code",
   "execution_count": null,
   "metadata": {},
   "outputs": [
    {
     "data": {
      "text/plain": [
       "_last_edited_by\n",
       "Pelagia Alethea Mordoch    1375\n",
       "Kristin Baker              1324\n",
       "Greta Grass-Hill           1282\n",
       "Urashima Tarō              1273\n",
       "Jack Inch                  1266\n",
       "Olokun Daramola            1244\n",
       "Worf Peer                  1235\n",
       "Junior Shurdlu             1231\n",
       "Melinda Manning            1220\n",
       "Haenyeo Hyun-Ki            1204\n",
       "Niklaus Oberon             1197\n",
       "Harvey Janus               1148\n",
       "Clepper Jessen             1100\n",
       "Name: count, dtype: int64"
      ]
     },
     "execution_count": 44,
     "metadata": {},
     "output_type": "execute_result"
    }
   ],
   "source": [
    "df_links['_last_edited_by'].value_counts()"
   ]
  },
  {
   "cell_type": "code",
   "execution_count": null,
   "metadata": {},
   "outputs": [
    {
     "data": {
      "text/plain": [
       "_articleid\n",
       "Jones Group__0__0__The News Buoy                    1001\n",
       "Jones Group__0__0__Lomark Daily                      966\n",
       "Jones Group__0__0__Haacklee Herald                   935\n",
       "Brown, Clarke and Martinez__0__0__Lomark Daily       129\n",
       "Murray, Friedman and Wall__0__0__Haacklee Herald     124\n",
       "                                                    ... \n",
       "Taylor, Prince and Sherman__0__1__The News Buoy        2\n",
       "Brown, Clarke and Martinez__0__1__Lomark Daily         2\n",
       "Brown, Clarke and Martinez__0__1__The News Buoy        2\n",
       "Rhodes-Thompson__0__1__Haacklee Herald                 1\n",
       "Burns Inc__0__1__Lomark Daily                          1\n",
       "Name: count, Length: 328, dtype: int64"
      ]
     },
     "execution_count": 42,
     "metadata": {},
     "output_type": "execute_result"
    }
   ],
   "source": [
    "df_links['_articleid'].value_counts()"
   ]
  },
  {
   "cell_type": "code",
   "execution_count": null,
   "metadata": {},
   "outputs": [
    {
     "data": {
      "text/plain": [
       "_algorithm\n",
       "BassLine    8309\n",
       "ShadGPT     7790\n",
       "Name: count, dtype: int64"
      ]
     },
     "execution_count": 43,
     "metadata": {},
     "output_type": "execute_result"
    }
   ],
   "source": [
    "df_links['_algorithm'].value_counts()"
   ]
  },
  {
   "cell_type": "code",
   "execution_count": 3,
   "metadata": {},
   "outputs": [],
   "source": [
    "import json\n",
    "import networkx as nx\n",
    "import matplotlib.pyplot as plt\n",
    "import community.community_louvain as community_louvain\n"
   ]
  },
  {
   "cell_type": "code",
   "execution_count": null,
   "metadata": {},
   "outputs": [
    {
     "name": "stderr",
     "output_type": "stream",
     "text": [
      "c:\\Users\\luord\\Documents\\GitHub\\visual_analytics\\venv\\Lib\\site-packages\\networkx\\readwrite\\json_graph\\node_link.py:290: FutureWarning: \n",
      "The default value will be changed to `edges=\"edges\" in NetworkX 3.6.\n",
      "\n",
      "To make this warning go away, explicitly set the edges kwarg, e.g.:\n",
      "\n",
      "  nx.node_link_graph(data, edges=\"links\") to preserve current behavior, or\n",
      "  nx.node_link_graph(data, edges=\"edges\") for forward compatibility.\n",
      "  warnings.warn(\n"
     ]
    },
    {
     "data": {
      "image/png": "[encoded data removed]",
      "text/plain": [
       "<Figure size 640x480 with 1 Axes>"
      ]
     },
     "metadata": {},
     "output_type": "display_data"
    }
   ],
   "source": [
    "# Load the JSON file\n",
    "with open(\"mc1.json\", \"r\") as f:\n",
    "    data = json.load(f)\n",
    "\n",
    "# Convert JSON to a NetworkX graph object\n",
    "G = nx.node_link_graph(data)\n",
    "\n",
    "# Convert to undirected graph\n",
    "G = G.to_undirected()\n",
    "\n",
    "desired_edge_type = [\"Event.Fishing.OverFishing\", \"Event.Fishing.SustainableFishing\"]  # e.g., \"Event.Fishing.OverFishing\"\n",
    "\n",
    "# Filter edges by type\n",
    "filtered_edges = [(u, v, k) for u, v, k, data in G.edges(keys=True, data=True) if data.get('type') in desired_edge_type]\n",
    "\n",
    "# Create subgraph with filtered edges (for MultiDiGraph you must specify keys)\n",
    "G_filtered = G.edge_subgraph(filtered_edges).copy()\n",
    "\n",
    "# Assume G is your NetworkX graph\n",
    "partition = community_louvain.best_partition(G_filtered)  # Returns a dict: node -> community id\n",
    "\n",
    "# Add community as a node attribute\n",
    "nx.set_node_attributes(G_filtered, partition, \"community\")\n",
    "\n",
    "# Visualize\n",
    "colors = [partition[n] for n in G_filtered.nodes()]\n",
    "nx.draw_spring(G_filtered, node_color=colors, with_labels=True, cmap=plt.cm.tab20)\n",
    "plt.title(\"Community Clustering in Knowledge Graph\")\n",
    "plt.show()\n"
   ]
  },
  {
   "cell_type": "code",
   "execution_count": 34,
   "metadata": {},
   "outputs": [
    {
     "name": "stdout",
     "output_type": "stream",
     "text": [
      "                                  type          _date_added  \\\n",
      "0                         Event.Invest  2035-03-13T19:00:00   \n",
      "1                         Event.Invest  2035-03-19T11:00:00   \n",
      "2                         Event.Invest  2035-04-10T12:00:00   \n",
      "3                         Event.Invest  2035-05-06T12:00:00   \n",
      "4                         Event.Invest  2035-05-23T18:00:00   \n",
      "...                                ...                  ...   \n",
      "16226  Event.CertificateIssued.Summons  2035-05-09T20:00:00   \n",
      "16227  Event.CertificateIssued.Summons  2035-06-28T10:00:00   \n",
      "16228  Event.CertificateIssued.Summons  2035-06-28T23:00:00   \n",
      "16229  Event.CertificateIssued.Summons  2035-06-28T23:00:00   \n",
      "16230  Event.CertificateIssued.Summons  2035-06-28T08:00:00   \n",
      "\n",
      "                 _raw_source _algorithm          _last_edited_by  \\\n",
      "0            Haacklee Herald   BassLine           Junior Shurdlu   \n",
      "1               Lomark Daily    ShadGPT          Olokun Daramola   \n",
      "2            Haacklee Herald   BassLine                Jack Inch   \n",
      "3               Lomark Daily    ShadGPT           Niklaus Oberon   \n",
      "4            Haacklee Herald   BassLine          Melinda Manning   \n",
      "...                      ...        ...                      ...   \n",
      "16226          The News Buoy    ShadGPT          Haenyeo Hyun-Ki   \n",
      "16227        Haacklee Herald    ShadGPT            Urashima Tarō   \n",
      "16228  Himark Police Reports   BassLine  Pelagia Alethea Mordoch   \n",
      "16229           Lomark Daily   BassLine  Pelagia Alethea Mordoch   \n",
      "16230          The News Buoy   BassLine             Harvey Janus   \n",
      "\n",
      "         _last_edited_date                             _articleid  \\\n",
      "0      2035-03-13T19:00:00  Sanchez-Moreno__0__0__Haacklee Herald   \n",
      "1      2035-03-19T11:00:00     Sanchez-Moreno__0__0__Lomark Daily   \n",
      "2      2035-04-10T12:00:00  Sanchez-Moreno__0__0__Haacklee Herald   \n",
      "3      2035-05-06T12:00:00     Sanchez-Moreno__0__0__Lomark Daily   \n",
      "4      2035-05-23T18:00:00  Sanchez-Moreno__0__0__Haacklee Herald   \n",
      "...                    ...                                    ...   \n",
      "16226  2035-05-09T20:00:00       Jones Group__0__0__The News Buoy   \n",
      "16227  2035-06-28T10:00:00     Jones Group__0__0__Haacklee Herald   \n",
      "16228  2035-06-28T23:00:00        Jones Group__0__0__Lomark Daily   \n",
      "16229  2035-06-28T23:00:00        Jones Group__0__0__Lomark Daily   \n",
      "16230  2035-06-28T08:00:00       Jones Group__0__0__The News Buoy   \n",
      "\n",
      "               source            target  key  \n",
      "0      Sanchez-Moreno  Sustainable_nets    0  \n",
      "1      Sanchez-Moreno  Sustainable_nets    1  \n",
      "2      Sanchez-Moreno  Sustainable_nets    2  \n",
      "3      Sanchez-Moreno  Sustainable_nets    3  \n",
      "4      Sanchez-Moreno  Sustainable_nets    4  \n",
      "...               ...               ...  ...  \n",
      "16226  City Of Himark       Raymond LLC   13  \n",
      "16227  City Of Himark       Raymond LLC   14  \n",
      "16228  City Of Himark       Raymond LLC   15  \n",
      "16229  City Of Himark       Raymond LLC   16  \n",
      "16230  City Of Himark       Raymond LLC   17  \n",
      "\n",
      "[16231 rows x 10 columns]\n"
     ]
    }
   ],
   "source": [
    "# Replace 'your_file.json' with your actual file path\n",
    "with open('data\\mc1.json', 'r') as f:\n",
    "    data = json.load(f)\n",
    "\n",
    "# Extract the nodes list\n",
    "nodes = data[\"nodes\"]\n",
    "links = data[\"links\"]\n",
    "\n",
    "# Create a DataFrame from nodes\n",
    "# data = pd.DataFrame(data)\n",
    "df_nodes = pd.DataFrame(nodes)\n",
    "df_links = pd.DataFrame(links)\n",
    "# print(df_nodes[df_nodes['id'] == 'Raymond LLC'])\n",
    "# print(df_links[df_links['source'] == 'Raymond LLC'])\n",
    "# print(df_links['type'].unique())\n",
    "print(df_links)\n",
    "# print(df_nodes[df_nodes['id']=='The News Buoy'])\n",
    "# filtered_df = df_links[df_links['target'] == 'Smith-Hull'] # Add callback from scatter"
   ]
  },
  {
   "cell_type": "code",
   "execution_count": 48,
   "metadata": {},
   "outputs": [
    {
     "name": "stdout",
     "output_type": "stream",
     "text": [
      "        month                                   company sentiment  \\\n",
      "118   2035-02                                Conrad Ltd  negative   \n",
      "221   2035-02                            Ghoti Preserve  negative   \n",
      "408   2035-02                                 Nemo Reef  negative   \n",
      "497   2035-02  ScaniaSeafood Holdings Ltd. Liability Co  negative   \n",
      "557   2035-02                        V. Miesel Shipping  negative   \n",
      "649   2035-03                         Bailey-Mccullough  negative   \n",
      "764   2035-03                       Don Limpet Preserve  negative   \n",
      "822   2035-03                            Ghoti Preserve  negative   \n",
      "962   2035-03                              May and Sons  negative   \n",
      "984   2035-03                                 Nemo Reef  negative   \n",
      "1002  2035-03           Oka Seafood Shipping Ges.m.b.H.  negative   \n",
      "1083  2035-03  ScaniaSeafood Holdings Ltd. Liability Co  negative   \n",
      "1137  2035-03                        V. Miesel Shipping  negative   \n",
      "1291  2035-04                                Conrad Ltd  negative   \n",
      "1323  2035-04                       Don Limpet Preserve  negative   \n",
      "1376  2035-04                            Ghoti Preserve  negative   \n",
      "1519  2035-04                              May and Sons  negative   \n",
      "1554  2035-04                       Namorna Transit Ltd  negative   \n",
      "1558  2035-04                                 Nemo Reef  negative   \n",
      "1580  2035-04           Oka Seafood Shipping Ges.m.b.H.  negative   \n",
      "1952  2035-05                            Ghoti Preserve  negative   \n",
      "2125  2035-05                                 Nemo Reef  negative   \n",
      "2221  2035-05  ScaniaSeafood Holdings Ltd. Liability Co  negative   \n",
      "2289  2035-05                        V. Miesel Shipping  negative   \n",
      "2353  2035-06                    AguaLeska Transit N.V.  negative   \n",
      "2475  2035-06                       Don Limpet Preserve  negative   \n",
      "2520  2035-06                   FlounderLeska Marine BV  negative   \n",
      "2535  2035-06                            Ghoti Preserve  negative   \n",
      "2690  2035-06                                 Nemo Reef  negative   \n",
      "2784  2035-06  ScaniaSeafood Holdings Ltd. Liability Co  negative   \n",
      "2920  2035-07                         Bailey-Mccullough  negative   \n",
      "3023  2035-07                       Don Limpet Preserve  negative   \n",
      "3030  2035-07              Dry CreekRybachit Marine A/S  negative   \n",
      "3075  2035-07                            Ghoti Preserve  negative   \n",
      "3220  2035-07                                 Nemo Reef  negative   \n",
      "3295  2035-07  ScaniaSeafood Holdings Ltd. Liability Co  negative   \n",
      "3356  2035-07                        V. Miesel Shipping  negative   \n",
      "\n",
      "                   _raw_source  count  \n",
      "118   Centralia Police Reports      2  \n",
      "221   Centralia Police Reports      4  \n",
      "408   Centralia Police Reports      3  \n",
      "497   Centralia Police Reports      5  \n",
      "557   Centralia Police Reports      1  \n",
      "649   Centralia Police Reports      1  \n",
      "764   Centralia Police Reports      3  \n",
      "822   Centralia Police Reports      4  \n",
      "962   Centralia Police Reports     10  \n",
      "984   Centralia Police Reports      6  \n",
      "1002  Centralia Police Reports      2  \n",
      "1083  Centralia Police Reports      2  \n",
      "1137  Centralia Police Reports      1  \n",
      "1291  Centralia Police Reports      7  \n",
      "1323  Centralia Police Reports      6  \n",
      "1376  Centralia Police Reports      4  \n",
      "1519  Centralia Police Reports      4  \n",
      "1554  Centralia Police Reports      4  \n",
      "1558  Centralia Police Reports      8  \n",
      "1580  Centralia Police Reports      4  \n",
      "1952  Centralia Police Reports      1  \n",
      "2125  Centralia Police Reports      1  \n",
      "2221  Centralia Police Reports      2  \n",
      "2289  Centralia Police Reports      1  \n",
      "2353  Centralia Police Reports      1  \n",
      "2475  Centralia Police Reports      1  \n",
      "2520  Centralia Police Reports      3  \n",
      "2535  Centralia Police Reports      2  \n",
      "2690  Centralia Police Reports      2  \n",
      "2784  Centralia Police Reports      1  \n",
      "2920  Centralia Police Reports      1  \n",
      "3023  Centralia Police Reports      3  \n",
      "3030  Centralia Police Reports      3  \n",
      "3075  Centralia Police Reports      3  \n",
      "3220  Centralia Police Reports      3  \n",
      "3295  Centralia Police Reports      5  \n",
      "3356  Centralia Police Reports      2  \n"
     ]
    }
   ],
   "source": [
    "# Maps event_type to (sentiment, target_role)\n",
    "# target_role is either \"target\" or \"source\" — who the sentiment is directed *toward*\n",
    "event_sentiment_map = {\n",
    "    'Event.Applaud': ('positive', 'target'),\n",
    "    'Event.Aid': ('positive', 'target'),\n",
    "    'Event.Invest': ('positive', 'target'),\n",
    "    'Event.Criticize': ('negative', 'target'),\n",
    "    'Event.Convicted': ('negative', 'target'),\n",
    "    'Event.CertificateIssued.Summons': ('negative', 'target'),\n",
    "    'Event.Fishing.OverFishing': ('negative', 'target'),\n",
    "    'Event.CertificateIssued': ('neutral', 'target'),\n",
    "    'Event.Transaction': ('neutral', 'target'),\n",
    "    'Event.Fishing': ('neutral', 'target'),\n",
    "    'Event.Owns.PartiallyOwns': ('neutral', 'target'),\n",
    "    'Event.Communication.Conference': ('neutral', 'source'),  # Maybe seen as source-driven\n",
    "    'Event.Fishing.SustainableFishing': ('positive', 'source'),  # Company taking good action\n",
    "}\n",
    "\n",
    "df_links[['sentiment', 'sentiment_recipient']] = df_links['type'].apply(\n",
    "    lambda x: pd.Series(event_sentiment_map.get(x, ('neutral', 'target')))\n",
    ")\n",
    "\n",
    "df_links['company'] = df_links.apply(\n",
    "    lambda row: row['target'] if row['sentiment_recipient'] == 'target' else row['source'],\n",
    "    axis=1\n",
    ")\n",
    "\n",
    "df_links['_date_added'] = pd.to_datetime(df_links['_date_added'], errors='coerce')\n",
    "\n",
    "df_links['month'] = df_links['_date_added'].dt.to_period('M')\n",
    "sentiment_time = (\n",
    "    df_links\n",
    "    .groupby(['month', 'company', 'sentiment', '_raw_source'])\n",
    "    .size()\n",
    "    .reset_index(name='count')\n",
    ")\n",
    "\n",
    "print(sentiment_time[sentiment_time['_raw_source'] == 'Centralia Police Reports'])"
   ]
  },
  {
   "cell_type": "code",
   "execution_count": null,
   "metadata": {},
   "outputs": [],
   "source": [
    "['Haacklee Herald' 'Lomark Daily' 'The News Buoy'\n",
    " 'South Paackland Police Reports' 'Centralia Police Reports'\n",
    " 'Himark Police Reports' 'Lomark Police Reports'\n",
    " 'Paackland Police Reports' 'Port Grove Police Reports']"
   ]
  },
  {
   "cell_type": "code",
   "execution_count": 44,
   "metadata": {},
   "outputs": [
    {
     "data": {
      "application/vnd.plotly.v1+json": {
       "config": {
        "plotlyServerURL": "https://plot.ly"
       },
       "data": [
        {
         "coloraxis": "coloraxis",
         "hovertemplate": "Month: %{x}<br>News Source: %{y}<br>Sentiment Score: %{z}<extra></extra>",
         "name": "0",
         "type": "heatmap",
         "x": [
          "2035-02",
          "2035-03",
          "2035-04",
          "2035-05",
          "2035-06",
          "2035-07"
         ],
         "xaxis": "x",
         "y": [
          "Haacklee Herald",
          "Lomark Daily",
          "The News Buoy"
         ],
         "yaxis": "y",
         "z": {
          "bdata": "AAAAAAAAAAAAAAAAAAAAAAAAAAAAAAAAAAAAAAAAAAAAAAAAAAAAAAAAAAAAAAAAAAAAAAAAAAAAAAAAAAAAAAAAAAAAAAAAAAAAAAAAAAAAAAAAAAAAAAAAAAAAAAAAAAAAAAAAAAAAAAAAAAAAAAAAAAAAAAAAAAAAAAAAAAAAAAAAAAAAAAAAAAAAAAAA",
          "dtype": "f8",
          "shape": "3, 6"
         }
        }
       ],
       "layout": {
        "coloraxis": {
         "colorbar": {
          "title": {
           "text": "Sentiment Score"
          }
         },
         "colorscale": [
          [
           0,
           "red"
          ],
          [
           0.5,
           "white"
          ],
          [
           1,
           "blue"
          ]
         ]
        },
        "template": {
         "data": {
          "bar": [
           {
            "error_x": {
             "color": "#2a3f5f"
            },
            "error_y": {
             "color": "#2a3f5f"
            },
            "marker": {
             "line": {
              "color": "#E5ECF6",
              "width": 0.5
             },
             "pattern": {
              "fillmode": "overlay",
              "size": 10,
              "solidity": 0.2
             }
            },
            "type": "bar"
           }
          ],
          "barpolar": [
           {
            "marker": {
             "line": {
              "color": "#E5ECF6",
              "width": 0.5
             },
             "pattern": {
              "fillmode": "overlay",
              "size": 10,
              "solidity": 0.2
             }
            },
            "type": "barpolar"
           }
          ],
          "carpet": [
           {
            "aaxis": {
             "endlinecolor": "#2a3f5f",
             "gridcolor": "white",
             "linecolor": "white",
             "minorgridcolor": "white",
             "startlinecolor": "#2a3f5f"
            },
            "baxis": {
             "endlinecolor": "#2a3f5f",
             "gridcolor": "white",
             "linecolor": "white",
             "minorgridcolor": "white",
             "startlinecolor": "#2a3f5f"
            },
            "type": "carpet"
           }
          ],
          "choropleth": [
           {
            "colorbar": {
             "outlinewidth": 0,
             "ticks": ""
            },
            "type": "choropleth"
           }
          ],
          "contour": [
           {
            "colorbar": {
             "outlinewidth": 0,
             "ticks": ""
            },
            "colorscale": [
             [
              0,
              "#0d0887"
             ],
             [
              0.1111111111111111,
              "#46039f"
             ],
             [
              0.2222222222222222,
              "#7201a8"
             ],
             [
              0.3333333333333333,
              "#9c179e"
             ],
             [
              0.4444444444444444,
              "#bd3786"
             ],
             [
              0.5555555555555556,
              "#d8576b"
             ],
             [
              0.6666666666666666,
              "#ed7953"
             ],
             [
              0.7777777777777778,
              "#fb9f3a"
             ],
             [
              0.8888888888888888,
              "#fdca26"
             ],
             [
              1,
              "#f0f921"
             ]
            ],
            "type": "contour"
           }
          ],
          "contourcarpet": [
           {
            "colorbar": {
             "outlinewidth": 0,
             "ticks": ""
            },
            "type": "contourcarpet"
           }
          ],
          "heatmap": [
           {
            "colorbar": {
             "outlinewidth": 0,
             "ticks": ""
            },
            "colorscale": [
             [
              0,
              "#0d0887"
             ],
             [
              0.1111111111111111,
              "#46039f"
             ],
             [
              0.2222222222222222,
              "#7201a8"
             ],
             [
              0.3333333333333333,
              "#9c179e"
             ],
             [
              0.4444444444444444,
              "#bd3786"
             ],
             [
              0.5555555555555556,
              "#d8576b"
             ],
             [
              0.6666666666666666,
              "#ed7953"
             ],
             [
              0.7777777777777778,
              "#fb9f3a"
             ],
             [
              0.8888888888888888,
              "#fdca26"
             ],
             [
              1,
              "#f0f921"
             ]
            ],
            "type": "heatmap"
           }
          ],
          "histogram": [
           {
            "marker": {
             "pattern": {
              "fillmode": "overlay",
              "size": 10,
              "solidity": 0.2
             }
            },
            "type": "histogram"
           }
          ],
          "histogram2d": [
           {
            "colorbar": {
             "outlinewidth": 0,
             "ticks": ""
            },
            "colorscale": [
             [
              0,
              "#0d0887"
             ],
             [
              0.1111111111111111,
              "#46039f"
             ],
             [
              0.2222222222222222,
              "#7201a8"
             ],
             [
              0.3333333333333333,
              "#9c179e"
             ],
             [
              0.4444444444444444,
              "#bd3786"
             ],
             [
              0.5555555555555556,
              "#d8576b"
             ],
             [
              0.6666666666666666,
              "#ed7953"
             ],
             [
              0.7777777777777778,
              "#fb9f3a"
             ],
             [
              0.8888888888888888,
              "#fdca26"
             ],
             [
              1,
              "#f0f921"
             ]
            ],
            "type": "histogram2d"
           }
          ],
          "histogram2dcontour": [
           {
            "colorbar": {
             "outlinewidth": 0,
             "ticks": ""
            },
            "colorscale": [
             [
              0,
              "#0d0887"
             ],
             [
              0.1111111111111111,
              "#46039f"
             ],
             [
              0.2222222222222222,
              "#7201a8"
             ],
             [
              0.3333333333333333,
              "#9c179e"
             ],
             [
              0.4444444444444444,
              "#bd3786"
             ],
             [
              0.5555555555555556,
              "#d8576b"
             ],
             [
              0.6666666666666666,
              "#ed7953"
             ],
             [
              0.7777777777777778,
              "#fb9f3a"
             ],
             [
              0.8888888888888888,
              "#fdca26"
             ],
             [
              1,
              "#f0f921"
             ]
            ],
            "type": "histogram2dcontour"
           }
          ],
          "mesh3d": [
           {
            "colorbar": {
             "outlinewidth": 0,
             "ticks": ""
            },
            "type": "mesh3d"
           }
          ],
          "parcoords": [
           {
            "line": {
             "colorbar": {
              "outlinewidth": 0,
              "ticks": ""
             }
            },
            "type": "parcoords"
           }
          ],
          "pie": [
           {
            "automargin": true,
            "type": "pie"
           }
          ],
          "scatter": [
           {
            "fillpattern": {
             "fillmode": "overlay",
             "size": 10,
             "solidity": 0.2
            },
            "type": "scatter"
           }
          ],
          "scatter3d": [
           {
            "line": {
             "colorbar": {
              "outlinewidth": 0,
              "ticks": ""
             }
            },
            "marker": {
             "colorbar": {
              "outlinewidth": 0,
              "ticks": ""
             }
            },
            "type": "scatter3d"
           }
          ],
          "scattercarpet": [
           {
            "marker": {
             "colorbar": {
              "outlinewidth": 0,
              "ticks": ""
             }
            },
            "type": "scattercarpet"
           }
          ],
          "scattergeo": [
           {
            "marker": {
             "colorbar": {
              "outlinewidth": 0,
              "ticks": ""
             }
            },
            "type": "scattergeo"
           }
          ],
          "scattergl": [
           {
            "marker": {
             "colorbar": {
              "outlinewidth": 0,
              "ticks": ""
             }
            },
            "type": "scattergl"
           }
          ],
          "scattermap": [
           {
            "marker": {
             "colorbar": {
              "outlinewidth": 0,
              "ticks": ""
             }
            },
            "type": "scattermap"
           }
          ],
          "scattermapbox": [
           {
            "marker": {
             "colorbar": {
              "outlinewidth": 0,
              "ticks": ""
             }
            },
            "type": "scattermapbox"
           }
          ],
          "scatterpolar": [
           {
            "marker": {
             "colorbar": {
              "outlinewidth": 0,
              "ticks": ""
             }
            },
            "type": "scatterpolar"
           }
          ],
          "scatterpolargl": [
           {
            "marker": {
             "colorbar": {
              "outlinewidth": 0,
              "ticks": ""
             }
            },
            "type": "scatterpolargl"
           }
          ],
          "scatterternary": [
           {
            "marker": {
             "colorbar": {
              "outlinewidth": 0,
              "ticks": ""
             }
            },
            "type": "scatterternary"
           }
          ],
          "surface": [
           {
            "colorbar": {
             "outlinewidth": 0,
             "ticks": ""
            },
            "colorscale": [
             [
              0,
              "#0d0887"
             ],
             [
              0.1111111111111111,
              "#46039f"
             ],
             [
              0.2222222222222222,
              "#7201a8"
             ],
             [
              0.3333333333333333,
              "#9c179e"
             ],
             [
              0.4444444444444444,
              "#bd3786"
             ],
             [
              0.5555555555555556,
              "#d8576b"
             ],
             [
              0.6666666666666666,
              "#ed7953"
             ],
             [
              0.7777777777777778,
              "#fb9f3a"
             ],
             [
              0.8888888888888888,
              "#fdca26"
             ],
             [
              1,
              "#f0f921"
             ]
            ],
            "type": "surface"
           }
          ],
          "table": [
           {
            "cells": {
             "fill": {
              "color": "#EBF0F8"
             },
             "line": {
              "color": "white"
             }
            },
            "header": {
             "fill": {
              "color": "#C8D4E3"
             },
             "line": {
              "color": "white"
             }
            },
            "type": "table"
           }
          ]
         },
         "layout": {
          "annotationdefaults": {
           "arrowcolor": "#2a3f5f",
           "arrowhead": 0,
           "arrowwidth": 1
          },
          "autotypenumbers": "strict",
          "coloraxis": {
           "colorbar": {
            "outlinewidth": 0,
            "ticks": ""
           }
          },
          "colorscale": {
           "diverging": [
            [
             0,
             "#8e0152"
            ],
            [
             0.1,
             "#c51b7d"
            ],
            [
             0.2,
             "#de77ae"
            ],
            [
             0.3,
             "#f1b6da"
            ],
            [
             0.4,
             "#fde0ef"
            ],
            [
             0.5,
             "#f7f7f7"
            ],
            [
             0.6,
             "#e6f5d0"
            ],
            [
             0.7,
             "#b8e186"
            ],
            [
             0.8,
             "#7fbc41"
            ],
            [
             0.9,
             "#4d9221"
            ],
            [
             1,
             "#276419"
            ]
           ],
           "sequential": [
            [
             0,
             "#0d0887"
            ],
            [
             0.1111111111111111,
             "#46039f"
            ],
            [
             0.2222222222222222,
             "#7201a8"
            ],
            [
             0.3333333333333333,
             "#9c179e"
            ],
            [
             0.4444444444444444,
             "#bd3786"
            ],
            [
             0.5555555555555556,
             "#d8576b"
            ],
            [
             0.6666666666666666,
             "#ed7953"
            ],
            [
             0.7777777777777778,
             "#fb9f3a"
            ],
            [
             0.8888888888888888,
             "#fdca26"
            ],
            [
             1,
             "#f0f921"
            ]
           ],
           "sequentialminus": [
            [
             0,
             "#0d0887"
            ],
            [
             0.1111111111111111,
             "#46039f"
            ],
            [
             0.2222222222222222,
             "#7201a8"
            ],
            [
             0.3333333333333333,
             "#9c179e"
            ],
            [
             0.4444444444444444,
             "#bd3786"
            ],
            [
             0.5555555555555556,
             "#d8576b"
            ],
            [
             0.6666666666666666,
             "#ed7953"
            ],
            [
             0.7777777777777778,
             "#fb9f3a"
            ],
            [
             0.8888888888888888,
             "#fdca26"
            ],
            [
             1,
             "#f0f921"
            ]
           ]
          },
          "colorway": [
           "#636efa",
           "#EF553B",
           "#00cc96",
           "#ab63fa",
           "#FFA15A",
           "#19d3f3",
           "#FF6692",
           "#B6E880",
           "#FF97FF",
           "#FECB52"
          ],
          "font": {
           "color": "#2a3f5f"
          },
          "geo": {
           "bgcolor": "white",
           "lakecolor": "white",
           "landcolor": "#E5ECF6",
           "showlakes": true,
           "showland": true,
           "subunitcolor": "white"
          },
          "hoverlabel": {
           "align": "left"
          },
          "hovermode": "closest",
          "mapbox": {
           "style": "light"
          },
          "paper_bgcolor": "white",
          "plot_bgcolor": "#E5ECF6",
          "polar": {
           "angularaxis": {
            "gridcolor": "white",
            "linecolor": "white",
            "ticks": ""
           },
           "bgcolor": "#E5ECF6",
           "radialaxis": {
            "gridcolor": "white",
            "linecolor": "white",
            "ticks": ""
           }
          },
          "scene": {
           "xaxis": {
            "backgroundcolor": "#E5ECF6",
            "gridcolor": "white",
            "gridwidth": 2,
            "linecolor": "white",
            "showbackground": true,
            "ticks": "",
            "zerolinecolor": "white"
           },
           "yaxis": {
            "backgroundcolor": "#E5ECF6",
            "gridcolor": "white",
            "gridwidth": 2,
            "linecolor": "white",
            "showbackground": true,
            "ticks": "",
            "zerolinecolor": "white"
           },
           "zaxis": {
            "backgroundcolor": "#E5ECF6",
            "gridcolor": "white",
            "gridwidth": 2,
            "linecolor": "white",
            "showbackground": true,
            "ticks": "",
            "zerolinecolor": "white"
           }
          },
          "shapedefaults": {
           "line": {
            "color": "#2a3f5f"
           }
          },
          "ternary": {
           "aaxis": {
            "gridcolor": "white",
            "linecolor": "white",
            "ticks": ""
           },
           "baxis": {
            "gridcolor": "white",
            "linecolor": "white",
            "ticks": ""
           },
           "bgcolor": "#E5ECF6",
           "caxis": {
            "gridcolor": "white",
            "linecolor": "white",
            "ticks": ""
           }
          },
          "title": {
           "x": 0.05
          },
          "xaxis": {
           "automargin": true,
           "gridcolor": "white",
           "linecolor": "white",
           "ticks": "",
           "title": {
            "standoff": 15
           },
           "zerolinecolor": "white",
           "zerolinewidth": 2
          },
          "yaxis": {
           "automargin": true,
           "gridcolor": "white",
           "linecolor": "white",
           "ticks": "",
           "title": {
            "standoff": 15
           },
           "zerolinecolor": "white",
           "zerolinewidth": 2
          }
         }
        },
        "title": {
         "text": "Sentiment Toward Exxon Over Time (by Source)"
        },
        "xaxis": {
         "anchor": "y",
         "domain": [
          0,
          1
         ],
         "side": "top",
         "title": {
          "text": "Month"
         }
        },
        "yaxis": {
         "anchor": "x",
         "autorange": "reversed",
         "domain": [
          0,
          1
         ],
         "title": {
          "text": "News Source"
         }
        }
       }
      }
     },
     "metadata": {},
     "output_type": "display_data"
    }
   ],
   "source": [
    "\n",
    "# Step 1: Map sentiment to score\n",
    "sentiment_score_map = {'negative': -1, 'neutral': 0, 'positive': 1}\n",
    "df_filtered = sentiment_time[sentiment_time['company'] == 'Allen-Weiss'].copy()\n",
    "df_filtered['score'] = df_filtered['sentiment'].map(sentiment_score_map)\n",
    "\n",
    "# Step 2: Group and convert 'month'\n",
    "df_filtered['month'] = df_filtered['month'].astype(str)  # or .dt.to_timestamp()\n",
    "df_heat = df_filtered.groupby(['month', '_raw_source'])['score'].mean().reset_index()\n",
    "\n",
    "# Step 3: Pivot for heatmap\n",
    "heatmap_data = df_heat.pivot(index='_raw_source', columns='month', values='score').fillna(0)\n",
    "\n",
    "# Step 4: Plot\n",
    "import plotly.express as px\n",
    "\n",
    "fig = px.imshow(\n",
    "    heatmap_data,\n",
    "    color_continuous_scale=[(0, 'red'), (0.5, 'white'), (1, 'blue')],\n",
    "    aspect='auto',\n",
    "    labels=dict(x='Month', y='News Source', color='Sentiment Score'),\n",
    "    title=\"Sentiment Toward Exxon Over Time (by Source)\"\n",
    ")\n",
    "\n",
    "fig.update_xaxes(side=\"top\")\n",
    "fig.show()"
   ]
  },
  {
   "cell_type": "code",
   "execution_count": 26,
   "metadata": {},
   "outputs": [
    {
     "name": "stdout",
     "output_type": "stream",
     "text": [
      "Empty DataFrame\n",
      "Columns: [type, _date_added, _raw_source, _algorithm, _last_edited_by, _last_edited_date, _articleid, source, target, key, sentiment, sentiment_recipient, company, month, source_type, target_type]\n",
      "Index: []\n",
      "Empty DataFrame\n",
      "Columns: [month, target, sentiment, count]\n",
      "Index: []\n"
     ]
    }
   ],
   "source": [
    "# Merge source type\n",
    "df_links = df_links.merge(\n",
    "    df_nodes[['id', 'type']].rename(columns={'id': 'source', 'type': 'source_type'}),\n",
    "    on='source',\n",
    "    how='left'\n",
    ")\n",
    "\n",
    "# Merge target type\n",
    "df_links = df_links.merge(\n",
    "    df_nodes[['id', 'type']].rename(columns={'id': 'target', 'type': 'target_type'}),\n",
    "    on='target',\n",
    "    how='left'\n",
    ")\n",
    "\n",
    "media_ngos = ['Entity.Organization.Media']\n",
    "companies = [\n",
    "    'Entity.Organization.FishingCompany',\n",
    "    'Entity.Organization.Company',\n",
    "    'Entity.Organization.LogisticsCompany'\n",
    "]\n",
    "\n",
    "# Keep only relevant sentiment relationships\n",
    "df_filtered = df_links[\n",
    "    df_links['source_type'].isin(media_ngos) &\n",
    "    df_links['target_type'].isin(companies)\n",
    "]\n",
    "print(df_filtered)\n",
    "df_filtered['sentiment'] = df_filtered['type'].map(event_sentiment_map)\n",
    "\n",
    "df_filtered['_date_added'] = pd.to_datetime(df_filtered['_date_added'], errors='coerce')\n",
    "df_filtered['month'] = df_filtered['_date_added'].dt.to_period('M')\n",
    "\n",
    "sentiment_over_time = df_filtered.groupby(['month', 'target', 'sentiment']).size().reset_index(name='count')\n",
    "print(sentiment_over_time)"
   ]
  },
  {
   "cell_type": "code",
   "execution_count": 7,
   "metadata": {},
   "outputs": [
    {
     "data": {
      "application/vnd.plotly.v1+json": {
       "config": {
        "plotlyServerURL": "https://plot.ly"
       },
       "data": [],
       "layout": {
        "barmode": "group",
        "legend": {
         "tracegroupgap": 0
        },
        "template": {
         "data": {
          "bar": [
           {
            "error_x": {
             "color": "#2a3f5f"
            },
            "error_y": {
             "color": "#2a3f5f"
            },
            "marker": {
             "line": {
              "color": "#E5ECF6",
              "width": 0.5
             },
             "pattern": {
              "fillmode": "overlay",
              "size": 10,
              "solidity": 0.2
             }
            },
            "type": "bar"
           }
          ],
          "barpolar": [
           {
            "marker": {
             "line": {
              "color": "#E5ECF6",
              "width": 0.5
             },
             "pattern": {
              "fillmode": "overlay",
              "size": 10,
              "solidity": 0.2
             }
            },
            "type": "barpolar"
           }
          ],
          "carpet": [
           {
            "aaxis": {
             "endlinecolor": "#2a3f5f",
             "gridcolor": "white",
             "linecolor": "white",
             "minorgridcolor": "white",
             "startlinecolor": "#2a3f5f"
            },
            "baxis": {
             "endlinecolor": "#2a3f5f",
             "gridcolor": "white",
             "linecolor": "white",
             "minorgridcolor": "white",
             "startlinecolor": "#2a3f5f"
            },
            "type": "carpet"
           }
          ],
          "choropleth": [
           {
            "colorbar": {
             "outlinewidth": 0,
             "ticks": ""
            },
            "type": "choropleth"
           }
          ],
          "contour": [
           {
            "colorbar": {
             "outlinewidth": 0,
             "ticks": ""
            },
            "colorscale": [
             [
              0,
              "#0d0887"
             ],
             [
              0.1111111111111111,
              "#46039f"
             ],
             [
              0.2222222222222222,
              "#7201a8"
             ],
             [
              0.3333333333333333,
              "#9c179e"
             ],
             [
              0.4444444444444444,
              "#bd3786"
             ],
             [
              0.5555555555555556,
              "#d8576b"
             ],
             [
              0.6666666666666666,
              "#ed7953"
             ],
             [
              0.7777777777777778,
              "#fb9f3a"
             ],
             [
              0.8888888888888888,
              "#fdca26"
             ],
             [
              1,
              "#f0f921"
             ]
            ],
            "type": "contour"
           }
          ],
          "contourcarpet": [
           {
            "colorbar": {
             "outlinewidth": 0,
             "ticks": ""
            },
            "type": "contourcarpet"
           }
          ],
          "heatmap": [
           {
            "colorbar": {
             "outlinewidth": 0,
             "ticks": ""
            },
            "colorscale": [
             [
              0,
              "#0d0887"
             ],
             [
              0.1111111111111111,
              "#46039f"
             ],
             [
              0.2222222222222222,
              "#7201a8"
             ],
             [
              0.3333333333333333,
              "#9c179e"
             ],
             [
              0.4444444444444444,
              "#bd3786"
             ],
             [
              0.5555555555555556,
              "#d8576b"
             ],
             [
              0.6666666666666666,
              "#ed7953"
             ],
             [
              0.7777777777777778,
              "#fb9f3a"
             ],
             [
              0.8888888888888888,
              "#fdca26"
             ],
             [
              1,
              "#f0f921"
             ]
            ],
            "type": "heatmap"
           }
          ],
          "histogram": [
           {
            "marker": {
             "pattern": {
              "fillmode": "overlay",
              "size": 10,
              "solidity": 0.2
             }
            },
            "type": "histogram"
           }
          ],
          "histogram2d": [
           {
            "colorbar": {
             "outlinewidth": 0,
             "ticks": ""
            },
            "colorscale": [
             [
              0,
              "#0d0887"
             ],
             [
              0.1111111111111111,
              "#46039f"
             ],
             [
              0.2222222222222222,
              "#7201a8"
             ],
             [
              0.3333333333333333,
              "#9c179e"
             ],
             [
              0.4444444444444444,
              "#bd3786"
             ],
             [
              0.5555555555555556,
              "#d8576b"
             ],
             [
              0.6666666666666666,
              "#ed7953"
             ],
             [
              0.7777777777777778,
              "#fb9f3a"
             ],
             [
              0.8888888888888888,
              "#fdca26"
             ],
             [
              1,
              "#f0f921"
             ]
            ],
            "type": "histogram2d"
           }
          ],
          "histogram2dcontour": [
           {
            "colorbar": {
             "outlinewidth": 0,
             "ticks": ""
            },
            "colorscale": [
             [
              0,
              "#0d0887"
             ],
             [
              0.1111111111111111,
              "#46039f"
             ],
             [
              0.2222222222222222,
              "#7201a8"
             ],
             [
              0.3333333333333333,
              "#9c179e"
             ],
             [
              0.4444444444444444,
              "#bd3786"
             ],
             [
              0.5555555555555556,
              "#d8576b"
             ],
             [
              0.6666666666666666,
              "#ed7953"
             ],
             [
              0.7777777777777778,
              "#fb9f3a"
             ],
             [
              0.8888888888888888,
              "#fdca26"
             ],
             [
              1,
              "#f0f921"
             ]
            ],
            "type": "histogram2dcontour"
           }
          ],
          "mesh3d": [
           {
            "colorbar": {
             "outlinewidth": 0,
             "ticks": ""
            },
            "type": "mesh3d"
           }
          ],
          "parcoords": [
           {
            "line": {
             "colorbar": {
              "outlinewidth": 0,
              "ticks": ""
             }
            },
            "type": "parcoords"
           }
          ],
          "pie": [
           {
            "automargin": true,
            "type": "pie"
           }
          ],
          "scatter": [
           {
            "fillpattern": {
             "fillmode": "overlay",
             "size": 10,
             "solidity": 0.2
            },
            "type": "scatter"
           }
          ],
          "scatter3d": [
           {
            "line": {
             "colorbar": {
              "outlinewidth": 0,
              "ticks": ""
             }
            },
            "marker": {
             "colorbar": {
              "outlinewidth": 0,
              "ticks": ""
             }
            },
            "type": "scatter3d"
           }
          ],
          "scattercarpet": [
           {
            "marker": {
             "colorbar": {
              "outlinewidth": 0,
              "ticks": ""
             }
            },
            "type": "scattercarpet"
           }
          ],
          "scattergeo": [
           {
            "marker": {
             "colorbar": {
              "outlinewidth": 0,
              "ticks": ""
             }
            },
            "type": "scattergeo"
           }
          ],
          "scattergl": [
           {
            "marker": {
             "colorbar": {
              "outlinewidth": 0,
              "ticks": ""
             }
            },
            "type": "scattergl"
           }
          ],
          "scattermap": [
           {
            "marker": {
             "colorbar": {
              "outlinewidth": 0,
              "ticks": ""
             }
            },
            "type": "scattermap"
           }
          ],
          "scattermapbox": [
           {
            "marker": {
             "colorbar": {
              "outlinewidth": 0,
              "ticks": ""
             }
            },
            "type": "scattermapbox"
           }
          ],
          "scatterpolar": [
           {
            "marker": {
             "colorbar": {
              "outlinewidth": 0,
              "ticks": ""
             }
            },
            "type": "scatterpolar"
           }
          ],
          "scatterpolargl": [
           {
            "marker": {
             "colorbar": {
              "outlinewidth": 0,
              "ticks": ""
             }
            },
            "type": "scatterpolargl"
           }
          ],
          "scatterternary": [
           {
            "marker": {
             "colorbar": {
              "outlinewidth": 0,
              "ticks": ""
             }
            },
            "type": "scatterternary"
           }
          ],
          "surface": [
           {
            "colorbar": {
             "outlinewidth": 0,
             "ticks": ""
            },
            "colorscale": [
             [
              0,
              "#0d0887"
             ],
             [
              0.1111111111111111,
              "#46039f"
             ],
             [
              0.2222222222222222,
              "#7201a8"
             ],
             [
              0.3333333333333333,
              "#9c179e"
             ],
             [
              0.4444444444444444,
              "#bd3786"
             ],
             [
              0.5555555555555556,
              "#d8576b"
             ],
             [
              0.6666666666666666,
              "#ed7953"
             ],
             [
              0.7777777777777778,
              "#fb9f3a"
             ],
             [
              0.8888888888888888,
              "#fdca26"
             ],
             [
              1,
              "#f0f921"
             ]
            ],
            "type": "surface"
           }
          ],
          "table": [
           {
            "cells": {
             "fill": {
              "color": "#EBF0F8"
             },
             "line": {
              "color": "white"
             }
            },
            "header": {
             "fill": {
              "color": "#C8D4E3"
             },
             "line": {
              "color": "white"
             }
            },
            "type": "table"
           }
          ]
         },
         "layout": {
          "annotationdefaults": {
           "arrowcolor": "#2a3f5f",
           "arrowhead": 0,
           "arrowwidth": 1
          },
          "autotypenumbers": "strict",
          "coloraxis": {
           "colorbar": {
            "outlinewidth": 0,
            "ticks": ""
           }
          },
          "colorscale": {
           "diverging": [
            [
             0,
             "#8e0152"
            ],
            [
             0.1,
             "#c51b7d"
            ],
            [
             0.2,
             "#de77ae"
            ],
            [
             0.3,
             "#f1b6da"
            ],
            [
             0.4,
             "#fde0ef"
            ],
            [
             0.5,
             "#f7f7f7"
            ],
            [
             0.6,
             "#e6f5d0"
            ],
            [
             0.7,
             "#b8e186"
            ],
            [
             0.8,
             "#7fbc41"
            ],
            [
             0.9,
             "#4d9221"
            ],
            [
             1,
             "#276419"
            ]
           ],
           "sequential": [
            [
             0,
             "#0d0887"
            ],
            [
             0.1111111111111111,
             "#46039f"
            ],
            [
             0.2222222222222222,
             "#7201a8"
            ],
            [
             0.3333333333333333,
             "#9c179e"
            ],
            [
             0.4444444444444444,
             "#bd3786"
            ],
            [
             0.5555555555555556,
             "#d8576b"
            ],
            [
             0.6666666666666666,
             "#ed7953"
            ],
            [
             0.7777777777777778,
             "#fb9f3a"
            ],
            [
             0.8888888888888888,
             "#fdca26"
            ],
            [
             1,
             "#f0f921"
            ]
           ],
           "sequentialminus": [
            [
             0,
             "#0d0887"
            ],
            [
             0.1111111111111111,
             "#46039f"
            ],
            [
             0.2222222222222222,
             "#7201a8"
            ],
            [
             0.3333333333333333,
             "#9c179e"
            ],
            [
             0.4444444444444444,
             "#bd3786"
            ],
            [
             0.5555555555555556,
             "#d8576b"
            ],
            [
             0.6666666666666666,
             "#ed7953"
            ],
            [
             0.7777777777777778,
             "#fb9f3a"
            ],
            [
             0.8888888888888888,
             "#fdca26"
            ],
            [
             1,
             "#f0f921"
            ]
           ]
          },
          "colorway": [
           "#636efa",
           "#EF553B",
           "#00cc96",
           "#ab63fa",
           "#FFA15A",
           "#19d3f3",
           "#FF6692",
           "#B6E880",
           "#FF97FF",
           "#FECB52"
          ],
          "font": {
           "color": "#2a3f5f"
          },
          "geo": {
           "bgcolor": "white",
           "lakecolor": "white",
           "landcolor": "#E5ECF6",
           "showlakes": true,
           "showland": true,
           "subunitcolor": "white"
          },
          "hoverlabel": {
           "align": "left"
          },
          "hovermode": "closest",
          "mapbox": {
           "style": "light"
          },
          "paper_bgcolor": "white",
          "plot_bgcolor": "#E5ECF6",
          "polar": {
           "angularaxis": {
            "gridcolor": "white",
            "linecolor": "white",
            "ticks": ""
           },
           "bgcolor": "#E5ECF6",
           "radialaxis": {
            "gridcolor": "white",
            "linecolor": "white",
            "ticks": ""
           }
          },
          "scene": {
           "xaxis": {
            "backgroundcolor": "#E5ECF6",
            "gridcolor": "white",
            "gridwidth": 2,
            "linecolor": "white",
            "showbackground": true,
            "ticks": "",
            "zerolinecolor": "white"
           },
           "yaxis": {
            "backgroundcolor": "#E5ECF6",
            "gridcolor": "white",
            "gridwidth": 2,
            "linecolor": "white",
            "showbackground": true,
            "ticks": "",
            "zerolinecolor": "white"
           },
           "zaxis": {
            "backgroundcolor": "#E5ECF6",
            "gridcolor": "white",
            "gridwidth": 2,
            "linecolor": "white",
            "showbackground": true,
            "ticks": "",
            "zerolinecolor": "white"
           }
          },
          "shapedefaults": {
           "line": {
            "color": "#2a3f5f"
           }
          },
          "ternary": {
           "aaxis": {
            "gridcolor": "white",
            "linecolor": "white",
            "ticks": ""
           },
           "baxis": {
            "gridcolor": "white",
            "linecolor": "white",
            "ticks": ""
           },
           "bgcolor": "#E5ECF6",
           "caxis": {
            "gridcolor": "white",
            "linecolor": "white",
            "ticks": ""
           }
          },
          "title": {
           "x": 0.05
          },
          "xaxis": {
           "automargin": true,
           "gridcolor": "white",
           "linecolor": "white",
           "ticks": "",
           "title": {
            "standoff": 15
           },
           "zerolinecolor": "white",
           "zerolinewidth": 2
          },
          "yaxis": {
           "automargin": true,
           "gridcolor": "white",
           "linecolor": "white",
           "ticks": "",
           "title": {
            "standoff": 15
           },
           "zerolinecolor": "white",
           "zerolinewidth": 2
          }
         }
        },
        "title": {
         "text": "Media/NGO Sentiment Toward Companies Over Time"
        },
        "xaxis": {
         "anchor": "y",
         "domain": [
          0,
          1
         ],
         "title": {
          "text": "month"
         }
        },
        "yaxis": {
         "anchor": "x",
         "domain": [
          0,
          1
         ],
         "title": {
          "text": "count"
         }
        }
       }
      }
     },
     "metadata": {},
     "output_type": "display_data"
    }
   ],
   "source": [
    "import plotly.express as px\n",
    "\n",
    "fig = px.bar(\n",
    "    sentiment_over_time,\n",
    "    x='month',\n",
    "    y='count',\n",
    "    color='sentiment',\n",
    "    facet_col='target',\n",
    "    barmode='group',\n",
    "    title='Media/NGO Sentiment Toward Companies Over Time'\n",
    ")\n",
    "fig.show()"
   ]
  },
  {
   "cell_type": "code",
   "execution_count": null,
   "metadata": {},
   "outputs": [
    {
     "name": "stdout",
     "output_type": "stream",
     "text": [
      "                           type          _date_added _raw_source _algorithm  \\\n",
      "12499  Event.Owns.PartiallyOwns  2035-02-22T07:00:00         NaN        NaN   \n",
      "12614  Event.Owns.PartiallyOwns  2035-03-03T23:00:00         NaN        NaN   \n",
      "\n",
      "      _last_edited_by _last_edited_date _articleid       source      target  \\\n",
      "12499             NaN               NaN        NaN  Fabio Conti  Jacobs PLC   \n",
      "12614             NaN               NaN        NaN  Eun-Ji Park  Jacobs PLC   \n",
      "\n",
      "       key  \n",
      "12499    0  \n",
      "12614    0  \n",
      "type\n",
      "Event.Owns.PartiallyOwns    2\n",
      "Name: count, dtype: int64\n"
     ]
    }
   ],
   "source": [
    "# Replace 'your_file.json' with your actual file path\n",
    "with open('mc1.json', 'r') as f:\n",
    "    data = json.load(f)\n",
    "\n",
    "# Extract the nodes list\n",
    "nodes = data[\"nodes\"]\n",
    "links = data[\"links\"]\n",
    "\n",
    "# Create a DataFrame from nodes\n",
    "df_nodes = pd.DataFrame(nodes)\n",
    "df_links = pd.DataFrame(links)\n",
    "\n",
    "filtered_df = df_links[df_links['target'] == 'Smith-Hull'] # Add callback from scatter\n",
    "\n",
    "df_baseline = filtered_df[filtered_df['_algorithm'] == 'BassLine']\n",
    "df_shadgpt = filtered_df[filtered_df['_algorithm'] == 'ShadGPT']\n",
    "\n",
    "type_counts1 = df_baseline['type'].value_counts()\n",
    "type_counts2 = df_shadgpt['type'].value_counts()\n",
    "\n",
    "print(type_counts1)\n",
    "print(type_counts2)"
   ]
  }
 ],
 "metadata": {
  "kernelspec": {
   "display_name": "venv",
   "language": "python",
   "name": "python3"
  },
  "language_info": {
   "codemirror_mode": {
    "name": "ipython",
    "version": 3
   },
   "file_extension": ".py",
   "mimetype": "text/x-python",
   "name": "python",
   "nbconvert_exporter": "python",
   "pygments_lexer": "ipython3",
   "version": "3.11.5"
  }
 },
 "nbformat": 4,
 "nbformat_minor": 2
}
